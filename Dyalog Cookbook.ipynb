{
 "cells": [
  {
   "cell_type": "markdown",
   "metadata": {},
   "source": [
    "## Dyalog recipes\n",
    "\n",
    "To see a correct render of this notebook: https://nbviewer.jupyter.org/github/xpqz/DyalogCookbook/blob/master/Dyalog%20Cookbook.ipynb\n",
    "\n",
    "This notebook contains my notes from learning APL. A lot of these has come from helpful discussions on the APL Orchard Stack Exchange chatroom.\n",
    "\n",
    "APL allows you to configure the index origin, which is to say if arrays and vectors start at index 0 or 1. The default is 1, and in this notebook this is what we use, to avoid confusion. If you're used to 0-indexed languages (C, Java, Python etc) this may grate, but in APL it soon feels natural."
   ]
  },
  {
   "cell_type": "code",
   "execution_count": 1,
   "metadata": {},
   "outputs": [],
   "source": [
    "⎕IO←1 ⍝ one-based indexing (this is the default, but let's be explicit)\n",
    "]box on -style=max -trains=tree -fns=on ⍝ Pass all output through DISPLAY"
   ]
  },
  {
   "cell_type": "markdown",
   "metadata": {},
   "source": [
    "### Regular expressions\n",
    "\n",
    "Dyalog supports the full PCRE syntax via ⎕S and ⎕R\n",
    "\n",
    "See http://archive.vector.org.uk/art10500870"
   ]
  },
  {
   "cell_type": "code",
   "execution_count": 3,
   "metadata": {},
   "outputs": [
    {
     "data": {
      "text/html": [
       "<span style=\"white-space:pre; font-family: monospace\">┌→───────────────────────────────────┐\n",
       "│ ┌→──┐ ┌→──┐ ┌→──┐ ┌→─┐ ┌→──┐ ┌→──┐ │\n",
       "│ │the│ │cat│ │sat│ │on│ │the│ │mat│ │\n",
       "│ └───┘ └───┘ └───┘ └──┘ └───┘ └───┘ │\n",
       "└∊───────────────────────────────────┘\n",
       "</span>"
      ]
     },
     "execution_count": 3,
     "metadata": {},
     "output_type": "execute_result"
    }
   ],
   "source": [
    "⍝ Get all words. The config-string '&' returns the matched string.\n",
    "'\\w+' ⎕S '&' ⊣ 'the cat sat on the mat'"
   ]
  },
  {
   "cell_type": "code",
   "execution_count": 4,
   "metadata": {},
   "outputs": [
    {
     "data": {
      "text/html": [
       "<span style=\"white-space:pre; font-family: monospace\">┌→───────────────────────────────────┐\n",
       "│ ┌→──┐ ┌→──┐ ┌→──┐ ┌→─┐ ┌→──┐ ┌→──┐ │\n",
       "│ │eht│ │tac│ │tas│ │no│ │eht│ │tam│ │\n",
       "│ └───┘ └───┘ └───┘ └──┘ └───┘ └───┘ │\n",
       "└∊───────────────────────────────────┘\n",
       "</span>"
      ]
     },
     "execution_count": 4,
     "metadata": {},
     "output_type": "execute_result"
    }
   ],
   "source": [
    "⍝ Reverse each word\n",
    "'\\w+' ⎕S {⌽⍵.Match} ⊣ 'the cat sat on the mat'"
   ]
  },
  {
   "cell_type": "markdown",
   "metadata": {},
   "source": [
    "Note that ⎕S is a dyadic function that returns a function. Left arg is always the pattern. Right arg is either a transformation function or a config string."
   ]
  },
  {
   "cell_type": "code",
   "execution_count": 5,
   "metadata": {},
   "outputs": [
    {
     "data": {
      "text/html": [
       "<span style=\"white-space:pre; font-family: monospace\">┌→──────────┐\n",
       "│ ┌→──────┐ │\n",
       "│ │abriole│ │\n",
       "│ └───────┘ │\n",
       "└∊──────────┘\n",
       "</span>"
      ]
     },
     "execution_count": 5,
     "metadata": {},
     "output_type": "execute_result"
    }
   ],
   "source": [
    "⍝ Capture groups\n",
    "'c([^t]+)t' ⎕S '\\1' ⊣ 'The cabriolet parked on the road'"
   ]
  },
  {
   "cell_type": "markdown",
   "metadata": {},
   "source": [
    "The config string is used to specify the capture group following Perl conventions, \\1, \\2 etc. To get all captured groups we have to do a little dance:"
   ]
  },
  {
   "cell_type": "code",
   "execution_count": 2,
   "metadata": {},
   "outputs": [
    {
     "data": {
      "text/html": [
       "<span style=\"white-space:pre; font-family: monospace\">┌─────┬───┬───┐\n",
       "│hello│123│456│\n",
       "└─────┴───┴───┘\n",
       "</span>"
      ]
     },
     "execution_count": 2,
     "metadata": {},
     "output_type": "execute_result"
    }
   ],
   "source": [
    "⊃,/'(hello|goodbye)\\s+(\\d+)\\s+(\\d+)'⎕S{⍵.(1↓Lengths↑¨Offsets↓¨⊂Block)} ⊢ 'hello 123 456'"
   ]
  },
  {
   "cell_type": "markdown",
   "metadata": {},
   "source": [
    "We can make that into a handy function:"
   ]
  },
  {
   "cell_type": "code",
   "execution_count": 6,
   "metadata": {},
   "outputs": [],
   "source": [
    "RegexGroups←{⊃,/⍺⎕S{⍵.(1↓Lengths↑¨Offsets↓¨⊂Block)} ⊢ ⍵}"
   ]
  },
  {
   "cell_type": "markdown",
   "metadata": {},
   "source": [
    "The ⎕R function does a replace:"
   ]
  },
  {
   "cell_type": "code",
   "execution_count": 7,
   "metadata": {},
   "outputs": [
    {
     "data": {
      "text/html": [
       "<span style=\"white-space:pre; font-family: monospace\">┌→──────────┐\n",
       "│mSSSSSSSppS│\n",
       "└───────────┘\n",
       "</span>"
      ]
     },
     "execution_count": 7,
     "metadata": {},
     "output_type": "execute_result"
    }
   ],
   "source": [
    "'[si]'⎕R'S' ⊢ 'mississippi'"
   ]
  },
  {
   "cell_type": "code",
   "execution_count": 8,
   "metadata": {},
   "outputs": [
    {
     "data": {
      "text/html": [
       "<span style=\"white-space:pre; font-family: monospace\">┌→──────────┐\n",
       "│miSSissippi│\n",
       "└───────────┘\n",
       "</span>"
      ]
     },
     "execution_count": 8,
     "metadata": {},
     "output_type": "execute_result"
    }
   ],
   "source": [
    "'s'⎕R'S'⍠'ML' 2 ⊢ 'mississippi' ⍝ Set the \"match limit\" to 2, with the variant operator ⍠"
   ]
  },
  {
   "cell_type": "code",
   "execution_count": 9,
   "metadata": {},
   "outputs": [
    {
     "data": {
      "text/html": [
       "<span style=\"white-space:pre; font-family: monospace\">┌→────────────────────────────┐\n",
       "│HELLO ALL PEOPLE IN THE WORLD│\n",
       "└─────────────────────────────┘\n",
       "</span>"
      ]
     },
     "execution_count": 9,
     "metadata": {},
     "output_type": "execute_result"
    }
   ],
   "source": [
    "{⊃('.+' ⎕S '\\u0')⍵} 'Hello All People in The World' ⍝ Upper-case a string"
   ]
  },
  {
   "cell_type": "markdown",
   "metadata": {},
   "source": [
    "Here's a dfn that takes a regex and a string and splits the latter on the former:"
   ]
  },
  {
   "cell_type": "code",
   "execution_count": 10,
   "metadata": {},
   "outputs": [],
   "source": [
    "RegSplit←{⊃{⍵/⍨⍺∨¯1⌽⍺}/↓⍉↑('(.*?)',⍺)'(.*?)$'⎕S{⍵.((~PatternNum)(Lengths[2]↑Offsets[2]↓Block))}⊢⍵}\n",
    "RegSplit2←{(⊢/¨r)↓¨⍵⊂⍨(⍳≢⍵)∊1+⊃¨r←(⍺,'|^')⎕S 0 1⊢⍵} ⍝ faster"
   ]
  },
  {
   "cell_type": "code",
   "execution_count": 11,
   "metadata": {},
   "outputs": [
    {
     "data": {
      "text/html": [
       "<span style=\"white-space:pre; font-family: monospace\">┌→──────────────────────────┐\n",
       "│ ┌→───┐ ┌→─┐ ┌→──────┐ ┌⊖┐ │\n",
       "│ │Here│ │be│ │dragons│ │ │ │\n",
       "│ └────┘ └──┘ └───────┘ └─┘ │\n",
       "└∊──────────────────────────┘\n",
       "</span>"
      ]
     },
     "execution_count": 11,
     "metadata": {},
     "output_type": "execute_result"
    },
    {
     "data": {
      "text/html": [
       "<span style=\"white-space:pre; font-family: monospace\">┌→──────────────────────────┐\n",
       "│ ┌→───┐ ┌→─┐ ┌→──────┐ ┌⊖┐ │\n",
       "│ │Here│ │be│ │dragons│ │ │ │\n",
       "│ └────┘ └──┘ └───────┘ └─┘ │\n",
       "└∊──────────────────────────┘\n",
       "</span>"
      ]
     },
     "execution_count": 11,
     "metadata": {},
     "output_type": "execute_result"
    }
   ],
   "source": [
    "'/+' RegSplit 'Here///be/dragons/'  ⍝ Note empty last item in result\n",
    "'/+' RegSplit2 'Here///be/dragons/'  ⍝ Note empty last item in result"
   ]
  },
  {
   "cell_type": "markdown",
   "metadata": {},
   "source": [
    "Branch reset to use the same sub-pattern name for alternatives"
   ]
  },
  {
   "cell_type": "code",
   "execution_count": 3,
   "metadata": {},
   "outputs": [
    {
     "data": {
      "text/html": [
       "<span style=\"white-space:pre; font-family: monospace\">┌────┬──┐\n",
       "│3557│33│\n",
       "└────┴──┘\n",
       "</span>"
      ]
     },
     "execution_count": 3,
     "metadata": {},
     "output_type": "execute_result"
    }
   ],
   "source": [
    "'(?|.*#(\\d+).*|.*:(\\d\\d)).*'⎕r'\\1'⊢'[1518-02-15 23:58] Guard #3557 begins shift' '[1518-02-16 00:33] falls asleep'"
   ]
  },
  {
   "cell_type": "markdown",
   "metadata": {},
   "source": [
    "Overlapping matches in regex -- there is a variant setting (only works for `⎕S`)"
   ]
  },
  {
   "cell_type": "code",
   "execution_count": 1,
   "metadata": {},
   "outputs": [
    {
     "data": {
      "text/html": [
       "<span style=\"white-space:pre; font-family: monospace\">┌──┬──┬──┐\n",
       "│ab│aa│ac│\n",
       "└──┴──┴──┘\n",
       "</span>"
      ]
     },
     "execution_count": 1,
     "metadata": {},
     "output_type": "execute_result"
    }
   ],
   "source": [
    "'a.'⎕S'&'⍠'OM'1⊢'abaac' ⍝ Variant OM - overlapping matches, nice! "
   ]
  },
  {
   "cell_type": "markdown",
   "metadata": {},
   "source": [
    "or via a zero-width assertion for overlapping capture groups:"
   ]
  },
  {
   "cell_type": "code",
   "execution_count": 9,
   "metadata": {},
   "outputs": [
    {
     "data": {
      "text/html": [
       "<span style=\"white-space:pre; font-family: monospace\">┌──┬──┬──┐\n",
       "│ab│aa│ac│\n",
       "└──┴──┴──┘\n",
       "</span>"
      ]
     },
     "execution_count": 9,
     "metadata": {},
     "output_type": "execute_result"
    }
   ],
   "source": [
    "'(?=(a.))'⎕S'\\1'⊢'abaac'"
   ]
  },
  {
   "cell_type": "markdown",
   "metadata": {},
   "source": [
    "## FizzBuzz\n",
    "\n",
    "FizzBuzz is a well-known task sometimes set at interviews for coding jobs. The idea is to consider a sequence o f numbers and print \"FizzBuzz\" if the number is divisible by 3 and 5, \"Buzz\" if divisible by \"5\", \"Fizz\" if divisible by 3 and otherwise just output the number.\n",
    "\n",
    "Here's APL-FizzBuzz, as given in https://rosettacode.org/wiki/FizzBuzz#APL"
   ]
  },
  {
   "cell_type": "code",
   "execution_count": 40,
   "metadata": {},
   "outputs": [
    {
     "data": {
      "text/html": [
       "<span style=\"white-space:pre; font-family: monospace\">┌→───────────────────────────────────────────────────────────────────────────┐\n",
       "│     ┌→───┐   ┌→───┐ ┌→───┐     ┌→───┐ ┌→───┐    ┌→───┐       ┌→───────┐    │\n",
       "│ 1 2 │Fizz│ 4 │Buzz│ │Fizz│ 7 8 │Fizz│ │Buzz│ 11 │Fizz│ 13 14 │FizzBuzz│ 16 │\n",
       "│     └────┘   └────┘ └────┘     └────┘ └────┘    └────┘       └────────┘    │\n",
       "└∊───────────────────────────────────────────────────────────────────────────┘\n",
       "</span>"
      ]
     },
     "execution_count": 40,
     "metadata": {},
     "output_type": "execute_result"
    }
   ],
   "source": [
    "{⊃⍵ 'Fizz' 'Buzz' 'FizzBuzz'[⎕IO++/1 2×0=3 5|⍵]}¨⍳16"
   ]
  },
  {
   "cell_type": "markdown",
   "metadata": {},
   "source": [
    "The indexing function `1++/1 2×0=3 5|⍵` generates 1 for numbers not divisible by either 3 or 5, 2 for divisible by 3, 3 for divisible by 5 and 4 for divisible by 3 and 5. So how does that work?\n",
    "\n",
    "Consider it right to left:"
   ]
  },
  {
   "cell_type": "code",
   "execution_count": 16,
   "metadata": {},
   "outputs": [
    {
     "data": {
      "text/html": [
       "<span style=\"white-space:pre; font-family: monospace\">┌→──────────────────┐\n",
       "│ ┌→──┐ ┌→──┐ ┌→──┐ │\n",
       "│ │1 0│ │2 1│ │0 0│ │\n",
       "│ └~──┘ └~──┘ └~──┘ │\n",
       "└∊──────────────────┘\n",
       "</span>"
      ]
     },
     "execution_count": 16,
     "metadata": {},
     "output_type": "execute_result"
    }
   ],
   "source": [
    "{3 5|⍵}¨10 11 15 ⍝ Return length 2 vector with remainder from div by 3 and 5"
   ]
  },
  {
   "cell_type": "markdown",
   "metadata": {},
   "source": [
    "Next step is to pick out the zeros"
   ]
  },
  {
   "cell_type": "code",
   "execution_count": 17,
   "metadata": {},
   "outputs": [
    {
     "data": {
      "text/html": [
       "<span style=\"white-space:pre; font-family: monospace\">┌→──────────────────┐\n",
       "│ ┌→──┐ ┌→──┐ ┌→──┐ │\n",
       "│ │0 1│ │0 0│ │1 1│ │\n",
       "│ └~──┘ └~──┘ └~──┘ │\n",
       "└∊──────────────────┘\n",
       "</span>"
      ]
     },
     "execution_count": 17,
     "metadata": {},
     "output_type": "execute_result"
    }
   ],
   "source": [
    "{0= 3 5|⍵}¨10 11 15 ⍝ Return length 2 vector with remainder from div by 3 and 5, highlighing zeros"
   ]
  },
  {
   "cell_type": "markdown",
   "metadata": {},
   "source": [
    "...and multiply by 1 and 2 respectively:"
   ]
  },
  {
   "cell_type": "code",
   "execution_count": 18,
   "metadata": {},
   "outputs": [
    {
     "data": {
      "text/html": [
       "<span style=\"white-space:pre; font-family: monospace\">┌→──────────────────┐\n",
       "│ ┌→──┐ ┌→──┐ ┌→──┐ │\n",
       "│ │0 2│ │0 0│ │1 2│ │\n",
       "│ └~──┘ └~──┘ └~──┘ │\n",
       "└∊──────────────────┘\n",
       "</span>"
      ]
     },
     "execution_count": 18,
     "metadata": {},
     "output_type": "execute_result"
    }
   ],
   "source": [
    "{1 2× 0= 3 5| ⍵}¨10 11 15 ⍝ ...multiplied by 1 and 2"
   ]
  },
  {
   "cell_type": "markdown",
   "metadata": {},
   "source": [
    "Now what remains is to sum that up, and add `⎕IO`:"
   ]
  },
  {
   "cell_type": "code",
   "execution_count": 41,
   "metadata": {},
   "outputs": [
    {
     "data": {
      "text/html": [
       "<span style=\"white-space:pre; font-family: monospace\">┌→────┐\n",
       "│3 1 4│\n",
       "└~────┘\n",
       "</span>"
      ]
     },
     "execution_count": 41,
     "metadata": {},
     "output_type": "execute_result"
    }
   ],
   "source": [
    "{⎕IO++/1 2× 0= 3 5|⍵}¨10 11 15 ⍝ ...multiplied by 1 and 2, and summed"
   ]
  },
  {
   "cell_type": "markdown",
   "metadata": {},
   "source": [
    "We can now index into the vector containing our output text, after disclosing:"
   ]
  },
  {
   "cell_type": "code",
   "execution_count": 42,
   "metadata": {},
   "outputs": [
    {
     "data": {
      "text/html": [
       "<span style=\"white-space:pre; font-family: monospace\">┌→────────────────────────────┐\n",
       "│ ┌→───┐ ┌→───┐    ┌→───────┐ │\n",
       "│ │Fizz│ │Buzz│ 11 │FizzBuzz│ │\n",
       "│ └────┘ └────┘    └────────┘ │\n",
       "└∊────────────────────────────┘\n",
       "</span>"
      ]
     },
     "execution_count": 42,
     "metadata": {},
     "output_type": "execute_result"
    }
   ],
   "source": [
    "{⊃⍵ 'Fizz' 'Buzz' 'FizzBuzz'[⎕IO++/ 1 2× 0= 3 5| ⍵]} ¨ 3 10 11 15"
   ]
  },
  {
   "cell_type": "markdown",
   "metadata": {},
   "source": [
    "This version is iterative, as it uses each (`¨`). We can take a radically different approach to take advantage of APL's array operators:"
   ]
  },
  {
   "cell_type": "code",
   "execution_count": 5,
   "metadata": {},
   "outputs": [],
   "source": [
    "]dinput\n",
    "FizzBuzz←{\n",
    "    nums←⍳⍵\n",
    "    mat←(⍱⌿⍪⊢)0=3 5∘.|nums  ⍝ Remainder matrix\n",
    "    mat×@1⍨←nums            ⍝ Multiply first row by the source numbers\n",
    "    mat←(⊂'Fizz')@⊢@2⊢mat   ⍝ Replace any 1s in second row by Fizz\n",
    "    mat←(⊂'Buzz')@⊢@3⊢mat   ⍝ Replace any 1s in third row by Buzz\n",
    "    0~⍨¨,⌿mat               ⍝ Merge downwards and remove any zeros\n",
    "}"
   ]
  },
  {
   "cell_type": "code",
   "execution_count": 6,
   "metadata": {},
   "outputs": [
    {
     "data": {
      "text/html": [
       "<span style=\"white-space:pre; font-family: monospace\">┌→─────────────────────────────────────────────────────────────────────────────────────────────┐\n",
       "│ ┌→┐ ┌→┐ ┌→───┐ ┌→┐ ┌→───┐ ┌→───┐ ┌→┐ ┌→┐ ┌→───┐ ┌→───┐ ┌→─┐ ┌→───┐ ┌→─┐ ┌→─┐ ┌→───────┐ ┌→─┐ │\n",
       "│ │1│ │2│ │Fizz│ │4│ │Buzz│ │Fizz│ │7│ │8│ │Fizz│ │Buzz│ │11│ │Fizz│ │13│ │14│ │FizzBuzz│ │16│ │\n",
       "│ └~┘ └~┘ └────┘ └~┘ └────┘ └────┘ └~┘ └~┘ └────┘ └────┘ └~─┘ └────┘ └~─┘ └~─┘ └────────┘ └~─┘ │\n",
       "└∊─────────────────────────────────────────────────────────────────────────────────────────────┘\n",
       "</span>"
      ]
     },
     "execution_count": 6,
     "metadata": {},
     "output_type": "execute_result"
    }
   ],
   "source": [
    "FizzBuzz 16"
   ]
  },
  {
   "cell_type": "markdown",
   "metadata": {},
   "source": [
    "### Split a string into a vector of a single char and a number\n",
    "\n",
    "E.g 'X1234' gives 'X' 1234 -- via @Adám on APLOrchard"
   ]
  },
  {
   "cell_type": "code",
   "execution_count": 35,
   "metadata": {},
   "outputs": [
    {
     "data": {
      "text/html": [
       "<span style=\"white-space:pre; font-family: monospace\">┌→─────┐\n",
       "│X 1234│\n",
       "└+─────┘\n",
       "</span>"
      ]
     },
     "execution_count": 35,
     "metadata": {},
     "output_type": "execute_result"
    }
   ],
   "source": [
    "1(↑,∘⍎↓)'X1234' ⍝ Drop the first char, evaluate the rest, and catenate the first char."
   ]
  },
  {
   "cell_type": "markdown",
   "metadata": {},
   "source": [
    "Of course, using ⍎ on unfiltered user input can be dangerous. "
   ]
  },
  {
   "cell_type": "code",
   "execution_count": 36,
   "metadata": {},
   "outputs": [
    {
     "data": {
      "text/html": [
       "<span style=\"white-space:pre; font-family: monospace\">┌→─────┐\n",
       "│X 4234│\n",
       "└+─────┘\n",
       "</span>"
      ]
     },
     "execution_count": 36,
     "metadata": {},
     "output_type": "execute_result"
    }
   ],
   "source": [
    "(⊃,∘⍎∩∘⎕D)'X4234' ⍝ safer, but can throw an error."
   ]
  },
  {
   "cell_type": "markdown",
   "metadata": {},
   "source": [
    "Here the [⎕D](http://help.dyalog.com/latest/#Language/System%20Functions/d.htm) is a system variable specifying \"digits\":"
   ]
  },
  {
   "cell_type": "code",
   "execution_count": 37,
   "metadata": {},
   "outputs": [
    {
     "data": {
      "text/html": [
       "<span style=\"white-space:pre; font-family: monospace\">┌→─────────┐\n",
       "│0123456789│\n",
       "└──────────┘\n",
       "</span>"
      ]
     },
     "execution_count": 37,
     "metadata": {},
     "output_type": "execute_result"
    }
   ],
   "source": [
    "⎕D"
   ]
  },
  {
   "cell_type": "markdown",
   "metadata": {},
   "source": [
    "The industrial strength version uses [⎕VFI](http://help.dyalog.com/latest/#Language/System%20Functions/vfi.htm), (Verify and Fix Input) to properly -- and safely -- parse the integer part."
   ]
  },
  {
   "cell_type": "code",
   "execution_count": 45,
   "metadata": {},
   "outputs": [
    {
     "data": {
      "text/html": [
       "<span style=\"white-space:pre; font-family: monospace\">┌→─────┐\n",
       "│X 1234│\n",
       "└+─────┘\n",
       "</span>"
      ]
     },
     "execution_count": 45,
     "metadata": {},
     "output_type": "execute_result"
    }
   ],
   "source": [
    "1(↑,2⊃∘⎕VFI↓)'X1234' "
   ]
  },
  {
   "cell_type": "markdown",
   "metadata": {},
   "source": [
    "Verify and Fix Input, when used dyadically, can be used to split and convert strings:"
   ]
  },
  {
   "cell_type": "code",
   "execution_count": 47,
   "metadata": {},
   "outputs": [
    {
     "data": {
      "text/html": [
       "<span style=\"white-space:pre; font-family: monospace\">┌→───────┐\n",
       "│19 29 21│\n",
       "└~───────┘\n",
       "</span>"
      ]
     },
     "execution_count": 47,
     "metadata": {},
     "output_type": "execute_result"
    }
   ],
   "source": [
    "2⊃'x'⎕VFI'19x29x21'"
   ]
  },
  {
   "cell_type": "markdown",
   "metadata": {},
   "source": [
    "We can see how the first version is derived from a perhaps more obvious starting point:"
   ]
  },
  {
   "cell_type": "code",
   "execution_count": 48,
   "metadata": {},
   "outputs": [
    {
     "data": {
      "text/html": [
       "<span style=\"white-space:pre; font-family: monospace\">┌→─────┐\n",
       "│X 1234│\n",
       "└+─────┘\n",
       "</span>"
      ]
     },
     "execution_count": 48,
     "metadata": {},
     "output_type": "execute_result"
    },
    {
     "data": {
      "text/html": [
       "<span style=\"white-space:pre; font-family: monospace\">┌→─────┐\n",
       "│X 1234│\n",
       "└+─────┘\n",
       "</span>"
      ]
     },
     "execution_count": 48,
     "metadata": {},
     "output_type": "execute_result"
    },
    {
     "data": {
      "text/html": [
       "<span style=\"white-space:pre; font-family: monospace\">┌→─────┐\n",
       "│X 1234│\n",
       "└+─────┘\n",
       "</span>"
      ]
     },
     "execution_count": 48,
     "metadata": {},
     "output_type": "execute_result"
    },
    {
     "data": {
      "text/html": [
       "<span style=\"white-space:pre; font-family: monospace\">┌→─────┐\n",
       "│X 1234│\n",
       "└+─────┘\n",
       "</span>"
      ]
     },
     "execution_count": 48,
     "metadata": {},
     "output_type": "execute_result"
    },
    {
     "data": {
      "text/html": [
       "<span style=\"white-space:pre; font-family: monospace\">┌→─────┐\n",
       "│X 1234│\n",
       "└+─────┘\n",
       "</span>"
      ]
     },
     "execution_count": 48,
     "metadata": {},
     "output_type": "execute_result"
    },
    {
     "data": {
      "text/html": [
       "<span style=\"white-space:pre; font-family: monospace\">┌→─────┐\n",
       "│X 1234│\n",
       "└+─────┘\n",
       "</span>"
      ]
     },
     "execution_count": 48,
     "metadata": {},
     "output_type": "execute_result"
    }
   ],
   "source": [
    "{a←1↑⍵ ⋄ b←⍎1↓⍵ ⋄ a,b} 'X1234' ⍝ Take head, eval tail\n",
    "\n",
    "{(1↑⍵),(⍎1↓⍵)} 'X1234'         ⍝ substitute variables\n",
    "1 {(⍺↑⍵),(⍎⍺↓⍵)} 'X1234'       ⍝ break out 1\n",
    "1 ((⊣↑⊢),(⍎⊣↓⊢)) 'X1234'       ⍝ train\n",
    "1 ((↑),(⍎↓)) 'X1234'           ⍝ simplify\n",
    "1 (↑,∘⍎↓) 'X1234'              ⍝ remove parens"
   ]
  },
  {
   "cell_type": "markdown",
   "metadata": {},
   "source": [
    "### Partition a vector into groups of equal elements\n",
    "\n",
    "Good partition primer on [APLWiki](https://aplwiki.com/wiki/Partition_representations)"
   ]
  },
  {
   "cell_type": "code",
   "execution_count": 51,
   "metadata": {},
   "outputs": [
    {
     "data": {
      "text/html": [
       "<span style=\"white-space:pre; font-family: monospace\">┌→────────────────────────────────────────────┐\n",
       "│ ┌→────────┐ ┌→──┐ ┌→┐ ┌→──────┐ ┌→──┐ ┌→──┐ │\n",
       "│ │1 1 1 1 1│ │2 2│ │1│ │4 4 4 4│ │1 1│ │2 2│ │\n",
       "│ └~────────┘ └~──┘ └~┘ └~──────┘ └~──┘ └~──┘ │\n",
       "└∊────────────────────────────────────────────┘\n",
       "</span>"
      ]
     },
     "execution_count": 51,
     "metadata": {},
     "output_type": "execute_result"
    }
   ],
   "source": [
    "partition←{⍵⊂⍨1,2≠/⍵}\n",
    "partition 1 1 1 1 1 2 2 1 4 4 4 4 1 1 2 2"
   ]
  },
  {
   "cell_type": "markdown",
   "metadata": {},
   "source": [
    "If we need the run lengths, we can just count them up:"
   ]
  },
  {
   "cell_type": "code",
   "execution_count": 52,
   "metadata": {},
   "outputs": [
    {
     "data": {
      "text/html": [
       "<span style=\"white-space:pre; font-family: monospace\">┌→──────────┐\n",
       "│5 2 1 4 2 2│\n",
       "└~──────────┘\n",
       "</span>"
      ]
     },
     "execution_count": 52,
     "metadata": {},
     "output_type": "execute_result"
    }
   ],
   "source": [
    "≢¨partition 1 1 1 1 1 2 2 1 4 4 4 4 1 1 2 2"
   ]
  },
  {
   "cell_type": "markdown",
   "metadata": {},
   "source": [
    "### Match brackets"
   ]
  },
  {
   "cell_type": "code",
   "execution_count": 58,
   "metadata": {},
   "outputs": [
    {
     "data": {
      "text/html": [
       "<span style=\"white-space:pre; font-family: monospace\">┌→────────────────┐\n",
       "│1 2 2 2 2 1 1 1 0│\n",
       "└~────────────────┘\n",
       "</span>"
      ]
     },
     "execution_count": 58,
     "metadata": {},
     "output_type": "execute_result"
    }
   ],
   "source": [
    "{+\\1 ¯1 0['()'⍳⍵]} '((2×3)+4)' "
   ]
  },
  {
   "cell_type": "markdown",
   "metadata": {},
   "source": [
    "Nice! That snippet was supposedly penned by Ken himself. \n",
    "\n",
    "https://forums.dyalog.com/viewtopic.php?f=30&t=1616\n",
    "https://www.jsoftware.com/papers/perlis78.htm\n",
    "\n",
    "How does it work?\n",
    "\n",
    "Well, the expression `'()'⍳⍵` creates a vector of the same length as the argument containing a 1 (or 0, depending on `⎕io`) if the corresponding character is a '(', 2 for ')' and 3 (overflow) for everything else. We then map those values to 1, ¯1 and 0 respectively, and scan-sum over those.\n",
    "\n",
    "Another way, slightly shorter, to achieve the same thing:"
   ]
  },
  {
   "cell_type": "code",
   "execution_count": 59,
   "metadata": {},
   "outputs": [
    {
     "data": {
      "text/html": [
       "<span style=\"white-space:pre; font-family: monospace\">┌→────────────────┐\n",
       "│1 2 2 2 2 1 1 1 0│\n",
       "└~────────────────┘\n",
       "</span>"
      ]
     },
     "execution_count": 59,
     "metadata": {},
     "output_type": "execute_result"
    }
   ],
   "source": [
    "{+\\-⌿'()'∘.=⍵} '((2×3)+4)'  ⍝ Match brackets"
   ]
  },
  {
   "cell_type": "markdown",
   "metadata": {},
   "source": [
    "This version builds a matrix where the two rows are binary masks showing the positions of the respective brackets."
   ]
  },
  {
   "cell_type": "code",
   "execution_count": 60,
   "metadata": {},
   "outputs": [
    {
     "data": {
      "text/html": [
       "<span style=\"white-space:pre; font-family: monospace\">┌→────────────────┐\n",
       "↓1 1 0 0 0 0 0 0 0│\n",
       "│0 0 0 0 0 1 0 0 1│\n",
       "└~────────────────┘\n",
       "</span>"
      ]
     },
     "execution_count": 60,
     "metadata": {},
     "output_type": "execute_result"
    }
   ],
   "source": [
    "'()'∘.='((2×3)+4)'"
   ]
  },
  {
   "cell_type": "markdown",
   "metadata": {},
   "source": [
    "Next step is to subtract row 2 from row 1"
   ]
  },
  {
   "cell_type": "code",
   "execution_count": 61,
   "metadata": {},
   "outputs": [
    {
     "data": {
      "text/html": [
       "<span style=\"white-space:pre; font-family: monospace\">┌→──────────────────┐\n",
       "│1 1 0 0 0 ¯1 0 0 ¯1│\n",
       "└~──────────────────┘\n",
       "</span>"
      ]
     },
     "execution_count": 61,
     "metadata": {},
     "output_type": "execute_result"
    }
   ],
   "source": [
    "-⌿'()'∘.='((2×3)+4)'"
   ]
  },
  {
   "cell_type": "markdown",
   "metadata": {},
   "source": [
    "and then scan-sum"
   ]
  },
  {
   "cell_type": "code",
   "execution_count": 62,
   "metadata": {},
   "outputs": [
    {
     "data": {
      "text/html": [
       "<span style=\"white-space:pre; font-family: monospace\">┌→────────────────┐\n",
       "│1 2 2 2 2 1 1 1 0│\n",
       "└~────────────────┘\n",
       "</span>"
      ]
     },
     "execution_count": 62,
     "metadata": {},
     "output_type": "execute_result"
    }
   ],
   "source": [
    "+\\-⌿'()'∘.='((2×3)+4)'"
   ]
  },
  {
   "cell_type": "markdown",
   "metadata": {},
   "source": [
    "## Stdlib"
   ]
  },
  {
   "cell_type": "code",
   "execution_count": 3,
   "metadata": {},
   "outputs": [],
   "source": [
    "⍝ Zips -- remix is basically zip \n",
    "Zip←↓⍉↑\n",
    "PythonZip←↓∘⍉∘↑(⌊⌿≢¨)↑¨⊢  ⍝ Python's behaviour is to only zip to shortest vector if unmatched\n",
    "PythonZip2←↓(⌊/≢¨)↑⍉∘↑"
   ]
  },
  {
   "cell_type": "code",
   "execution_count": null,
   "metadata": {},
   "outputs": [],
   "source": [
    "NotUnzip←|∘⍳∘≢⊢∘⊂⌸⊢                                    ⍝ 2 Unzip 'dyalog' NB: Not really unzip as such"
   ]
  },
  {
   "cell_type": "code",
   "execution_count": null,
   "metadata": {},
   "outputs": [],
   "source": [
    "Split←≠⊆⊢                                           ⍝ Split string on a char"
   ]
  },
  {
   "cell_type": "code",
   "execution_count": 13,
   "metadata": {},
   "outputs": [],
   "source": [
    "MSplit←(~∊⍨)⊆⊢                                      ⍝ Multi-char split"
   ]
  },
  {
   "cell_type": "code",
   "execution_count": 13,
   "metadata": {},
   "outputs": [],
   "source": [
    "RegSplit←{(⊢/¨r)↓¨⍵⊂⍨(⍳≢⍵)∊1+⊃¨r←(⍺,'|^')⎕S 0 1⊢⍵}  ⍝ Split string on a pattern"
   ]
  },
  {
   "cell_type": "code",
   "execution_count": null,
   "metadata": {},
   "outputs": [],
   "source": [
    "RegexGroups←{⍺⎕S{⍵.(1↓Lengths↑¨Offsets↓¨⊂Block)} ⊢ ⍵} ⍝ Return all capture groups as a vector"
   ]
  },
  {
   "cell_type": "code",
   "execution_count": 1,
   "metadata": {},
   "outputs": [
    {
     "data": {
      "text/html": [
       "<span style=\"white-space:pre; font-family: monospace\">\n",
       "Rebuilding user command cache... done\n",
       "\n",
       "Rebuilding user command cache... done\n",
       "</span>"
      ]
     },
     "execution_count": 1,
     "metadata": {},
     "output_type": "execute_result"
    }
   ],
   "source": [
    "Range←⊣+∘⍳-⍨                                        ⍝ start Range end, but see dfns.iotag instead\n",
    "iota←{⍺+0,+\\(|d)⍴×d←⍵-⍺}                            ⍝ Guts of iotag, works for negative ⍺ and ⍵\n",
    "iota_io1←{⍺+¯1+⍳1+⍵-⍺}"
   ]
  },
  {
   "cell_type": "code",
   "execution_count": null,
   "metadata": {},
   "outputs": [],
   "source": [
    "Replace←' '@(=∘'-')⊢"
   ]
  },
  {
   "cell_type": "code",
   "execution_count": null,
   "metadata": {},
   "outputs": [],
   "source": [
    "Foldl←{↑⍺⍺⍨/(⌽⍵),⊂⍺}                                ⍝ 0 + Foldl 1 2 3 4 5 ⍝ Must give initial accumulator state"
   ]
  },
  {
   "cell_type": "code",
   "execution_count": null,
   "metadata": {},
   "outputs": [],
   "source": [
    "Flatten←{⊃,/,⊆¨⍵}⍣≡"
   ]
  },
  {
   "cell_type": "code",
   "execution_count": null,
   "metadata": {},
   "outputs": [],
   "source": [
    "Filter←{⍵/⍨⍺⍺ ⍵}                                    ⍝ Simple list only: {⍵<10} Filter 1 2 55 27 11 6 5 0"
   ]
  },
  {
   "cell_type": "code",
   "execution_count": null,
   "metadata": {},
   "outputs": [],
   "source": [
    "FilterNested←{⍵/⍨⍺⍺¨⍵}                             "
   ]
  },
  {
   "cell_type": "code",
   "execution_count": null,
   "metadata": {},
   "outputs": [],
   "source": [
    "Pairs←{,⍳⍵ ⍵}"
   ]
  },
  {
   "cell_type": "code",
   "execution_count": null,
   "metadata": {},
   "outputs": [],
   "source": [
    "OverlappingPairs←{{⊂⍵}⌺2 ⊢ ⍵}"
   ]
  },
  {
   "cell_type": "code",
   "execution_count": 15,
   "metadata": {},
   "outputs": [],
   "source": [
    "Balance←{+\\-⌿⍺∘.=⍵}                                 ⍝ '()' Balance '(a+b+(1-c))'"
   ]
  },
  {
   "cell_type": "code",
   "execution_count": null,
   "metadata": {},
   "outputs": [],
   "source": [
    "Normalise←⊢÷+/                                      ⍝ Make vector components sum to 1"
   ]
  },
  {
   "cell_type": "code",
   "execution_count": null,
   "metadata": {},
   "outputs": [],
   "source": [
    "Divisors←{⍵=1:,1⋄∊∘.×/{⍺∘.*0,⍳⍵}⌿2 dfns.pco ⍵}"
   ]
  },
  {
   "cell_type": "code",
   "execution_count": null,
   "metadata": {},
   "outputs": [],
   "source": [
    "DivisiorSum←{×/{(¯1+⍺*⍵+1)÷⍺-1}⌿2 dfns.pco ⍵}       ⍝ A.k.a sigma1"
   ]
  },
  {
   "cell_type": "code",
   "execution_count": null,
   "metadata": {},
   "outputs": [],
   "source": [
    "SortByCol←{⍵[⍋⍵[;⍺];]}                              ⍝ col SortByCol mat"
   ]
  },
  {
   "cell_type": "code",
   "execution_count": 1,
   "metadata": {},
   "outputs": [
    {
     "data": {
      "text/html": [
       "<span style=\"white-space:pre; font-family: monospace\">\n",
       "Rebuilding user command cache... \n",
       "done\n",
       "</span>"
      ]
     },
     "execution_count": 1,
     "metadata": {},
     "output_type": "execute_result"
    }
   ],
   "source": [
    "Convert←{6::⍵⋄⍎⍵}                                   ⍝ Note -- unsafe\n",
    "conv←{d←⎕VFI ⍵⋄0=⊃⊃d:⍵⋄⊃⊃⊖d}                        ⍝ better"
   ]
  },
  {
   "cell_type": "code",
   "execution_count": 1,
   "metadata": {},
   "outputs": [],
   "source": [
    "]dinput\n",
    "Cmb←{                                               ⍝ Find all combinations of N numbers ∊⍳M that sum to M\n",
    "    (num total)←⍵\n",
    "    A←⊃∘.+/(num-1)⍴⊂⍳total\n",
    "    ⊃,/{⍵,¨⍸(total-⍵)=A}¨⍳total\n",
    "}"
   ]
  },
  {
   "cell_type": "code",
   "execution_count": 2,
   "metadata": {},
   "outputs": [],
   "source": [
    "ConvToIdx←∪⍳⊢                                       ⍝ convert strings to IDs"
   ]
  },
  {
   "cell_type": "code",
   "execution_count": null,
   "metadata": {},
   "outputs": [],
   "source": [
    "ConvToDigits←10∘⊥⍣¯1                                ⍝ Split a number into a vector of digits"
   ]
  },
  {
   "cell_type": "code",
   "execution_count": 3,
   "metadata": {},
   "outputs": [],
   "source": [
    "IsNumber←{(1=2|⎕DR)⍵}                               ⍝ Are we a number/numeric?\n",
    "IsString←⍕≡⊢                                        ⍝ Are we a simple character vector?\n",
    "IsNamespace←{(326=⎕DR⍵)}                            ⍝ Are we a reference/object/namespace?"
   ]
  },
  {
   "cell_type": "code",
   "execution_count": null,
   "metadata": {},
   "outputs": [],
   "source": [
    "Substring←⍸⍷                                        ⍝ 'll' (⍸⍷) 'hello' ⍝ 3"
   ]
  },
  {
   "cell_type": "code",
   "execution_count": null,
   "metadata": {},
   "outputs": [],
   "source": [
    "AllSubstr←⍳∘≢,/¨⊂                                   ⍝ All possible substrings grouped by length"
   ]
  },
  {
   "cell_type": "code",
   "execution_count": null,
   "metadata": {},
   "outputs": [],
   "source": [
    "Del←{⍵/⍨0@⍺⊢1⍨¨⍵}                                   ⍝ 2 5 Del ⍳10 ⍝ remove indices ⍺ from array ⍵"
   ]
  },
  {
   "cell_type": "code",
   "execution_count": null,
   "metadata": {},
   "outputs": [],
   "source": [
    "Group←↓⊃¨,∘⊂⌸⊢/¨                                    ⍝ Group vector elements based on first"
   ]
  },
  {
   "cell_type": "code",
   "execution_count": null,
   "metadata": {},
   "outputs": [],
   "source": [
    "GroupSplit←{⍵⊆⍨×≢¨⍵}                                ⍝ Group vector elements separated by empty"
   ]
  },
  {
   "cell_type": "code",
   "execution_count": null,
   "metadata": {},
   "outputs": [],
   "source": [
    "BinaryCombos←{⍉(⍵⍴2)⊤⍳2*⍵}                          ⍝ All binary combinations of ⍵ bits\n",
    "FasterBinaryCombos←{⍉2∘⊥⍣¯1⍳2*⍵}"
   ]
  },
  {
   "cell_type": "code",
   "execution_count": 12,
   "metadata": {},
   "outputs": [],
   "source": [
    "ExtractNumbers←⍎¨∊∘⎕d⊆⊢"
   ]
  },
  {
   "cell_type": "code",
   "execution_count": 1,
   "metadata": {},
   "outputs": [],
   "source": [
    "MostFrequentWord←{⎕IO←1⋄⍵⌷⍨⊂0~⍨⊢/0,⊢⌸⍵}             ⍝ MostFrequentWord 'hello' 'world' 'hello' 'the' 'other' 'world' 'hello'"
   ]
  },
  {
   "cell_type": "code",
   "execution_count": 2,
   "metadata": {},
   "outputs": [],
   "source": [
    "HeadTail←1 1∘⊂                                      ⍝ Split a vector into head and tail"
   ]
  },
  {
   "cell_type": "markdown",
   "metadata": {},
   "source": [
    "### Error handling\n",
    "\n",
    "Using error guards"
   ]
  },
  {
   "cell_type": "code",
   "execution_count": 63,
   "metadata": {},
   "outputs": [
    {
     "data": {
      "text/html": [
       "<span style=\"white-space:pre; font-family: monospace\"> \n",
       "4\n",
       " \n",
       "</span>"
      ]
     },
     "execution_count": 63,
     "metadata": {},
     "output_type": "execute_result"
    }
   ],
   "source": [
    "4 {3::'out of bounds' ⋄ ⍺ ⌷ ⍵} 1 2 3 4 5 6 7"
   ]
  },
  {
   "cell_type": "code",
   "execution_count": 64,
   "metadata": {},
   "outputs": [
    {
     "data": {
      "text/html": [
       "<span style=\"white-space:pre; font-family: monospace\">┌→────────────┐\n",
       "│out of bounds│\n",
       "└─────────────┘\n",
       "</span>"
      ]
     },
     "execution_count": 64,
     "metadata": {},
     "output_type": "execute_result"
    }
   ],
   "source": [
    "8 {3::'out of bounds' ⋄ ⍺ ⌷ ⍵} 1 2 3 4 5 6 7"
   ]
  },
  {
   "cell_type": "markdown",
   "metadata": {},
   "source": [
    "Note that the body of an error guard is evaluated _after_ the local environment is unwound. This is likely not what you expect if you come from say Python:"
   ]
  },
  {
   "cell_type": "code",
   "execution_count": 5,
   "metadata": {},
   "outputs": [],
   "source": [
    "]dinput\n",
    "F1←{ ⍝ Can you spot the bug?\n",
    "    11::nums\n",
    "    nums←1 ⍺\n",
    "    nums×÷⍵\n",
    "}"
   ]
  },
  {
   "cell_type": "code",
   "execution_count": 6,
   "metadata": {},
   "outputs": [],
   "source": [
    "]dinput\n",
    "F2←{\n",
    "    nums←1 ⍺\n",
    "    0=⍵:nums\n",
    "    nums×÷⍵\n",
    "}"
   ]
  },
  {
   "cell_type": "code",
   "execution_count": 7,
   "metadata": {},
   "outputs": [
    {
     "data": {
      "text/html": [
       "<span style=\"white-space:pre; font-family: monospace\">1 4\n",
       "</span>"
      ]
     },
     "execution_count": 7,
     "metadata": {},
     "output_type": "execute_result"
    }
   ],
   "source": [
    "4 F2 0 ⍝ The expected behaviour"
   ]
  },
  {
   "cell_type": "code",
   "execution_count": 10,
   "metadata": {},
   "outputs": [
    {
     "name": "stderr",
     "output_type": "stream",
     "text": [
      "VALUE ERROR: Undefined name: nums\n",
      "F1[1] 11::nums\n",
      "          ∧\n"
     ]
    }
   ],
   "source": [
    "4 F1 0 ⍝ Throws a perhaps unexpected VALUE ERROR"
   ]
  },
  {
   "cell_type": "markdown",
   "metadata": {},
   "source": [
    "Further, the mere presence of an error guard _disables tail call optimisation_. "
   ]
  },
  {
   "cell_type": "markdown",
   "metadata": {},
   "source": [
    "### Sets\n",
    "\n",
    "Set XOR - union minus intersection, using a train"
   ]
  },
  {
   "cell_type": "code",
   "execution_count": 66,
   "metadata": {},
   "outputs": [
    {
     "data": {
      "text/html": [
       "<span style=\"white-space:pre; font-family: monospace\">┌→────────┐\n",
       "│1 2 3 7 8│\n",
       "└~────────┘\n",
       "</span>"
      ]
     },
     "execution_count": 66,
     "metadata": {},
     "output_type": "execute_result"
    }
   ],
   "source": [
    "⊃(∪~∩)/ (1 2 3 4 5 6) (4 5 6 7 8) ⍝ Elements in ⍺ or ⍵ but not in both"
   ]
  },
  {
   "cell_type": "markdown",
   "metadata": {},
   "source": [
    "### Encode and decode ⊤ ⊥\n",
    "\n",
    "Encode and decode converts between decimal and some encoding vector.\n",
    "\n",
    "Split a number into digits and pad with zeros from the left:"
   ]
  },
  {
   "cell_type": "code",
   "execution_count": 67,
   "metadata": {},
   "outputs": [
    {
     "data": {
      "text/html": [
       "<span style=\"white-space:pre; font-family: monospace\">┌→────────┐\n",
       "│0 0 0 1 2│\n",
       "└~────────┘\n",
       "</span>"
      ]
     },
     "execution_count": 67,
     "metadata": {},
     "output_type": "execute_result"
    }
   ],
   "source": [
    "10 10 10 10 10 ⊤ 12"
   ]
  },
  {
   "cell_type": "markdown",
   "metadata": {},
   "source": [
    "Convert from seconds to H M S:"
   ]
  },
  {
   "cell_type": "code",
   "execution_count": 68,
   "metadata": {},
   "outputs": [
    {
     "data": {
      "text/html": [
       "<span style=\"white-space:pre; font-family: monospace\">┌→────────┐\n",
       "│0 2 21 13│\n",
       "└~────────┘\n",
       "</span>"
      ]
     },
     "execution_count": 68,
     "metadata": {},
     "output_type": "execute_result"
    }
   ],
   "source": [
    "0 24 60 60 ⊤ 8473"
   ]
  },
  {
   "cell_type": "markdown",
   "metadata": {},
   "source": [
    "Decode goes the other way"
   ]
  },
  {
   "cell_type": "code",
   "execution_count": 69,
   "metadata": {},
   "outputs": [
    {
     "data": {
      "text/html": [
       "<span style=\"white-space:pre; font-family: monospace\">    \n",
       "8473\n",
       "    \n",
       "</span>"
      ]
     },
     "execution_count": 69,
     "metadata": {},
     "output_type": "execute_result"
    }
   ],
   "source": [
    "0 24 60 60 ⊥ 0 2 21 13 "
   ]
  },
  {
   "cell_type": "markdown",
   "metadata": {},
   "source": [
    "Sometimes swapped to save some brackets"
   ]
  },
  {
   "cell_type": "code",
   "execution_count": 70,
   "metadata": {},
   "outputs": [
    {
     "data": {
      "text/html": [
       "<span style=\"white-space:pre; font-family: monospace\">┌→────────┐\n",
       "│0 0 0 1 2│\n",
       "└~────────┘\n",
       "</span>"
      ]
     },
     "execution_count": 70,
     "metadata": {},
     "output_type": "execute_result"
    }
   ],
   "source": [
    "12 ⊤⍨ 5⍴10 ⍝ instead of (5⍴10) ⊤ 12"
   ]
  },
  {
   "cell_type": "markdown",
   "metadata": {},
   "source": [
    "We can exploit decode to sum elements of a vector, which faster than the normal +/ approach and a useful trick in trains."
   ]
  },
  {
   "cell_type": "code",
   "execution_count": 71,
   "metadata": {},
   "outputs": [
    {
     "data": {
      "text/html": [
       "<span style=\"white-space:pre; font-family: monospace\">  \n",
       "17\n",
       "  \n",
       "</span>"
      ]
     },
     "execution_count": 71,
     "metadata": {},
     "output_type": "execute_result"
    }
   ],
   "source": [
    "1⊥1 3 2 5 6"
   ]
  },
  {
   "cell_type": "markdown",
   "metadata": {},
   "source": [
    "## Trains\n",
    "\n",
    "Trains are APL's functional composition mechanism.\n",
    "\n",
    "Here are the rules for 2 and 3-carriage trains:\n",
    "\n",
    "```\n",
    "(F G H) x -> (F x) G (H x)\n",
    "(u G H) x -> u G (H x)\n",
    "(G H) x -> G (H x)\n",
    "\n",
    "x (F G H) y -> (x F y) G (x H y)\n",
    "x (u G H) y -> u G (x H y)\n",
    "x (G H) y -> G (x H y)\n",
    "```"
   ]
  },
  {
   "cell_type": "code",
   "execution_count": 55,
   "metadata": {},
   "outputs": [
    {
     "data": {
      "text/html": [
       "<span style=\"white-space:pre; font-family: monospace\">┌→───┐\n",
       "│7 10│\n",
       "└~───┘\n",
       "</span>"
      ]
     },
     "execution_count": 55,
     "metadata": {},
     "output_type": "execute_result"
    }
   ],
   "source": [
    "⍝ Construct a vector of the sum and product of two numbers\n",
    "2 (+,×) 5  ⍝ x (F G H) y -> (x F y) G (x H y)"
   ]
  },
  {
   "cell_type": "markdown",
   "metadata": {},
   "source": [
    "This is a three-function train, consisting of sum, catenate, product. For a three-function train (LMR) in the dyadic case, the execution flow is (⍺ L ⍵) M (⍺ R ⍵) or specifically (2+5),(2×5).\n",
    "\n",
    "Here's another example: split a string on a separator:"
   ]
  },
  {
   "cell_type": "code",
   "execution_count": 73,
   "metadata": {},
   "outputs": [
    {
     "data": {
      "text/html": [
       "<span style=\"white-space:pre; font-family: monospace\">┌→────────────────────┐\n",
       "│ ┌→──┐ ┌→──┐ ┌→────┐ │\n",
       "│ │one│ │two│ │three│ │\n",
       "│ └───┘ └───┘ └─────┘ │\n",
       "└∊────────────────────┘\n",
       "</span>"
      ]
     },
     "execution_count": 73,
     "metadata": {},
     "output_type": "execute_result"
    }
   ],
   "source": [
    "',' (≠⊆⊢) 'one,two,three'"
   ]
  },
  {
   "cell_type": "markdown",
   "metadata": {},
   "source": [
    "Given the execution flow above we have:"
   ]
  },
  {
   "cell_type": "code",
   "execution_count": 74,
   "metadata": {},
   "outputs": [
    {
     "data": {
      "text/html": [
       "<span style=\"white-space:pre; font-family: monospace\">┌→────────────────────┐\n",
       "│ ┌→──┐ ┌→──┐ ┌→────┐ │\n",
       "│ │one│ │two│ │three│ │\n",
       "│ └───┘ └───┘ └─────┘ │\n",
       "└∊────────────────────┘\n",
       "</span>"
      ]
     },
     "execution_count": 74,
     "metadata": {},
     "output_type": "execute_result"
    }
   ],
   "source": [
    "Lhs ← ','≠'one,two,three'  ⍝ Binary match vector\n",
    "Rhs ← ','⊢'one,two,three'  ⍝ Just return the right-hand argument\n",
    "Lhs ⊆ Rhs                  ⍝ Partition based on binary match vector"
   ]
  },
  {
   "cell_type": "markdown",
   "metadata": {},
   "source": [
    "The right-tack ⊢ is used in trains as an identity function to force the correct monadic/dyadic behaviour.\n",
    "\n",
    "Another canonical example is calculating the mean with a three-function monadic train:"
   ]
  },
  {
   "cell_type": "code",
   "execution_count": 75,
   "metadata": {},
   "outputs": [
    {
     "data": {
      "text/html": [
       "<span style=\"white-space:pre; font-family: monospace\">   \n",
       "5.5\n",
       "   \n",
       "</span>"
      ]
     },
     "execution_count": 75,
     "metadata": {},
     "output_type": "execute_result"
    }
   ],
   "source": [
    "(+/÷≢) 3 6 4 9"
   ]
  },
  {
   "cell_type": "markdown",
   "metadata": {},
   "source": [
    "This translates to:"
   ]
  },
  {
   "cell_type": "code",
   "execution_count": 76,
   "metadata": {},
   "outputs": [
    {
     "data": {
      "text/html": [
       "<span style=\"white-space:pre; font-family: monospace\">   \n",
       "5.5\n",
       "   \n",
       "</span>"
      ]
     },
     "execution_count": 76,
     "metadata": {},
     "output_type": "execute_result"
    }
   ],
   "source": [
    "Lhs ← +/ 3 6 4 9   ⍝ Sum \n",
    "Rhs ← ≢ 3 6 4 9    ⍝ Count\n",
    "Lhs ÷ Rhs          ⍝ Mean"
   ]
  },
  {
   "cell_type": "markdown",
   "metadata": {},
   "source": [
    "Set XOR using a union-not-intersect train"
   ]
  },
  {
   "cell_type": "code",
   "execution_count": 77,
   "metadata": {},
   "outputs": [
    {
     "data": {
      "text/html": [
       "<span style=\"white-space:pre; font-family: monospace\">┌→────────┐\n",
       "│1 2 3 7 8│\n",
       "└~────────┘\n",
       "</span>"
      ]
     },
     "execution_count": 77,
     "metadata": {},
     "output_type": "execute_result"
    }
   ],
   "source": [
    "⊃(∪~∩)/ (1 2 3 4 5 6) (4 5 6 7 8)"
   ]
  },
  {
   "cell_type": "markdown",
   "metadata": {},
   "source": [
    "Here's a longer example: generate an integer range"
   ]
  },
  {
   "cell_type": "code",
   "execution_count": 79,
   "metadata": {},
   "outputs": [
    {
     "data": {
      "text/html": [
       "<span style=\"white-space:pre; font-family: monospace\">┌→────────┐\n",
       "│5 6 7 8 9│\n",
       "└~────────┘\n",
       "</span>"
      ]
     },
     "execution_count": 79,
     "metadata": {},
     "output_type": "execute_result"
    }
   ],
   "source": [
    "¯1+5 (⊣+∘⍳-⍨) 10"
   ]
  },
  {
   "cell_type": "markdown",
   "metadata": {},
   "source": [
    "and an even longer, splitting a vector in n parts by unzipping:"
   ]
  },
  {
   "cell_type": "code",
   "execution_count": 80,
   "metadata": {},
   "outputs": [
    {
     "data": {
      "text/html": [
       "<span style=\"white-space:pre; font-family: monospace\">┌→─────────────┐\n",
       "│ ┌→───┐ ┌→──┐ │\n",
       "│ │daoe│ │ylg│ │\n",
       "│ └────┘ └───┘ │\n",
       "└∊─────────────┘\n",
       "</span>"
      ]
     },
     "execution_count": 80,
     "metadata": {},
     "output_type": "execute_result"
    }
   ],
   "source": [
    "2 (|∘⍳∘≢⊢∘⊂⌸⊢) 'dyaloge'"
   ]
  },
  {
   "cell_type": "markdown",
   "metadata": {},
   "source": [
    "The following tactit groups pairs based on the first component of each pair:"
   ]
  },
  {
   "cell_type": "code",
   "execution_count": 1,
   "metadata": {},
   "outputs": [
    {
     "data": {
      "text/html": [
       "<span style=\"white-space:pre; font-family: monospace\">Rebuilding user command cache... done\n",
       "</span>"
      ]
     },
     "execution_count": 1,
     "metadata": {},
     "output_type": "execute_result"
    },
    {
     "data": {
      "text/html": [
       "<span style=\"white-space:pre; font-family: monospace\">┌───────┬─────┬─────┬───────┬─────┐\n",
       "│┌─┬───┐│┌─┬─┐│┌─┬─┐│┌─┬───┐│┌─┬─┐│\n",
       "││5│3 6│││7│5│││4│7│││1│8 2│││2│4││\n",
       "│└─┴───┘│└─┴─┘│└─┴─┘│└─┴───┘│└─┴─┘│\n",
       "└───────┴─────┴─────┴───────┴─────┘\n",
       "</span>"
      ]
     },
     "execution_count": 1,
     "metadata": {},
     "output_type": "execute_result"
    }
   ],
   "source": [
    "m←(5 3)(5 6)(7 5)(4 7)(1 8)(2 4)(1 2)\n",
    "(↓⊃¨,∘⊂⌸⊢/¨)m"
   ]
  },
  {
   "cell_type": "markdown",
   "metadata": {},
   "source": [
    "Let's unwind that one in steps. Step 1: separate the tacit expression into individual functions, taking into account operators:\n",
    "\n",
    "    (↓) (⊃¨) (,∘⊂⌸) (⊢/¨)\n",
    "    \n",
    "Step 2: convert to dfn by considering first any 3-trains from the right:\n",
    "\n",
    "    { (⊃¯⍵) (,∘⊂⌸) ⊢/¨⍵ }\n",
    "    \n",
    "The middle bit is idiomatic use of key that can also be written as `{⍺⍵}⌸`. So we're looking at a left argument which is simply a vector of all first components of the pairs, and a right argument which is the last component of every pair, applied to the dyadic key, which groups the right arg based on the unique elements in the left.\n",
    "\n",
    "Step 3: as we've only a remaining `↓`, it's simply applied to the result."
   ]
  },
  {
   "cell_type": "markdown",
   "metadata": {},
   "source": [
    "## Tack tricks\n",
    "\n",
    "Left (⊣) and right (⊢) tacks return the argument they point to."
   ]
  },
  {
   "cell_type": "code",
   "execution_count": 81,
   "metadata": {},
   "outputs": [
    {
     "data": {
      "text/html": [
       "<span style=\"white-space:pre; font-family: monospace\">┌→───┐\n",
       "│Left│\n",
       "└────┘\n",
       "┌→────┐\n",
       "│Right│\n",
       "└─────┘\n",
       "</span>"
      ]
     },
     "execution_count": 81,
     "metadata": {},
     "output_type": "execute_result"
    }
   ],
   "source": [
    "'Left'⊣'Right' ⋄ 'Left'⊢'Right'"
   ]
  },
  {
   "cell_type": "markdown",
   "metadata": {},
   "source": [
    "We saw earlier their place in trains to refer to left or right arguments."
   ]
  },
  {
   "cell_type": "code",
   "execution_count": 82,
   "metadata": {},
   "outputs": [
    {
     "data": {
      "text/html": [
       "<span style=\"white-space:pre; font-family: monospace\">┌→────────────────────┐\n",
       "│ ┌→──┐ ┌→──┐ ┌→────┐ │\n",
       "│ │one│ │two│ │three│ │\n",
       "│ └───┘ └───┘ └─────┘ │\n",
       "└∊────────────────────┘\n",
       "</span>"
      ]
     },
     "execution_count": 82,
     "metadata": {},
     "output_type": "execute_result"
    }
   ],
   "source": [
    "',' (≠⊆⊢) 'one,two,three'"
   ]
  },
  {
   "cell_type": "markdown",
   "metadata": {},
   "source": [
    "Another use is when we want to return a value after first mutating it."
   ]
  },
  {
   "cell_type": "code",
   "execution_count": 83,
   "metadata": {},
   "outputs": [
    {
     "data": {
      "text/html": [
       "<span style=\"white-space:pre; font-family: monospace\">┌→──────────┐\n",
       "│10 10 3 4 5│\n",
       "└~──────────┘\n",
       "</span>"
      ]
     },
     "execution_count": 83,
     "metadata": {},
     "output_type": "execute_result"
    }
   ],
   "source": [
    "mem ← 1 2 3 4 5\n",
    "mem ⊣ mem[1 2] ← 10 10"
   ]
  },
  {
   "cell_type": "markdown",
   "metadata": {},
   "source": [
    "We can also use tacks to pick the first or last column of a matrix. This is a Dyalog [idiom](https://help.dyalog.com/17.1/#Language/Defined%20Functions%20and%20Operators/Idiom%20Recognition/Idiom%20List.htm)\n",
    "meaning it's highly optimised."
   ]
  },
  {
   "cell_type": "code",
   "execution_count": 84,
   "metadata": {},
   "outputs": [
    {
     "data": {
      "text/html": [
       "<span style=\"white-space:pre; font-family: monospace\">┌→────┐\n",
       "↓1 2 3│\n",
       "│4 5 6│\n",
       "└~────┘\n",
       "</span>"
      ]
     },
     "execution_count": 84,
     "metadata": {},
     "output_type": "execute_result"
    },
    {
     "data": {
      "text/html": [
       "<span style=\"white-space:pre; font-family: monospace\">┌→──┐\n",
       "│1 4│\n",
       "└~──┘\n",
       "</span>"
      ]
     },
     "execution_count": 84,
     "metadata": {},
     "output_type": "execute_result"
    },
    {
     "data": {
      "text/html": [
       "<span style=\"white-space:pre; font-family: monospace\">┌→──┐\n",
       "│3 6│\n",
       "└~──┘\n",
       "</span>"
      ]
     },
     "execution_count": 84,
     "metadata": {},
     "output_type": "execute_result"
    }
   ],
   "source": [
    "⎕←m←2 3⍴1 2 3 4 5 6 7 8 9\n",
    "⎕←first←⊣/m\n",
    "⎕←last←⊢/m"
   ]
  },
  {
   "cell_type": "markdown",
   "metadata": {},
   "source": [
    "## Indexing\n",
    "\n",
    "There are several ways of indexing into arrays and vectors. Crucially, elements of vectors and matrices are always scalars, but a scalar can be a boxed-up vector or matrix.\n",
    "\n",
    "Indexing with [] or ⌷ returns the box, not the element, although if the element is a simple scalar, it's the same thing."
   ]
  },
  {
   "cell_type": "code",
   "execution_count": 85,
   "metadata": {},
   "outputs": [
    {
     "data": {
      "text/html": [
       "<span style=\"white-space:pre; font-family: monospace\"> \n",
       "5\n",
       " \n",
       "</span>"
      ]
     },
     "execution_count": 85,
     "metadata": {},
     "output_type": "execute_result"
    },
    {
     "data": {
      "text/html": [
       "<span style=\"white-space:pre; font-family: monospace\">┌→──┐\n",
       "│5 2│\n",
       "└~──┘\n",
       "</span>"
      ]
     },
     "execution_count": 85,
     "metadata": {},
     "output_type": "execute_result"
    },
    {
     "data": {
      "text/html": [
       "<span style=\"white-space:pre; font-family: monospace\"> \n",
       "3\n",
       " \n",
       "</span>"
      ]
     },
     "execution_count": 85,
     "metadata": {},
     "output_type": "execute_result"
    }
   ],
   "source": [
    "v←⍳10\n",
    "v[5]\n",
    "v[5 2]\n",
    "3⌷v"
   ]
  },
  {
   "cell_type": "code",
   "execution_count": 86,
   "metadata": {},
   "outputs": [
    {
     "data": {
      "text/html": [
       "<span style=\"white-space:pre; font-family: monospace\">┌─────────┐\n",
       "│ ┌→────┐ │\n",
       "│ │1 2 3│ │\n",
       "│ └~────┘ │\n",
       "└∊────────┘\n",
       "</span>"
      ]
     },
     "execution_count": 86,
     "metadata": {},
     "output_type": "execute_result"
    }
   ],
   "source": [
    "v←(1 2 3)(4 5 6)(7 8 9)\n",
    "v[1]  ⍝ Return the box at element 1"
   ]
  },
  {
   "cell_type": "markdown",
   "metadata": {},
   "source": [
    "To get to the boxed element, we need to either disclose, or pick:"
   ]
  },
  {
   "cell_type": "code",
   "execution_count": 87,
   "metadata": {},
   "outputs": [
    {
     "data": {
      "text/html": [
       "<span style=\"white-space:pre; font-family: monospace\">┌→────┐\n",
       "│1 2 3│\n",
       "└~────┘\n",
       "</span>"
      ]
     },
     "execution_count": 87,
     "metadata": {},
     "output_type": "execute_result"
    },
    {
     "data": {
      "text/html": [
       "<span style=\"white-space:pre; font-family: monospace\">┌→────┐\n",
       "│1 2 3│\n",
       "└~────┘\n",
       "</span>"
      ]
     },
     "execution_count": 87,
     "metadata": {},
     "output_type": "execute_result"
    }
   ],
   "source": [
    "⊃v[1]  ⍝ Open box (disclose)\n",
    "1⊃v    ⍝ Pick element at 1"
   ]
  },
  {
   "cell_type": "markdown",
   "metadata": {},
   "source": [
    "The same box-unbox rules also apply to mutation:"
   ]
  },
  {
   "cell_type": "code",
   "execution_count": 90,
   "metadata": {},
   "outputs": [
    {
     "name": "stderr",
     "output_type": "stream",
     "text": [
      "LENGTH ERROR\n",
      "      v[2]←1 2 3 ⍝ Will fail with LENGTH ERROR, as value isn't boxed.\n",
      "          ∧\n"
     ]
    }
   ],
   "source": [
    "v[2]←1 2 3 ⍝ Will fail with LENGTH ERROR, as value isn't boxed."
   ]
  },
  {
   "cell_type": "markdown",
   "metadata": {},
   "source": [
    "Instead we need to explicitly enclose the new vector:"
   ]
  },
  {
   "cell_type": "code",
   "execution_count": 92,
   "metadata": {},
   "outputs": [
    {
     "data": {
      "text/html": [
       "<span style=\"white-space:pre; font-family: monospace\">┌→────────────────────────┐\n",
       "│ ┌→────┐ ┌→────┐ ┌→────┐ │\n",
       "│ │1 2 3│ │1 2 3│ │7 8 9│ │\n",
       "│ └~────┘ └~────┘ └~────┘ │\n",
       "└∊────────────────────────┘\n",
       "</span>"
      ]
     },
     "execution_count": 92,
     "metadata": {},
     "output_type": "execute_result"
    }
   ],
   "source": [
    "v[2]←⊂1 2 3\n",
    "v"
   ]
  },
  {
   "cell_type": "markdown",
   "metadata": {},
   "source": [
    "### Set values with @\n",
    "The `@` operator is very powerful and can be applied in several ways. In the simples case, we can give a list of values and a list of indexes where to set them. This creates a new copy of the right argument, with the new values.\n",
    "\n",
    "See https://stackoverflow.com/questions/64259704/apl-arrays-element-replacement-and-multiplication"
   ]
  },
  {
   "cell_type": "code",
   "execution_count": 97,
   "metadata": {},
   "outputs": [
    {
     "data": {
      "text/html": [
       "<span style=\"white-space:pre; font-family: monospace\">┌→──────────────┐\n",
       "│1 2 9 9 5 6 7 8│\n",
       "└~──────────────┘\n",
       "</span>"
      ]
     },
     "execution_count": 97,
     "metadata": {},
     "output_type": "execute_result"
    },
    {
     "data": {
      "text/html": [
       "<span style=\"white-space:pre; font-family: monospace\">┌→──────────────┐\n",
       "│1 2 3 4 5 6 7 8│\n",
       "└~──────────────┘\n",
       "</span>"
      ]
     },
     "execution_count": 97,
     "metadata": {},
     "output_type": "execute_result"
    }
   ],
   "source": [
    "9 9 @ 3 4 ⊢ vec←1 2 3 4 5 6 7 8             ⍝ Note -- no mutation\n",
    "vec "
   ]
  },
  {
   "cell_type": "markdown",
   "metadata": {},
   "source": [
    "Contrast this to direct assignment, which mutates in place:"
   ]
  },
  {
   "cell_type": "code",
   "execution_count": 98,
   "metadata": {},
   "outputs": [
    {
     "data": {
      "text/html": [
       "<span style=\"white-space:pre; font-family: monospace\">┌→──────────────┐\n",
       "│1 2 3 8 8 6 7 8│\n",
       "└~──────────────┘\n",
       "</span>"
      ]
     },
     "execution_count": 98,
     "metadata": {},
     "output_type": "execute_result"
    }
   ],
   "source": [
    "vec ⊣ vec[4 5] ← 8 8          ⍝ Note -- direct assignment mutates v"
   ]
  },
  {
   "cell_type": "markdown",
   "metadata": {},
   "source": [
    "The @ operator can also apply functions which modify the values in several different ways. The monadic case"
   ]
  },
  {
   "cell_type": "code",
   "execution_count": 99,
   "metadata": {},
   "outputs": [
    {
     "data": {
      "text/html": [
       "<span style=\"white-space:pre; font-family: monospace\">┌→──────────────────┐\n",
       "│10 ¯20 30 40 ¯50 60│\n",
       "└~──────────────────┘\n",
       "</span>"
      ]
     },
     "execution_count": 99,
     "metadata": {},
     "output_type": "execute_result"
    }
   ],
   "source": [
    "(-@2 5)10 20 30 40 50 60  ⍝ Apply monadic - at positions 2 and 5"
   ]
  },
  {
   "cell_type": "markdown",
   "metadata": {},
   "source": [
    "Similarly, we can apply dyads:"
   ]
  },
  {
   "cell_type": "code",
   "execution_count": 100,
   "metadata": {},
   "outputs": [
    {
     "data": {
      "text/html": [
       "<span style=\"white-space:pre; font-family: monospace\">┌→────────────────┐\n",
       "│10 27 30 40 57 60│\n",
       "└~────────────────┘\n",
       "</span>"
      ]
     },
     "execution_count": 100,
     "metadata": {},
     "output_type": "execute_result"
    }
   ],
   "source": [
    "7(+@2 5)10 20 30 40 50 60 "
   ]
  },
  {
   "cell_type": "code",
   "execution_count": null,
   "metadata": {},
   "outputs": [],
   "source": [
    "'x'@(∊∘⎕A)'Hello World' ⍝ Replace all uppercase letters with 'x'. ⎕A gives the uppercase letters."
   ]
  },
  {
   "cell_type": "markdown",
   "metadata": {},
   "source": [
    "We can also apply `@` with a function that returns a binary vector when applied to the right argument of the derived function, e.g:"
   ]
  },
  {
   "cell_type": "code",
   "execution_count": 17,
   "metadata": {},
   "outputs": [
    {
     "data": {
      "text/html": [
       "<span style=\"white-space:pre; font-family: monospace\">┌→────────┐\n",
       "│* 2 * 4 *│\n",
       "└+────────┘\n",
       "</span>"
      ]
     },
     "execution_count": 17,
     "metadata": {},
     "output_type": "execute_result"
    }
   ],
   "source": [
    "'*'@(2∘|) 1 2 3 4 5     ⍝ Replace odds with '*'"
   ]
  },
  {
   "cell_type": "markdown",
   "metadata": {},
   "source": [
    "or as simple as"
   ]
  },
  {
   "cell_type": "code",
   "execution_count": 19,
   "metadata": {},
   "outputs": [
    {
     "data": {
      "text/html": [
       "<span style=\"white-space:pre; font-family: monospace\">┌→────────┐\n",
       "│* 2 * 4 *│\n",
       "└+────────┘\n",
       "</span>"
      ]
     },
     "execution_count": 19,
     "metadata": {},
     "output_type": "execute_result"
    }
   ],
   "source": [
    "'*'@{1 0 1 0 1}1 2 3 4 5"
   ]
  },
  {
   "cell_type": "markdown",
   "metadata": {},
   "source": [
    "For a more involved example, let's write an expression that given a vector of values and a vector of row indices appends values to a column in the argument matrix:"
   ]
  },
  {
   "cell_type": "code",
   "execution_count": 33,
   "metadata": {},
   "outputs": [],
   "source": [
    "mat←↑{(⍵ 1) (0 0)}¨3+⍳5  ⍝ Start state: a 5x2 matrix, columns are vectors\n",
    "vals←⍳5                ⍝ Values to append to the first column\n",
    "rows←?⍨5               ⍝ ...of these rows"
   ]
  },
  {
   "cell_type": "code",
   "execution_count": 49,
   "metadata": {},
   "outputs": [
    {
     "data": {
      "text/html": [
       "<span style=\"white-space:pre; font-family: monospace\">┌→──────────────┐\n",
       "↓ ┌→────┐ ┌→──┐ │\n",
       "│ │4 1 5│ │0 0│ │\n",
       "│ └~────┘ └~──┘ │\n",
       "│ ┌→────┐ ┌→──┐ │\n",
       "│ │5 1 1│ │0 0│ │\n",
       "│ └~────┘ └~──┘ │\n",
       "│ ┌→────┐ ┌→──┐ │\n",
       "│ │6 1 3│ │0 0│ │\n",
       "│ └~────┘ └~──┘ │\n",
       "│ ┌→────┐ ┌→──┐ │\n",
       "│ │7 1 4│ │0 0│ │\n",
       "│ └~────┘ └~──┘ │\n",
       "│ ┌→────┐ ┌→──┐ │\n",
       "│ │8 1 2│ │0 0│ │\n",
       "│ └~────┘ └~──┘ │\n",
       "└∊──────────────┘\n",
       "</span>"
      ]
     },
     "execution_count": 49,
     "metadata": {},
     "output_type": "execute_result"
    }
   ],
   "source": [
    "(,¨∘vals)@(rows,¨1)⊢mat"
   ]
  },
  {
   "cell_type": "markdown",
   "metadata": {},
   "source": [
    "How does this work? The right arg of `@` fleshes out the list of row indices to include the column we target:"
   ]
  },
  {
   "cell_type": "code",
   "execution_count": 35,
   "metadata": {},
   "outputs": [
    {
     "data": {
      "text/html": [
       "<span style=\"white-space:pre; font-family: monospace\">┌→────────┐\n",
       "│2 5 3 4 1│\n",
       "└~────────┘\n",
       "</span>"
      ]
     },
     "execution_count": 35,
     "metadata": {},
     "output_type": "execute_result"
    },
    {
     "data": {
      "text/html": [
       "<span style=\"white-space:pre; font-family: monospace\">┌→──────────────────────────────┐\n",
       "│ ┌→──┐ ┌→──┐ ┌→──┐ ┌→──┐ ┌→──┐ │\n",
       "│ │2 1│ │5 1│ │3 1│ │4 1│ │1 1│ │\n",
       "│ └~──┘ └~──┘ └~──┘ └~──┘ └~──┘ │\n",
       "└∊──────────────────────────────┘\n",
       "</span>"
      ]
     },
     "execution_count": 35,
     "metadata": {},
     "output_type": "execute_result"
    }
   ],
   "source": [
    "rows\n",
    "rows,¨1"
   ]
  },
  {
   "cell_type": "markdown",
   "metadata": {},
   "source": [
    "This gives us a complete set of row-col pairs. Let's look at the tacit left argument. It's parsed like so\n",
    "\n",
    "```\n",
    "   ∘               \n",
    "  ┌┴┐              \n",
    "  ¨ vals\n",
    "┌─┘                \n",
    ",                  \n",
    "```\n",
    "which is just `{⍵,¨vals}` as an explicit dfn."
   ]
  },
  {
   "cell_type": "code",
   "execution_count": 36,
   "metadata": {},
   "outputs": [
    {
     "data": {
      "text/html": [
       "<span style=\"white-space:pre; font-family: monospace\">┌→────────────────────────────────────────┐\n",
       "│ ┌→────┐ ┌→────┐ ┌→────┐ ┌→────┐ ┌→────┐ │\n",
       "│ │5 1 1│ │8 1 2│ │6 1 3│ │7 1 4│ │4 1 5│ │\n",
       "│ └~────┘ └~────┘ └~────┘ └~────┘ └~────┘ │\n",
       "└∊────────────────────────────────────────┘\n",
       "</span>"
      ]
     },
     "execution_count": 36,
     "metadata": {},
     "output_type": "execute_result"
    }
   ],
   "source": [
    "{⍵,¨vals} mat[rows,¨1]"
   ]
  },
  {
   "cell_type": "markdown",
   "metadata": {},
   "source": [
    "Finally, `@` inserts everything back."
   ]
  },
  {
   "cell_type": "markdown",
   "metadata": {},
   "source": [
    "Let's look at some types of 'search & replace'. Given an array, some specific values and corresponding replacement values"
   ]
  },
  {
   "cell_type": "code",
   "execution_count": 4,
   "metadata": {},
   "outputs": [],
   "source": [
    "array←?10 3⍴10\n",
    "specific←1 2 3 4\n",
    "replacements←0 10 100 1000"
   ]
  },
  {
   "cell_type": "code",
   "execution_count": 5,
   "metadata": {},
   "outputs": [
    {
     "data": {
      "text/html": [
       "<span style=\"white-space:pre; font-family: monospace\">1000 100 1000\n",
       "  10   0    5\n",
       " 100  10   10\n",
       "  10  10    5\n",
       "   9   8   10\n",
       "1000  10   10\n",
       "   6   8   10\n",
       "  10   0   10\n",
       "   9  10   10\n",
       "   9   9   10\n",
       "</span>"
      ]
     },
     "execution_count": 5,
     "metadata": {},
     "output_type": "execute_result"
    }
   ],
   "source": [
    "{replacements[specific⍳⍵]}@{⍵∊specific} array"
   ]
  },
  {
   "cell_type": "markdown",
   "metadata": {},
   "source": [
    "So this is the `(f@g)Y` form of `@`. See all forms in [APLCart](https://aplcart.info/?q=%40%20primitive#). The right-hand function should return a binary map indicating which positions in the argument array are to be changed. The left-hand function is given each corresponding value as `⍵`, and should return the new value.\n",
    "\n",
    "An alternative formulation mirroring the way that `⎕R` works is:"
   ]
  },
  {
   "cell_type": "code",
   "execution_count": 7,
   "metadata": {},
   "outputs": [
    {
     "data": {
      "text/html": [
       "<span style=\"white-space:pre; font-family: monospace\">1000 100 1000\n",
       "  10   0    5\n",
       " 100  10   10\n",
       "  10  10    5\n",
       "   9   8   10\n",
       "1000  10   10\n",
       "   6   8   10\n",
       "  10   0   10\n",
       "   9  10   10\n",
       "   9   9   10\n",
       "</span>"
      ]
     },
     "execution_count": 7,
     "metadata": {},
     "output_type": "execute_result"
    }
   ],
   "source": [
    "Repl←{⍺⍺(⍵⍵⌷⍨∘⊂⍳)@(∊∘⍺⍺)⍵}\n",
    "specific Repl replacements ⊢ array"
   ]
  },
  {
   "cell_type": "markdown",
   "metadata": {},
   "source": [
    "See https://aplcart.info/?q=search-and-replace#"
   ]
  },
  {
   "cell_type": "markdown",
   "metadata": {},
   "source": [
    "We can pick columns any number of ways:"
   ]
  },
  {
   "cell_type": "code",
   "execution_count": 21,
   "metadata": {},
   "outputs": [
    {
     "data": {
      "text/html": [
       "<span style=\"white-space:pre; font-family: monospace\">┌→───────┐\n",
       "↓1 2  1 2│\n",
       "│2 1  6 2│\n",
       "│9 9 10 1│\n",
       "└~───────┘\n",
       "</span>"
      ]
     },
     "execution_count": 21,
     "metadata": {},
     "output_type": "execute_result"
    }
   ],
   "source": [
    "⎕←mat←3 4⍴?⍳12"
   ]
  },
  {
   "cell_type": "code",
   "execution_count": 29,
   "metadata": {},
   "outputs": [
    {
     "data": {
      "text/html": [
       "<span style=\"white-space:pre; font-family: monospace\">┌→──┐\n",
       "↓1 2│\n",
       "│2 1│\n",
       "│9 9│\n",
       "└~──┘\n",
       "</span>"
      ]
     },
     "execution_count": 29,
     "metadata": {},
     "output_type": "execute_result"
    },
    {
     "data": {
      "text/html": [
       "<span style=\"white-space:pre; font-family: monospace\">┌→──┐\n",
       "↓1 2│\n",
       "│2 1│\n",
       "│9 9│\n",
       "└~──┘\n",
       "</span>"
      ]
     },
     "execution_count": 29,
     "metadata": {},
     "output_type": "execute_result"
    },
    {
     "data": {
      "text/html": [
       "<span style=\"white-space:pre; font-family: monospace\">┌→──┐\n",
       "↓1 2│\n",
       "│2 1│\n",
       "│9 9│\n",
       "└~──┘\n",
       "</span>"
      ]
     },
     "execution_count": 29,
     "metadata": {},
     "output_type": "execute_result"
    }
   ],
   "source": [
    "2↑⍤1⊢mat        ⍝ Two first, as proper columns\n",
    "mat[;1 2]       ⍝ Brackets, as proper columns\n",
    "(⊂1 2)⌷[2]mat   ⍝ Using squad ⌷, somewhat clumsily"
   ]
  },
  {
   "cell_type": "markdown",
   "metadata": {},
   "source": [
    "First location of element:"
   ]
  },
  {
   "cell_type": "code",
   "execution_count": 27,
   "metadata": {},
   "outputs": [
    {
     "data": {
      "text/html": [
       "<span style=\"white-space:pre; font-family: monospace\">2\n",
       "</span>"
      ]
     },
     "execution_count": 27,
     "metadata": {},
     "output_type": "execute_result"
    }
   ],
   "source": [
    "keys←(0 0)(0 1)(3 2)\n",
    "keys ⍳ (⊂0 1)"
   ]
  },
  {
   "cell_type": "markdown",
   "metadata": {},
   "source": [
    "Bind argument to a lookup function for an immutable \"hash table\":"
   ]
  },
  {
   "cell_type": "code",
   "execution_count": 15,
   "metadata": {},
   "outputs": [
    {
     "data": {
      "text/html": [
       "<span style=\"white-space:pre; font-family: monospace\"> \n",
       "4\n",
       " \n",
       "</span>"
      ]
     },
     "execution_count": 15,
     "metadata": {},
     "output_type": "execute_result"
    }
   ],
   "source": [
    "find←keys∘⍳\n",
    "find ⊂0 9"
   ]
  },
  {
   "cell_type": "markdown",
   "metadata": {},
   "source": [
    "## Products\n",
    "\n",
    "Cartesian product"
   ]
  },
  {
   "cell_type": "markdown",
   "metadata": {},
   "source": [
    "Think of the arguments to iota as defining the shape of the result:"
   ]
  },
  {
   "cell_type": "code",
   "execution_count": 106,
   "metadata": {},
   "outputs": [
    {
     "data": {
      "text/html": [
       "<span style=\"white-space:pre; font-family: monospace\">┌→──────────────────────────────────────────────────────┐\n",
       "│ ┌→──┐ ┌→──┐ ┌→──┐ ┌→──┐ ┌→──┐ ┌→──┐ ┌→──┐ ┌→──┐ ┌→──┐ │\n",
       "│ │1 1│ │1 2│ │1 3│ │2 1│ │2 2│ │2 3│ │3 1│ │3 2│ │3 3│ │\n",
       "│ └~──┘ └~──┘ └~──┘ └~──┘ └~──┘ └~──┘ └~──┘ └~──┘ └~──┘ │\n",
       "└∊──────────────────────────────────────────────────────┘\n",
       "</span>"
      ]
     },
     "execution_count": 106,
     "metadata": {},
     "output_type": "execute_result"
    }
   ],
   "source": [
    "pairs ← {,⍳⍵ ⍵}\n",
    "pairs 3"
   ]
  },
  {
   "cell_type": "markdown",
   "metadata": {},
   "source": [
    "To pair the elements of two equal-length vectors, we can do:"
   ]
  },
  {
   "cell_type": "code",
   "execution_count": 50,
   "metadata": {},
   "outputs": [
    {
     "data": {
      "text/html": [
       "<span style=\"white-space:pre; font-family: monospace\">┌→────────────────────────┐\n",
       "│ ┌→──┐ ┌→──┐ ┌→──┐ ┌→──┐ │\n",
       "│ │1 5│ │2 6│ │3 7│ │4 8│ │\n",
       "│ └~──┘ └~──┘ └~──┘ └~──┘ │\n",
       "└∊────────────────────────┘\n",
       "</span>"
      ]
     },
     "execution_count": 50,
     "metadata": {},
     "output_type": "execute_result"
    }
   ],
   "source": [
    "1 2 3 4,¨5 6 7 8"
   ]
  },
  {
   "cell_type": "markdown",
   "metadata": {},
   "source": [
    "or"
   ]
  },
  {
   "cell_type": "code",
   "execution_count": 51,
   "metadata": {},
   "outputs": [
    {
     "data": {
      "text/html": [
       "<span style=\"white-space:pre; font-family: monospace\">┌→────────────────────────┐\n",
       "│ ┌→──┐ ┌→──┐ ┌→──┐ ┌→──┐ │\n",
       "│ │1 5│ │2 6│ │3 7│ │4 8│ │\n",
       "│ └~──┘ └~──┘ └~──┘ └~──┘ │\n",
       "└∊────────────────────────┘\n",
       "</span>"
      ]
     },
     "execution_count": 51,
     "metadata": {},
     "output_type": "execute_result"
    }
   ],
   "source": [
    "↓⍉↑(1 2 3 4)(5 6 7 8)"
   ]
  },
  {
   "cell_type": "markdown",
   "metadata": {},
   "source": [
    "Primes between 1 and 100, but see fast prime sieve `pco` in `dfns`."
   ]
  },
  {
   "cell_type": "code",
   "execution_count": 107,
   "metadata": {},
   "outputs": [
    {
     "data": {
      "text/html": [
       "<span style=\"white-space:pre; font-family: monospace\">┌→─────────────────────────────────────────────────────────────────────┐\n",
       "│2 3 5 7 11 13 17 19 23 29 31 37 41 43 47 53 59 61 67 71 73 79 83 89 97│\n",
       "└~─────────────────────────────────────────────────────────────────────┘\n",
       "</span>"
      ]
     },
     "execution_count": 107,
     "metadata": {},
     "output_type": "execute_result"
    }
   ],
   "source": [
    "(~R∊R∘.×R)/R←1↓⍳100"
   ]
  },
  {
   "cell_type": "markdown",
   "metadata": {},
   "source": [
    "## Composition (Currying)\n",
    "\n",
    "We can curry a dyadic function down to a monadic function by fixing either left or right argument:"
   ]
  },
  {
   "cell_type": "code",
   "execution_count": 108,
   "metadata": {},
   "outputs": [],
   "source": [
    "sum←{⍺+⍵}\n",
    "add5←5∘sum"
   ]
  },
  {
   "cell_type": "code",
   "execution_count": 109,
   "metadata": {},
   "outputs": [
    {
     "data": {
      "text/html": [
       "<span style=\"white-space:pre; font-family: monospace\">  \n",
       "12\n",
       "  \n",
       "</span>"
      ]
     },
     "execution_count": 109,
     "metadata": {},
     "output_type": "execute_result"
    }
   ],
   "source": [
    "add5 7"
   ]
  },
  {
   "cell_type": "code",
   "execution_count": 110,
   "metadata": {},
   "outputs": [
    {
     "data": {
      "text/html": [
       "<span style=\"white-space:pre; font-family: monospace\">┌→───────────────┐\n",
       "│6 7 8 9 10 11 12│\n",
       "└~───────────────┘\n",
       "</span>"
      ]
     },
     "execution_count": 110,
     "metadata": {},
     "output_type": "execute_result"
    }
   ],
   "source": [
    "add5 1 2 3 4 5 6 7"
   ]
  },
  {
   "cell_type": "markdown",
   "metadata": {},
   "source": [
    "## Shape and Rank\n",
    "\n",
    "Pair consecutive elements in a vector"
   ]
  },
  {
   "cell_type": "code",
   "execution_count": 111,
   "metadata": {},
   "outputs": [
    {
     "data": {
      "text/html": [
       "<span style=\"white-space:pre; font-family: monospace\">┌→───────────────────────────────┐\n",
       "│ ┌→──┐ ┌→──┐ ┌→──┐ ┌→──┐ ┌→───┐ │\n",
       "│ │1 2│ │3 4│ │5 6│ │7 8│ │9 10│ │\n",
       "│ └~──┘ └~──┘ └~──┘ └~──┘ └~───┘ │\n",
       "└∊───────────────────────────────┘\n",
       "</span>"
      ]
     },
     "execution_count": 111,
     "metadata": {},
     "output_type": "execute_result"
    }
   ],
   "source": [
    "{⊂⍵}⌺(⍪2 2) ⊢ ⍳10"
   ]
  },
  {
   "cell_type": "code",
   "execution_count": 112,
   "metadata": {},
   "outputs": [
    {
     "data": {
      "text/html": [
       "<span style=\"white-space:pre; font-family: monospace\">┌→───────────────────────────────┐\n",
       "│ ┌→──┐ ┌→──┐ ┌→──┐ ┌→──┐ ┌→───┐ │\n",
       "│ │1 2│ │3 4│ │5 6│ │7 8│ │9 10│ │\n",
       "│ └~──┘ └~──┘ └~──┘ └~──┘ └~───┘ │\n",
       "└∊───────────────────────────────┘\n",
       "</span>"
      ]
     },
     "execution_count": 112,
     "metadata": {},
     "output_type": "execute_result"
    }
   ],
   "source": [
    ",⌿⍉5 2 ⍴ ⍳10"
   ]
  },
  {
   "cell_type": "code",
   "execution_count": 113,
   "metadata": {},
   "outputs": [
    {
     "data": {
      "text/html": [
       "<span style=\"white-space:pre; font-family: monospace\">┌→───────────────────────────────┐\n",
       "│ ┌→──┐ ┌→──┐ ┌→──┐ ┌→──┐ ┌→───┐ │\n",
       "│ │1 2│ │3 4│ │5 6│ │7 8│ │9 10│ │\n",
       "│ └~──┘ └~──┘ └~──┘ └~──┘ └~───┘ │\n",
       "└∊───────────────────────────────┘\n",
       "</span>"
      ]
     },
     "execution_count": 113,
     "metadata": {},
     "output_type": "execute_result"
    }
   ],
   "source": [
    "↓5 2 ⍴ ⍳10"
   ]
  },
  {
   "cell_type": "markdown",
   "metadata": {},
   "source": [
    "Probably most idiomatic: windowed reduction"
   ]
  },
  {
   "cell_type": "code",
   "execution_count": 16,
   "metadata": {},
   "outputs": [
    {
     "data": {
      "text/html": [
       "<span style=\"white-space:pre; font-family: monospace\">┌───┬───┬───┬───┬───┬───┬───┬───┬───┐\n",
       "│0 1│1 2│2 3│3 4│4 5│5 6│6 7│7 8│8 9│\n",
       "└───┴───┴───┴───┴───┴───┴───┴───┴───┘\n",
       "</span>"
      ]
     },
     "execution_count": 16,
     "metadata": {},
     "output_type": "execute_result"
    }
   ],
   "source": [
    "2,⌿⍳10"
   ]
  },
  {
   "cell_type": "markdown",
   "metadata": {},
   "source": [
    "Overlapping pairs"
   ]
  },
  {
   "cell_type": "code",
   "execution_count": 54,
   "metadata": {},
   "outputs": [
    {
     "data": {
      "text/html": [
       "<span style=\"white-space:pre; font-family: monospace\">┌→───────────────────────────────────────────────────────┐\n",
       "│ ┌→──┐ ┌→──┐ ┌→──┐ ┌→──┐ ┌→──┐ ┌→──┐ ┌→──┐ ┌→──┐ ┌→───┐ │\n",
       "│ │1 2│ │2 3│ │3 4│ │4 5│ │5 6│ │6 7│ │7 8│ │8 9│ │9 10│ │\n",
       "│ └~──┘ └~──┘ └~──┘ └~──┘ └~──┘ └~──┘ └~──┘ └~──┘ └~───┘ │\n",
       "└∊───────────────────────────────────────────────────────┘\n",
       "</span>"
      ]
     },
     "execution_count": 54,
     "metadata": {},
     "output_type": "execute_result"
    }
   ],
   "source": [
    "{⊂⍵}⌺2 ⊢ ⍳10"
   ]
  },
  {
   "cell_type": "markdown",
   "metadata": {},
   "source": [
    "## Folds\n",
    "\n",
    "The reduce operator / folds R-L. It's possible to define a fold operator that works L-R. All this does is to prepend the accumulator, and reverse the array we're folding before applying the normal fold."
   ]
  },
  {
   "cell_type": "code",
   "execution_count": 115,
   "metadata": {},
   "outputs": [
    {
     "data": {
      "text/html": [
       "<span style=\"white-space:pre; font-family: monospace\">  \n",
       "15\n",
       "  \n",
       "</span>"
      ]
     },
     "execution_count": 115,
     "metadata": {},
     "output_type": "execute_result"
    }
   ],
   "source": [
    "0 + foldl 1 2 3 4 5 ⍝ Must give initial accumulator state"
   ]
  },
  {
   "cell_type": "markdown",
   "metadata": {},
   "source": [
    "Note that this operator (and many others) exists in the standard Dyalog workspace [dfns](https://dfns.dyalog.com/s_foldl.htm), which can be imported as ⎕CY 'dfns'"
   ]
  },
  {
   "cell_type": "markdown",
   "metadata": {},
   "source": [
    "## On ranges\n",
    "\n",
    "In Python, for example, you can specify a [range](https://docs.python.org/3/library/functions.html#func-range) as `range(start, end)` which gives an iterator from start to end-1. In Dyalog there isn't a direct equivalent, but one can be made from the iota operator."
   ]
  },
  {
   "cell_type": "code",
   "execution_count": 116,
   "metadata": {},
   "outputs": [
    {
     "data": {
      "text/html": [
       "<span style=\"white-space:pre; font-family: monospace\">┌→────────┐\n",
       "│5 6 7 8 9│\n",
       "└~────────┘\n",
       "</span>"
      ]
     },
     "execution_count": 116,
     "metadata": {},
     "output_type": "execute_result"
    }
   ],
   "source": [
    "¯1+5 {⍺↓⍳⍵} 10   ⍝ Wasteful, as generating from ⎕IO"
   ]
  },
  {
   "cell_type": "code",
   "execution_count": 117,
   "metadata": {},
   "outputs": [
    {
     "data": {
      "text/html": [
       "<span style=\"white-space:pre; font-family: monospace\">┌→────────┐\n",
       "│5 6 7 8 9│\n",
       "└~────────┘\n",
       "</span>"
      ]
     },
     "execution_count": 117,
     "metadata": {},
     "output_type": "execute_result"
    }
   ],
   "source": [
    "¯1+5 (⊣↓∘⍳) 10   ⍝ The abobve as a train"
   ]
  },
  {
   "cell_type": "code",
   "execution_count": 118,
   "metadata": {},
   "outputs": [
    {
     "data": {
      "text/html": [
       "<span style=\"white-space:pre; font-family: monospace\">┌→────────┐\n",
       "│5 6 7 8 9│\n",
       "└~────────┘\n",
       "</span>"
      ]
     },
     "execution_count": 118,
     "metadata": {},
     "output_type": "execute_result"
    }
   ],
   "source": [
    "¯1+5 {⍺+⍳⍵-⍺} 10 ⍝ Better!"
   ]
  },
  {
   "cell_type": "code",
   "execution_count": 119,
   "metadata": {},
   "outputs": [
    {
     "data": {
      "text/html": [
       "<span style=\"white-space:pre; font-family: monospace\">┌→────────┐\n",
       "│5 6 7 8 9│\n",
       "└~────────┘\n",
       "</span>"
      ]
     },
     "execution_count": 119,
     "metadata": {},
     "output_type": "execute_result"
    }
   ],
   "source": [
    "¯1+5 (⊣+∘⍳-⍨) 10 ⍝ The above as a train"
   ]
  },
  {
   "cell_type": "code",
   "execution_count": 1,
   "metadata": {},
   "outputs": [
    {
     "data": {
      "text/html": [
       "<span style=\"white-space:pre; font-family: monospace\">Rebuilding user command cache... done\n",
       "</span>"
      ]
     },
     "execution_count": 1,
     "metadata": {},
     "output_type": "execute_result"
    },
    {
     "data": {
      "text/html": [
       "<span style=\"white-space:pre; font-family: monospace\">12 9 6 3\n",
       "</span>"
      ]
     },
     "execution_count": 1,
     "metadata": {},
     "output_type": "execute_result"
    }
   ],
   "source": [
    "'iotag'⎕CY'dfns' ⍝ iotag -- generalised iota\n",
    "12 iotag 3 3 ⍝ 12 downto 3, step 3"
   ]
  },
  {
   "cell_type": "markdown",
   "metadata": {},
   "source": [
    "## Stencils\n",
    "\n",
    "Pick out 3x3 regions of a larger matrix. The stencil takes a function to the left and a shape to the right and returns a monad.\n",
    "\n",
    "This from https://chat.stackexchange.com/rooms/52405/conversation/lesson-5-even-more-apl-operators--"
   ]
  },
  {
   "cell_type": "code",
   "execution_count": 120,
   "metadata": {},
   "outputs": [
    {
     "data": {
      "text/html": [
       "<span style=\"white-space:pre; font-family: monospace\">┌→─────┐\n",
       "↓ABCDEF│\n",
       "│GHIJKL│\n",
       "│MNOPQR│\n",
       "│STUVWX│\n",
       "└──────┘\n",
       "</span>"
      ]
     },
     "execution_count": 120,
     "metadata": {},
     "output_type": "execute_result"
    },
    {
     "data": {
      "text/html": [
       "<span style=\"white-space:pre; font-family: monospace\">┌→────────────────────────────────────┐\n",
       "↓ ┌→──┐ ┌→──┐ ┌→──┐ ┌→──┐ ┌→──┐ ┌→──┐ │\n",
       "│ ↓   │ ↓   │ ↓   │ ↓   │ ↓   │ ↓   │ │\n",
       "│ │ AB│ │ABC│ │BCD│ │CDE│ │DEF│ │EF │ │\n",
       "│ │ GH│ │GHI│ │HIJ│ │IJK│ │JKL│ │KL │ │\n",
       "│ └───┘ └───┘ └───┘ └───┘ └───┘ └───┘ │\n",
       "│ ┌→──┐ ┌→──┐ ┌→──┐ ┌→──┐ ┌→──┐ ┌→──┐ │\n",
       "│ ↓ AB│ ↓ABC│ ↓BCD│ ↓CDE│ ↓DEF│ ↓EF │ │\n",
       "│ │ GH│ │GHI│ │HIJ│ │IJK│ │JKL│ │KL │ │\n",
       "│ │ MN│ │MNO│ │NOP│ │OPQ│ │PQR│ │QR │ │\n",
       "│ └───┘ └───┘ └───┘ └───┘ └───┘ └───┘ │\n",
       "│ ┌→──┐ ┌→──┐ ┌→──┐ ┌→──┐ ┌→──┐ ┌→──┐ │\n",
       "│ ↓ GH│ ↓GHI│ ↓HIJ│ ↓IJK│ ↓JKL│ ↓KL │ │\n",
       "│ │ MN│ │MNO│ │NOP│ │OPQ│ │PQR│ │QR │ │\n",
       "│ │ ST│ │STU│ │TUV│ │UVW│ │VWX│ │WX │ │\n",
       "│ └───┘ └───┘ └───┘ └───┘ └───┘ └───┘ │\n",
       "│ ┌→──┐ ┌→──┐ ┌→──┐ ┌→──┐ ┌→──┐ ┌→──┐ │\n",
       "│ ↓ MN│ ↓MNO│ ↓NOP│ ↓OPQ│ ↓PQR│ ↓QR │ │\n",
       "│ │ ST│ │STU│ │TUV│ │UVW│ │VWX│ │WX │ │\n",
       "│ │   │ │   │ │   │ │   │ │   │ │   │ │\n",
       "│ └───┘ └───┘ └───┘ └───┘ └───┘ └───┘ │\n",
       "└∊────────────────────────────────────┘\n",
       "</span>"
      ]
     },
     "execution_count": 120,
     "metadata": {},
     "output_type": "execute_result"
    }
   ],
   "source": [
    "⎕←letters ← 4 6⍴⎕A\n",
    "{⊂⍵}⌺3 3 ⊢ letters     ⍝ Enclose the selected window"
   ]
  },
  {
   "cell_type": "markdown",
   "metadata": {},
   "source": [
    "The padding is defined by ⍺ in the operand function:"
   ]
  },
  {
   "cell_type": "code",
   "execution_count": 121,
   "metadata": {},
   "outputs": [
    {
     "data": {
      "text/html": [
       "<span style=\"white-space:pre; font-family: monospace\">┌→───────────────────────────────────────────┐\n",
       "↓ ┌→──┐  ┌→──┐  ┌→──┐  ┌→──┐  ┌→──┐  ┌→───┐  │\n",
       "│ │1 1│  │1 0│  │1 0│  │1 0│  │1 0│  │1 ¯1│  │\n",
       "│ └~──┘  └~──┘  └~──┘  └~──┘  └~──┘  └~───┘  │\n",
       "│ ┌→──┐  ┌→──┐  ┌→──┐  ┌→──┐  ┌→──┐  ┌→───┐  │\n",
       "│ │0 1│  │0 0│  │0 0│  │0 0│  │0 0│  │0 ¯1│  │\n",
       "│ └~──┘  └~──┘  └~──┘  └~──┘  └~──┘  └~───┘  │\n",
       "│ ┌→──┐  ┌→──┐  ┌→──┐  ┌→──┐  ┌→──┐  ┌→───┐  │\n",
       "│ │0 1│  │0 0│  │0 0│  │0 0│  │0 0│  │0 ¯1│  │\n",
       "│ └~──┘  └~──┘  └~──┘  └~──┘  └~──┘  └~───┘  │\n",
       "│ ┌→───┐ ┌→───┐ ┌→───┐ ┌→───┐ ┌→───┐ ┌→────┐ │\n",
       "│ │¯1 1│ │¯1 0│ │¯1 0│ │¯1 0│ │¯1 0│ │¯1 ¯1│ │\n",
       "│ └~───┘ └~───┘ └~───┘ └~───┘ └~───┘ └~────┘ │\n",
       "└∊───────────────────────────────────────────┘\n",
       "</span>"
      ]
     },
     "execution_count": 121,
     "metadata": {},
     "output_type": "execute_result"
    }
   ],
   "source": [
    "({⊂⍺}⌺3 3) ⊢ letters"
   ]
  },
  {
   "cell_type": "code",
   "execution_count": 122,
   "metadata": {},
   "outputs": [
    {
     "data": {
      "text/html": [
       "<span style=\"white-space:pre; font-family: monospace\">┌→──────────────────────────────────┐\n",
       "↓ ┌→─┐ ┌→──┐ ┌→──┐ ┌→──┐ ┌→──┐ ┌→─┐ │\n",
       "│ ↓AB│ ↓ABC│ ↓BCD│ ↓CDE│ ↓DEF│ ↓EF│ │\n",
       "│ │GH│ │GHI│ │HIJ│ │IJK│ │JKL│ │KL│ │\n",
       "│ └──┘ └───┘ └───┘ └───┘ └───┘ └──┘ │\n",
       "│ ┌→─┐ ┌→──┐ ┌→──┐ ┌→──┐ ┌→──┐ ┌→─┐ │\n",
       "│ ↓AB│ ↓ABC│ ↓BCD│ ↓CDE│ ↓DEF│ ↓EF│ │\n",
       "│ │GH│ │GHI│ │HIJ│ │IJK│ │JKL│ │KL│ │\n",
       "│ │MN│ │MNO│ │NOP│ │OPQ│ │PQR│ │QR│ │\n",
       "│ └──┘ └───┘ └───┘ └───┘ └───┘ └──┘ │\n",
       "│ ┌→─┐ ┌→──┐ ┌→──┐ ┌→──┐ ┌→──┐ ┌→─┐ │\n",
       "│ ↓GH│ ↓GHI│ ↓HIJ│ ↓IJK│ ↓JKL│ ↓KL│ │\n",
       "│ │MN│ │MNO│ │NOP│ │OPQ│ │PQR│ │QR│ │\n",
       "│ │ST│ │STU│ │TUV│ │UVW│ │VWX│ │WX│ │\n",
       "│ └──┘ └───┘ └───┘ └───┘ └───┘ └──┘ │\n",
       "│ ┌→─┐ ┌→──┐ ┌→──┐ ┌→──┐ ┌→──┐ ┌→─┐ │\n",
       "│ ↓MN│ ↓MNO│ ↓NOP│ ↓OPQ│ ↓PQR│ ↓QR│ │\n",
       "│ │ST│ │STU│ │TUV│ │UVW│ │VWX│ │WX│ │\n",
       "│ └──┘ └───┘ └───┘ └───┘ └───┘ └──┘ │\n",
       "└∊──────────────────────────────────┘\n",
       "</span>"
      ]
     },
     "execution_count": 122,
     "metadata": {},
     "output_type": "execute_result"
    }
   ],
   "source": [
    "({⊂⍺↓⍵}⌺3 3) ⊢ letters"
   ]
  },
  {
   "cell_type": "markdown",
   "metadata": {},
   "source": [
    "## Key"
   ]
  },
  {
   "cell_type": "code",
   "execution_count": 123,
   "metadata": {},
   "outputs": [
    {
     "data": {
      "text/html": [
       "<span style=\"white-space:pre; font-family: monospace\">┌→──────────┐\n",
       "↓M 1        │\n",
       "│i 2  5 8 11│\n",
       "│s 3  4 6  7│\n",
       "│p 9 10     │\n",
       "└+──────────┘\n",
       "</span>"
      ]
     },
     "execution_count": 123,
     "metadata": {},
     "output_type": "execute_result"
    }
   ],
   "source": [
    "{⍺,⍵}⌸'Mississippi'  ⍝ Show indexes of items, by item"
   ]
  },
  {
   "cell_type": "code",
   "execution_count": 124,
   "metadata": {},
   "outputs": [
    {
     "data": {
      "text/html": [
       "<span style=\"white-space:pre; font-family: monospace\">┌→──┐\n",
       "↓M 1│\n",
       "│i 4│\n",
       "│s 4│\n",
       "│p 2│\n",
       "└+──┘\n",
       "</span>"
      ]
     },
     "execution_count": 124,
     "metadata": {},
     "output_type": "execute_result"
    }
   ],
   "source": [
    "{⍺,≢⍵}⌸'Mississippi' ⍝ Frequencies"
   ]
  },
  {
   "cell_type": "markdown",
   "metadata": {},
   "source": [
    "...or as tacit"
   ]
  },
  {
   "cell_type": "code",
   "execution_count": 125,
   "metadata": {},
   "outputs": [
    {
     "data": {
      "text/html": [
       "<span style=\"white-space:pre; font-family: monospace\">┌→──┐\n",
       "↓M 1│\n",
       "│i 4│\n",
       "│s 4│\n",
       "│p 2│\n",
       "└+──┘\n",
       "</span>"
      ]
     },
     "execution_count": 125,
     "metadata": {},
     "output_type": "execute_result"
    }
   ],
   "source": [
    "(,∘≢⌸)'Mississippi'"
   ]
  },
  {
   "cell_type": "markdown",
   "metadata": {},
   "source": [
    "Pick the most frequent item, returning all if several"
   ]
  },
  {
   "cell_type": "code",
   "execution_count": 126,
   "metadata": {},
   "outputs": [
    {
     "data": {
      "text/html": [
       "<span style=\"white-space:pre; font-family: monospace\">┌→─┐\n",
       "│is│\n",
       "└──┘\n",
       "</span>"
      ]
     },
     "execution_count": 126,
     "metadata": {},
     "output_type": "execute_result"
    }
   ],
   "source": [
    "{(⊣/m)/⍨frq⍷⍨frq⌷⍨⊃⍒frq←⊢/m←(,∘≢⌸)⍵} 'Mississippi' ⍝ Most frequent"
   ]
  },
  {
   "cell_type": "markdown",
   "metadata": {},
   "source": [
    "## Sliding Tiles example\n",
    "\n",
    "With ample help from @ngn on APL Orchard."
   ]
  },
  {
   "cell_type": "code",
   "execution_count": 127,
   "metadata": {},
   "outputs": [],
   "source": [
    "]dinput\n",
    "moves←{\n",
    "     d←(0 1)(1 0)(0 ¯1)(¯1 0)      ⍝ Move offsets\n",
    "     m←⍵\n",
    "     {⌽@i ⍵⊢m}¨(,⍳⍴m)∩d+⊂i←⊃⍸0=m\n",
    " }"
   ]
  },
  {
   "cell_type": "code",
   "execution_count": 130,
   "metadata": {},
   "outputs": [
    {
     "data": {
      "text/html": [
       "<span style=\"white-space:pre; font-family: monospace\">┌→──────────────────────────────────────────┐\n",
       "│ ┌→──────────┐ ┌→──────────┐ ┌→──────────┐ │\n",
       "│ ↓ 3  0  2  8│ ↓ 3  2  8  0│ ↓ 3  2  5  8│ │\n",
       "│ │11 15  5  7│ │11 15  5  7│ │11 15  0  7│ │\n",
       "│ │13 10  9 12│ │13 10  9 12│ │13 10  9 12│ │\n",
       "│ │ 1  4 14  6│ │ 1  4 14  6│ │ 1  4 14  6│ │\n",
       "│ └~──────────┘ └~──────────┘ └~──────────┘ │\n",
       "└∊──────────────────────────────────────────┘\n",
       "</span>"
      ]
     },
     "execution_count": 130,
     "metadata": {},
     "output_type": "execute_result"
    }
   ],
   "source": [
    "state←¯1+4 4⍴?⍨16\n",
    "moves state"
   ]
  },
  {
   "cell_type": "markdown",
   "metadata": {},
   "source": [
    "A lot to decode here. The `i` expression gives the row-col of the 0 element:"
   ]
  },
  {
   "cell_type": "code",
   "execution_count": 131,
   "metadata": {},
   "outputs": [
    {
     "data": {
      "text/html": [
       "<span style=\"white-space:pre; font-family: monospace\">┌→──────────┐\n",
       "↓ 3  2  0  8│\n",
       "│11 15  5  7│\n",
       "│13 10  9 12│\n",
       "│ 1  4 14  6│\n",
       "└~──────────┘\n",
       "┌→──┐\n",
       "│1 3│\n",
       "└~──┘\n",
       "</span>"
      ]
     },
     "execution_count": 131,
     "metadata": {},
     "output_type": "execute_result"
    }
   ],
   "source": [
    "state ⋄ ⊃⍸0=state"
   ]
  },
  {
   "cell_type": "markdown",
   "metadata": {},
   "source": [
    "Adding the offsets gives all potential moves:"
   ]
  },
  {
   "cell_type": "code",
   "execution_count": 132,
   "metadata": {},
   "outputs": [
    {
     "data": {
      "text/html": [
       "<span style=\"white-space:pre; font-family: monospace\">┌→────────────────────────┐\n",
       "│ ┌→──┐ ┌→──┐ ┌→──┐ ┌→──┐ │\n",
       "│ │1 4│ │2 3│ │1 2│ │0 3│ │\n",
       "│ └~──┘ └~──┘ └~──┘ └~──┘ │\n",
       "└∊────────────────────────┘\n",
       "</span>"
      ]
     },
     "execution_count": 132,
     "metadata": {},
     "output_type": "execute_result"
    }
   ],
   "source": [
    "d←(0 1)(1 0)(0 ¯1)(¯1 0)\n",
    "d+⊂i←⊃⍸0=state                ⍝ disclose-enclose as we want the enclosed version later"
   ]
  },
  {
   "cell_type": "markdown",
   "metadata": {},
   "source": [
    "Given the shape of m we can generate all valid coordinate pairs"
   ]
  },
  {
   "cell_type": "code",
   "execution_count": 133,
   "metadata": {},
   "outputs": [
    {
     "data": {
      "text/html": [
       "<span style=\"white-space:pre; font-family: monospace\">┌→────────────────────────────────────────────────────────────────────────────────────────────────┐\n",
       "│ ┌→──┐ ┌→──┐ ┌→──┐ ┌→──┐ ┌→──┐ ┌→──┐ ┌→──┐ ┌→──┐ ┌→──┐ ┌→──┐ ┌→──┐ ┌→──┐ ┌→──┐ ┌→──┐ ┌→──┐ ┌→──┐ │\n",
       "│ │1 1│ │1 2│ │1 3│ │1 4│ │2 1│ │2 2│ │2 3│ │2 4│ │3 1│ │3 2│ │3 3│ │3 4│ │4 1│ │4 2│ │4 3│ │4 4│ │\n",
       "│ └~──┘ └~──┘ └~──┘ └~──┘ └~──┘ └~──┘ └~──┘ └~──┘ └~──┘ └~──┘ └~──┘ └~──┘ └~──┘ └~──┘ └~──┘ └~──┘ │\n",
       "└∊────────────────────────────────────────────────────────────────────────────────────────────────┘\n",
       "</span>"
      ]
     },
     "execution_count": 133,
     "metadata": {},
     "output_type": "execute_result"
    }
   ],
   "source": [
    ",⍳⍴state"
   ]
  },
  {
   "cell_type": "markdown",
   "metadata": {},
   "source": [
    "and then discard the moves that falls out of range as an intersection:"
   ]
  },
  {
   "cell_type": "code",
   "execution_count": 134,
   "metadata": {},
   "outputs": [
    {
     "data": {
      "text/html": [
       "<span style=\"white-space:pre; font-family: monospace\">┌→──────────────────┐\n",
       "│ ┌→──┐ ┌→──┐ ┌→──┐ │\n",
       "│ │1 2│ │1 4│ │2 3│ │\n",
       "│ └~──┘ └~──┘ └~──┘ │\n",
       "└∊──────────────────┘\n",
       "</span>"
      ]
     },
     "execution_count": 134,
     "metadata": {},
     "output_type": "execute_result"
    }
   ],
   "source": [
    "(,⍳⍴state)∩d+⊂i←⊃⍸0=state"
   ]
  },
  {
   "cell_type": "markdown",
   "metadata": {},
   "source": [
    "We now map `{⌽@i ⍵⊢m}` over the list of valid moves. How does that work?"
   ]
  },
  {
   "cell_type": "code",
   "execution_count": 135,
   "metadata": {},
   "outputs": [
    {
     "data": {
      "text/html": [
       "<span style=\"white-space:pre; font-family: monospace\">┌→──────────────────────────────────────────┐\n",
       "│ ┌→──────────┐ ┌→──────────┐ ┌→──────────┐ │\n",
       "│ ↓ 3  0  2  8│ ↓ 3  2  8  0│ ↓ 3  2  5  8│ │\n",
       "│ │11 15  5  7│ │11 15  5  7│ │11 15  0  7│ │\n",
       "│ │13 10  9 12│ │13 10  9 12│ │13 10  9 12│ │\n",
       "│ │ 1  4 14  6│ │ 1  4 14  6│ │ 1  4 14  6│ │\n",
       "│ └~──────────┘ └~──────────┘ └~──────────┘ │\n",
       "└∊──────────────────────────────────────────┘\n",
       "</span>"
      ]
     },
     "execution_count": 135,
     "metadata": {},
     "output_type": "execute_result"
    }
   ],
   "source": [
    "{⌽@i ⍵⊢state}¨(,⍳⍴state)∩d+⊂i←⊃⍸0=state"
   ]
  },
  {
   "cell_type": "markdown",
   "metadata": {},
   "source": [
    "The dyadic `@` glyph in this case applies the reverse function `⌽` on the set of indexes given to its right argument. For example, if we want to switch the elements at (1 1) and (1 2) in m, we could say:"
   ]
  },
  {
   "cell_type": "code",
   "execution_count": 137,
   "metadata": {},
   "outputs": [
    {
     "data": {
      "text/html": [
       "<span style=\"white-space:pre; font-family: monospace\">┌→──────────┐\n",
       "↓ 3  2  0  8│\n",
       "│11 15  5  7│\n",
       "│13 10  9 12│\n",
       "│ 1  4 14  6│\n",
       "└~──────────┘\n",
       "┌→──────────┐\n",
       "↓ 2  3  0  8│\n",
       "│11 15  5  7│\n",
       "│13 10  9 12│\n",
       "│ 1  4 14  6│\n",
       "└~──────────┘\n",
       "</span>"
      ]
     },
     "execution_count": 137,
     "metadata": {},
     "output_type": "execute_result"
    }
   ],
   "source": [
    "state ⋄ (⌽@(1 1) (1 2)) state"
   ]
  },
  {
   "cell_type": "markdown",
   "metadata": {},
   "source": [
    "Using the right-tack `⊢` we can drop the brackets."
   ]
  },
  {
   "cell_type": "code",
   "execution_count": 138,
   "metadata": {},
   "outputs": [
    {
     "data": {
      "text/html": [
       "<span style=\"white-space:pre; font-family: monospace\">┌→──────────┐\n",
       "↓ 2  3  0  8│\n",
       "│11 15  5  7│\n",
       "│13 10  9 12│\n",
       "│ 1  4 14  6│\n",
       "└~──────────┘\n",
       "</span>"
      ]
     },
     "execution_count": 138,
     "metadata": {},
     "output_type": "execute_result"
    }
   ],
   "source": [
    "⌽@(1 1) (1 2) ⊢ state"
   ]
  },
  {
   "cell_type": "markdown",
   "metadata": {},
   "source": [
    "## A heap implemented as a Leftist Tree\n",
    "\n",
    "A heap is a data structure that can be implemented as a Leftist Tree, which lends itself naturally to a recursive implementation.\n",
    "\n",
    "https://en.wikipedia.org/wiki/Leftist_tree\n",
    "http://typeocaml.com/2015/03/12/heap-leftist-tree/\n",
    "\n",
    "Here is a partial port of the OCaml version."
   ]
  },
  {
   "cell_type": "code",
   "execution_count": 9,
   "metadata": {},
   "outputs": [],
   "source": [
    "]dinput\n",
    "Pop←{ ⍝ Pop off smallest element from a leftist tree ⍵\n",
    "    0=≢⍵:⍬\n",
    "    (value left right)←1↓⍵\n",
    "    (left Merge right) value\n",
    "}"
   ]
  },
  {
   "cell_type": "code",
   "execution_count": 10,
   "metadata": {},
   "outputs": [],
   "source": [
    "]dinput\n",
    "Push←{ ⍝ Insert item ⍵ into leftist tree ⍺, returning the resulting tree\n",
    "    ⍺←⍬              ⍝ default to init\n",
    "    1 ⍵ ⍬ ⍬ Merge ⍺ \n",
    "}"
   ]
  },
  {
   "cell_type": "code",
   "execution_count": 11,
   "metadata": {},
   "outputs": [],
   "source": [
    "]dinput\n",
    "Merge←{ ⍝ Merge leftist trees ⍺ and ⍵\n",
    "    0=≢⍺:⍵ ⋄ 0=≢⍵:⍺                                 ⍝ If either is a leaf, return the other\n",
    "    (key left right)←1↓⍺\n",
    "    key>(⎕IO+1)⊃⍵:⍵∇⍺                               ⍝ Flip to ensure smallest is root of merged\n",
    "    merged←right∇⍵                                  ⍝ Merge rightwards\n",
    "    leftRank←⊃left ⋄ mergedRank←⊃merged\n",
    "    leftRank≥⊃merged:(1+mergedRank) key left merged ⍝ Right is shorter\n",
    "    (1+leftRank) key merged left                    ⍝ Left is shorter; make it the new right\n",
    "}"
   ]
  },
  {
   "cell_type": "code",
   "execution_count": 12,
   "metadata": {},
   "outputs": [
    {
     "data": {
      "text/html": [
       "<span style=\"white-space:pre; font-family: monospace\">┌─┬─┬─────────────────────┬────────┐\n",
       "│2│2│┌─┬─┬───────┬───────┐│┌─┬──┬┬┐│\n",
       "│ │ ││2│3│┌─┬─┬┬┐│┌─┬─┬┬┐│││1│10││││\n",
       "│ │ ││ │ ││1│6│││││1│9│││││└─┴──┴┴┘│\n",
       "│ │ ││ │ │└─┴─┴┴┘│└─┴─┴┴┘││        │\n",
       "│ │ │└─┴─┴───────┴───────┘│        │\n",
       "└─┴─┴─────────────────────┴────────┘\n",
       "</span>"
      ]
     },
     "execution_count": 12,
     "metadata": {},
     "output_type": "execute_result"
    }
   ],
   "source": [
    "⍝ Example given in http://typeocaml.com/2015/03/12/heap-leftist-tree/\n",
    "h←Push 2\n",
    "h Push←10\n",
    "h Push←9\n",
    "\n",
    "s←Push 3\n",
    "s Push←6\n",
    "\n",
    "h Merge s"
   ]
  },
  {
   "cell_type": "markdown",
   "metadata": {},
   "source": [
    "More compact, and a more natural fit for APL. Note that the Leftist Tree has slightly different performance characteristics to the standard heap. "
   ]
  },
  {
   "cell_type": "markdown",
   "metadata": {},
   "source": [
    "## Strings\n",
    "\n",
    "Lower/upper-case a string"
   ]
  },
  {
   "cell_type": "code",
   "execution_count": 34,
   "metadata": {},
   "outputs": [
    {
     "data": {
      "text/html": [
       "<span style=\"white-space:pre; font-family: monospace\">┌→────────────────────────────┐\n",
       "│hello all people in the world│\n",
       "└─────────────────────────────┘\n",
       "</span>"
      ]
     },
     "execution_count": 34,
     "metadata": {},
     "output_type": "execute_result"
    }
   ],
   "source": [
    "(819⌶) 'Hello All People in The World'   ⍝ NOTE: deprecated in Dyalog 18.X in favour of ⎕C"
   ]
  },
  {
   "cell_type": "code",
   "execution_count": 35,
   "metadata": {},
   "outputs": [
    {
     "data": {
      "text/html": [
       "<span style=\"white-space:pre; font-family: monospace\">┌→────────────────────────────┐\n",
       "│HELLO ALL PEOPLE IN THE WORLD│\n",
       "└─────────────────────────────┘\n",
       "</span>"
      ]
     },
     "execution_count": 35,
     "metadata": {},
     "output_type": "execute_result"
    }
   ],
   "source": [
    "1(819⌶) 'Hello All People in The World'  ⍝ NOTE: deprecated in Dyalog 18.X in favour of ⎕C"
   ]
  },
  {
   "cell_type": "markdown",
   "metadata": {},
   "source": [
    "We can also use regular expressions, of course:"
   ]
  },
  {
   "cell_type": "code",
   "execution_count": 36,
   "metadata": {},
   "outputs": [
    {
     "data": {
      "text/html": [
       "<span style=\"white-space:pre; font-family: monospace\">┌→────────────────────────────┐\n",
       "│HELLO ALL PEOPLE IN THE WORLD│\n",
       "└─────────────────────────────┘\n",
       "</span>"
      ]
     },
     "execution_count": 36,
     "metadata": {},
     "output_type": "execute_result"
    }
   ],
   "source": [
    "{⊃('.+' ⎕S '\\u0')⍵} 'Hello All People in The World'"
   ]
  },
  {
   "cell_type": "markdown",
   "metadata": {},
   "source": [
    "As we saw earlier, we can split a string on a regex pattern:"
   ]
  },
  {
   "cell_type": "code",
   "execution_count": 37,
   "metadata": {},
   "outputs": [],
   "source": [
    "RegSplit←{(⊢/¨r)↓¨⍵⊂⍨(⍳≢⍵)∊1+⊃¨r←(⍺,'|^')⎕S 0 1⊢⍵}"
   ]
  },
  {
   "cell_type": "code",
   "execution_count": 38,
   "metadata": {},
   "outputs": [
    {
     "data": {
      "text/html": [
       "<span style=\"white-space:pre; font-family: monospace\">┌→──────────────────────────┐\n",
       "│ ┌→───┐ ┌→─┐ ┌→──────┐ ┌⊖┐ │\n",
       "│ │here│ │be│ │dragons│ │ │ │\n",
       "│ └────┘ └──┘ └───────┘ └─┘ │\n",
       "└∊──────────────────────────┘\n",
       "</span>"
      ]
     },
     "execution_count": 38,
     "metadata": {},
     "output_type": "execute_result"
    }
   ],
   "source": [
    "'/+' RegSplit 'here/////be/dragons/'"
   ]
  },
  {
   "cell_type": "markdown",
   "metadata": {},
   "source": [
    "...or simply on a separator char"
   ]
  },
  {
   "cell_type": "code",
   "execution_count": 39,
   "metadata": {},
   "outputs": [
    {
     "data": {
      "text/html": [
       "<span style=\"white-space:pre; font-family: monospace\">┌→──────────────────────────────┐\n",
       "│ ┌→────┐ ┌→────┐ ┌→──┐ ┌→────┐ │\n",
       "│ │hello│ │world│ │out│ │there│ │\n",
       "│ └─────┘ └─────┘ └───┘ └─────┘ │\n",
       "└∊──────────────────────────────┘\n",
       "</span>"
      ]
     },
     "execution_count": 39,
     "metadata": {},
     "output_type": "execute_result"
    }
   ],
   "source": [
    "' ' (≠⊆⊢) 'hello world out there'"
   ]
  },
  {
   "cell_type": "markdown",
   "metadata": {},
   "source": [
    "### Binary operations\n",
    "\n",
    "Convert a decimal number to binary:"
   ]
  },
  {
   "cell_type": "code",
   "execution_count": 15,
   "metadata": {},
   "outputs": [
    {
     "data": {
      "text/html": [
       "<span style=\"white-space:pre; font-family: monospace\">┌→──────────┐\n",
       "│1 1 0 1 1 0│\n",
       "└~──────────┘\n",
       "</span>"
      ]
     },
     "execution_count": 15,
     "metadata": {},
     "output_type": "execute_result"
    },
    {
     "data": {
      "text/html": [
       "<span style=\"white-space:pre; font-family: monospace\">┌→──────────────────────────────┐\n",
       "│0 0 0 0 0 0 0 0 0 0 1 1 0 1 1 0│\n",
       "└~──────────────────────────────┘\n",
       "</span>"
      ]
     },
     "execution_count": 15,
     "metadata": {},
     "output_type": "execute_result"
    }
   ],
   "source": [
    "(2∘⊥⍣¯1) 54\n",
    "(16⍴2)⊤54      ⍝ Fixed number of bits"
   ]
  },
  {
   "cell_type": "markdown",
   "metadata": {},
   "source": [
    "Binary to decimal:"
   ]
  },
  {
   "cell_type": "code",
   "execution_count": 17,
   "metadata": {},
   "outputs": [
    {
     "data": {
      "text/html": [
       "<span style=\"white-space:pre; font-family: monospace\">  \n",
       "54\n",
       "  \n",
       "</span>"
      ]
     },
     "execution_count": 17,
     "metadata": {},
     "output_type": "execute_result"
    }
   ],
   "source": [
    "2⊥0 0 0 0 0 0 0 0 0 0 1 1 0 1 1 0"
   ]
  },
  {
   "cell_type": "markdown",
   "metadata": {},
   "source": [
    "The boolean functions ∨∧⍲⍱≠~ etc all work as expected on binary vectors"
   ]
  },
  {
   "cell_type": "code",
   "execution_count": 9,
   "metadata": {},
   "outputs": [
    {
     "data": {
      "text/html": [
       "<span style=\"white-space:pre; font-family: monospace\">┌→──────────┐\n",
       "│0 0 0 0 1 0│\n",
       "└~──────────┘\n",
       "</span>"
      ]
     },
     "execution_count": 9,
     "metadata": {},
     "output_type": "execute_result"
    }
   ],
   "source": [
    "0 0 0 0 1 0 ∧ 1 1 0 1 1 0 "
   ]
  },
  {
   "cell_type": "markdown",
   "metadata": {},
   "source": [
    "To right, and left shift we can use the following:"
   ]
  },
  {
   "cell_type": "code",
   "execution_count": 10,
   "metadata": {},
   "outputs": [],
   "source": [
    "Lshift←{(≢⍺)↑⍵↓⍺}\n",
    "Rshift←{(-≢⍺)↑(-⍵)↓⍺}"
   ]
  },
  {
   "cell_type": "code",
   "execution_count": 12,
   "metadata": {},
   "outputs": [
    {
     "data": {
      "text/html": [
       "<span style=\"white-space:pre; font-family: monospace\">┌→──────────┐\n",
       "│0 0 1 1 0 1│\n",
       "└~──────────┘\n",
       "</span>"
      ]
     },
     "execution_count": 12,
     "metadata": {},
     "output_type": "execute_result"
    },
    {
     "data": {
      "text/html": [
       "<span style=\"white-space:pre; font-family: monospace\">┌→──────────┐\n",
       "│0 1 1 0 0 0│\n",
       "└~──────────┘\n",
       "</span>"
      ]
     },
     "execution_count": 12,
     "metadata": {},
     "output_type": "execute_result"
    }
   ],
   "source": [
    "1 1 0 1 1 0 Rshift 2\n",
    "1 1 0 1 1 0 Lshift 2"
   ]
  },
  {
   "cell_type": "markdown",
   "metadata": {},
   "source": [
    "### TODO UNSORTED"
   ]
  },
  {
   "cell_type": "markdown",
   "metadata": {},
   "source": [
    "83 ¯1⎕MAP filename ⍝ read raw bytes\n",
    "{⍺⎕UCS¨⍨⊂'-\\w+$'⎕R''⊢⍵}/2↑⎕NGET 'data/2015/08.txt' 1 ⍝ read raw bytes\n",
    "\n",
    "(∪⍳⊢)Y ⍝ convert strings to IDs\n",
    "a⌹a=a  average\n",
    "(⍕≡⊢)Y ⍝ is Y simple character array?\n",
    "(1=2|⎕DR)Y ⍝ is Y all numeric\n",
    "\n",
    "v←{A←⊃∘.+/3⍴⊂⍳100 ⋄ ⊃,/{⍵,¨⍸(100-⍵)=A}¨⍳100}⍬ ⍝ stars & bars\n",
    "\n",
    "best⊣⍣(~value<best)←value  ⍝ if value < best then best=value"
   ]
  },
  {
   "cell_type": "markdown",
   "metadata": {},
   "source": [
    "### JSON\n",
    "\n",
    "Parse a JSON-string into nested namespaces where needed:"
   ]
  },
  {
   "cell_type": "code",
   "execution_count": 32,
   "metadata": {},
   "outputs": [
    {
     "data": {
      "text/html": [
       "<span style=\"white-space:pre; font-family: monospace\">               \n",
       "#.[JSON object]\n",
       "               \n",
       "</span>"
      ]
     },
     "execution_count": 32,
     "metadata": {},
     "output_type": "execute_result"
    }
   ],
   "source": [
    "JSONSTR←'{\"key11\":\"value11\",\"key12\":{\"key121\":\"value121\"},\"key13\":[1,2,3]}'\n",
    "⎕←data←⎕JSON JSONSTR"
   ]
  },
  {
   "cell_type": "markdown",
   "metadata": {},
   "source": [
    "This contains the names of simple keys and the names of references (dicts) as separate entries in the namespace:"
   ]
  },
  {
   "cell_type": "code",
   "execution_count": 35,
   "metadata": {},
   "outputs": [
    {
     "data": {
      "text/html": [
       "<span style=\"white-space:pre; font-family: monospace\">┌→────────────────┐\n",
       "│ ┌→────┐ ┌→────┐ │\n",
       "│ │key11│ │key13│ │\n",
       "│ └─────┘ └─────┘ │\n",
       "└∊────────────────┘\n",
       "</span>"
      ]
     },
     "execution_count": 35,
     "metadata": {},
     "output_type": "execute_result"
    },
    {
     "data": {
      "text/html": [
       "<span style=\"white-space:pre; font-family: monospace\">┌→────────┐\n",
       "│ ┌→────┐ │\n",
       "│ │key12│ │\n",
       "│ └─────┘ │\n",
       "└∊────────┘\n",
       "</span>"
      ]
     },
     "execution_count": 35,
     "metadata": {},
     "output_type": "execute_result"
    }
   ],
   "source": [
    "data.(⎕NL ¯2)  ⍝ Simple keys\n",
    "data.(⎕NL ¯9)  ⍝ Object references"
   ]
  },
  {
   "cell_type": "markdown",
   "metadata": {},
   "source": [
    "Negating the argument to ⎕NL simply means return as a nested vector, rather than as an array.\n",
    "\n",
    "To get the corresponding values, we simply execute the entries returned by ⎕NL:"
   ]
  },
  {
   "cell_type": "code",
   "execution_count": 38,
   "metadata": {},
   "outputs": [
    {
     "data": {
      "text/html": [
       "<span style=\"white-space:pre; font-family: monospace\">┌→──────────────────┐\n",
       "│ ┌→──────┐ ┌→────┐ │\n",
       "│ │value11│ │1 2 3│ │\n",
       "│ └───────┘ └~────┘ │\n",
       "└∊──────────────────┘\n",
       "</span>"
      ]
     },
     "execution_count": 38,
     "metadata": {},
     "output_type": "execute_result"
    },
    {
     "data": {
      "text/html": [
       "<span style=\"white-space:pre; font-family: monospace\">┌→──────────────────────────────┐\n",
       "│ #.[JSON object].[JSON object] │\n",
       "└#──────────────────────────────┘\n",
       "</span>"
      ]
     },
     "execution_count": 38,
     "metadata": {},
     "output_type": "execute_result"
    }
   ],
   "source": [
    "⎕←simpleValues←data.(⍎¨⎕NL ¯2)\n",
    "⎕←objectValues←data.(⍎¨⎕NL ¯9)"
   ]
  },
  {
   "cell_type": "code",
   "execution_count": 5,
   "metadata": {},
   "outputs": [],
   "source": [
    "⍝ CHECK: (↑⍣≡0∘⎕JSON)Y\n",
    "⍝ (1⎕JSON{1<≢⍴⍵:∇¨⊂⍤¯1⊢⍵ ⋄ ⍵})Y apl->json"
   ]
  },
  {
   "cell_type": "markdown",
   "metadata": {},
   "source": [
    " Anonymize json by replacing all values by the same type, but random"
   ]
  },
  {
   "cell_type": "code",
   "execution_count": 5,
   "metadata": {},
   "outputs": [],
   "source": [
    "rndjson←{'[0-9]'⎕R{⎕D[1+?9]}'\"([^\"]|\\.)*\".'⎕R{':'=t←⊃⌽m←⍵.Match:m⋄t,⍨'\"','\"',⍨⎕a[?26⍴⍨¯3+≢m]}⍵}"
   ]
  },
  {
   "cell_type": "markdown",
   "metadata": {},
   "source": [
    "### Namespaces\n",
    "\n",
    "Namespaces is the way to create objects, records or structs in Dyalog."
   ]
  },
  {
   "cell_type": "code",
   "execution_count": 41,
   "metadata": {},
   "outputs": [],
   "source": [
    "a←⎕NS''  ⍝ Create an anonymous namespace                 "
   ]
  },
  {
   "cell_type": "code",
   "execution_count": 43,
   "metadata": {},
   "outputs": [
    {
     "data": {
      "text/html": [
       "<span style=\"white-space:pre; font-family: monospace\">┌→─────┐\n",
       "│Stefan│\n",
       "└──────┘\n",
       "┌→──────┐\n",
       "│Bristol│\n",
       "└───────┘\n",
       "</span>"
      ]
     },
     "execution_count": 43,
     "metadata": {},
     "output_type": "execute_result"
    }
   ],
   "source": [
    "a.(Name City)← 'Stefan' 'Bristol'  ⍝ Assign two fields\n",
    "a.Name ⋄ a.City"
   ]
  },
  {
   "cell_type": "markdown",
   "metadata": {},
   "source": [
    "### Introspection and typing"
   ]
  },
  {
   "cell_type": "code",
   "execution_count": 44,
   "metadata": {},
   "outputs": [],
   "source": [
    "IsNumber←{(1=2|⎕DR)⍵}                     ⍝ Are we a number?\n",
    "IsString←⍕≡⊢                              ⍝ Are we a string?\n",
    "IsNamespace←{(326=⎕DR⍵)}                  ⍝ Are we a reference/object/namespace?"
   ]
  },
  {
   "cell_type": "markdown",
   "metadata": {},
   "source": [
    "### Performance comparisons"
   ]
  },
  {
   "cell_type": "code",
   "execution_count": 16,
   "metadata": {},
   "outputs": [
    {
     "data": {
      "text/html": [
       "<span style=\"white-space:pre; font-family: monospace\">┌→────────────────────────────────────────────────────────────────────────────┐\n",
       "↓                                                                             │\n",
       "│  vs,¨⍨@1⍤0 1@rs⊢b  → 2.7E¯2 |   0% ⎕⎕⎕⎕⎕⎕⎕⎕⎕⎕⎕⎕⎕⎕⎕⎕⎕⎕⎕⎕⎕⎕⎕⎕⎕⎕⎕⎕⎕⎕⎕⎕⎕⎕⎕⎕⎕⎕⎕⎕ │\n",
       "│  (,¨∘vs)@(rs,¨1)⊢b → 4.8E¯3 | -82% ⎕⎕⎕⎕⎕⎕⎕                                  │\n",
       "└─────────────────────────────────────────────────────────────────────────────┘\n",
       "</span>"
      ]
     },
     "execution_count": 16,
     "metadata": {},
     "output_type": "execute_result"
    }
   ],
   "source": [
    "b←↑{(⍵ 1) (0 0)}¨⍳10000\n",
    "vs←⍳10000\n",
    "rs←?⍨10000\n",
    "\n",
    "]runtime -c \"vs,¨⍨@1⍤0 1@rs⊢b\" \"(,¨∘vs)@(rs,¨1)⊢b\""
   ]
  },
  {
   "cell_type": "markdown",
   "metadata": {},
   "source": [
    "### Grouping\n",
    "\n",
    "Given a vector of integer pairs:\n",
    "\n",
    "    m1←(5 3)(5 6)(7 5)(4 7)(1 8)(2 4)(1 2)\n",
    "\n",
    "Group based on the first element of each pair to produce:\n",
    "\n",
    "    m2←(5 (3 6))(7 (,5)) (4 (,7)) (1 (8 2)) (2 (,4))\n",
    "    \n",
    "Method 1: sort, and partition-enclose:"
   ]
  },
  {
   "cell_type": "code",
   "execution_count": 2,
   "metadata": {},
   "outputs": [
    {
     "data": {
      "text/html": [
       "<span style=\"white-space:pre; font-family: monospace\">┌───────┬─────┬─────┬───────┬─────┐\n",
       "│┌─┬───┐│┌─┬─┐│┌─┬─┐│┌─┬───┐│┌─┬─┐│\n",
       "││1│8 2│││2│4│││4│7│││5│3 6│││7│5││\n",
       "│└─┴───┘│└─┴─┘│└─┴─┘│└─┴───┘│└─┴─┘│\n",
       "└───────┴─────┴─────┴───────┴─────┘\n",
       "</span>"
      ]
     },
     "execution_count": 2,
     "metadata": {},
     "output_type": "execute_result"
    }
   ],
   "source": [
    "m1←(5 3)(5 6)(7 5)(4 7)(1 8)(2 4)(1 2)\n",
    "data←(↑m1)[⍋(↑m1)[;1];]\n",
    "k←⊣/data\n",
    "↓⍉↑(∪k)(k⊆⊢/data)"
   ]
  },
  {
   "cell_type": "markdown",
   "metadata": {},
   "source": [
    "Method 2: use key:"
   ]
  },
  {
   "cell_type": "code",
   "execution_count": 3,
   "metadata": {},
   "outputs": [
    {
     "data": {
      "text/html": [
       "<span style=\"white-space:pre; font-family: monospace\">┌───────┬─────┬─────┬───────┬─────┐\n",
       "│┌─┬───┐│┌─┬─┐│┌─┬─┐│┌─┬───┐│┌─┬─┐│\n",
       "││5│3 6│││7│5│││4│7│││1│8 2│││2│4││\n",
       "│└─┴───┘│└─┴─┘│└─┴─┘│└─┴───┘│└─┴─┘│\n",
       "└───────┴─────┴─────┴───────┴─────┘\n",
       "</span>"
      ]
     },
     "execution_count": 3,
     "metadata": {},
     "output_type": "execute_result"
    }
   ],
   "source": [
    "(⊃¨{⊂⍺⍵}⌸⊢/¨)m1"
   ]
  },
  {
   "cell_type": "markdown",
   "metadata": {},
   "source": [
    "or more tacitly,"
   ]
  },
  {
   "cell_type": "code",
   "execution_count": 4,
   "metadata": {},
   "outputs": [
    {
     "data": {
      "text/html": [
       "<span style=\"white-space:pre; font-family: monospace\">┌───────┬─────┬─────┬───────┬─────┐\n",
       "│┌─┬───┐│┌─┬─┐│┌─┬─┐│┌─┬───┐│┌─┬─┐│\n",
       "││5│3 6│││7│5│││4│7│││1│8 2│││2│4││\n",
       "│└─┴───┘│└─┴─┘│└─┴─┘│└─┴───┘│└─┴─┘│\n",
       "└───────┴─────┴─────┴───────┴─────┘\n",
       "</span>"
      ]
     },
     "execution_count": 4,
     "metadata": {},
     "output_type": "execute_result"
    }
   ],
   "source": [
    "(↓⊃¨,∘⊂⌸⊢/¨)m1"
   ]
  },
  {
   "cell_type": "markdown",
   "metadata": {},
   "source": [
    "### Odd one out\n",
    "\n",
    "Given a simple vector where all items are equal, bar one, find the index of the odd one out."
   ]
  },
  {
   "cell_type": "code",
   "execution_count": 14,
   "metadata": {},
   "outputs": [],
   "source": [
    "vect←243 243 243 243 251 243 243"
   ]
  },
  {
   "cell_type": "markdown",
   "metadata": {},
   "source": [
    "Naively, use key `⌸` to make the histogram, find the location of the single 1 in the counts column, pick the corresponding value and then locate the index in the vector:"
   ]
  },
  {
   "cell_type": "code",
   "execution_count": 16,
   "metadata": {},
   "outputs": [
    {
     "data": {
      "text/html": [
       "<span style=\"white-space:pre; font-family: monospace\">5\n",
       "</span>"
      ]
     },
     "execution_count": 16,
     "metadata": {},
     "output_type": "execute_result"
    }
   ],
   "source": [
    "hist←{⍺,≢⍵}⌸d\n",
    "oneIndex←hist[;2]⍳1\n",
    "oddVal←hist[oneIndex;1]\n",
    "vect⍳oddVal"
   ]
  },
  {
   "cell_type": "markdown",
   "metadata": {},
   "source": [
    "We can compress this basic approach by doing more work in the key operand:"
   ]
  },
  {
   "cell_type": "code",
   "execution_count": 17,
   "metadata": {},
   "outputs": [
    {
     "data": {
      "text/html": [
       "<span style=\"white-space:pre; font-family: monospace\">5\n",
       "</span>"
      ]
     },
     "execution_count": 17,
     "metadata": {},
     "output_type": "execute_result"
    }
   ],
   "source": [
    "∊{⊂⍵/⍨1=≢⍵}⌸vect"
   ]
  },
  {
   "cell_type": "markdown",
   "metadata": {},
   "source": [
    "This finds the places where the count is 1 and emits the corresponding index. Recall that the `⍵` in the operand is a set of indexes for each unique element:"
   ]
  },
  {
   "cell_type": "code",
   "execution_count": 18,
   "metadata": {},
   "outputs": [
    {
     "data": {
      "text/html": [
       "<span style=\"white-space:pre; font-family: monospace\">┌───┬───────────┐\n",
       "│243│1 2 3 4 6 7│\n",
       "├───┼───────────┤\n",
       "│251│5          │\n",
       "└───┴───────────┘\n",
       "</span>"
      ]
     },
     "execution_count": 18,
     "metadata": {},
     "output_type": "execute_result"
    }
   ],
   "source": [
    "{⍺ ⍵}⌸vect"
   ]
  },
  {
   "cell_type": "markdown",
   "metadata": {},
   "source": [
    "A different approach is to reduce the indices with intersect `∩`:"
   ]
  },
  {
   "cell_type": "code",
   "execution_count": 19,
   "metadata": {},
   "outputs": [
    {
     "data": {
      "text/html": [
       "<span style=\"white-space:pre; font-family: monospace\">5\n",
       "</span>"
      ]
     },
     "execution_count": 19,
     "metadata": {},
     "output_type": "execute_result"
    }
   ],
   "source": [
    "∊{∩/⍵}⌸vect"
   ]
  },
  {
   "cell_type": "markdown",
   "metadata": {},
   "source": [
    "It's perhaps not obvious how this works. We know that the elements of `⍵` will be unique, so the reduction will always be empty, unless the vector contains a single element:"
   ]
  },
  {
   "cell_type": "code",
   "execution_count": 9,
   "metadata": {},
   "outputs": [
    {
     "data": {
      "text/html": [
       "<span style=\"white-space:pre; font-family: monospace\">\n",
       "</span>"
      ]
     },
     "execution_count": 9,
     "metadata": {},
     "output_type": "execute_result"
    }
   ],
   "source": [
    "∊∩/1 2 3 4 6 7"
   ]
  },
  {
   "cell_type": "code",
   "execution_count": 10,
   "metadata": {},
   "outputs": [
    {
     "data": {
      "text/html": [
       "<span style=\"white-space:pre; font-family: monospace\">5\n",
       "</span>"
      ]
     },
     "execution_count": 10,
     "metadata": {},
     "output_type": "execute_result"
    }
   ],
   "source": [
    "∊∩/5"
   ]
  },
  {
   "cell_type": "markdown",
   "metadata": {},
   "source": [
    "A completely different approach is to look for elements in the vector that differs from both its neighbours, wrapping around at the edges:"
   ]
  },
  {
   "cell_type": "code",
   "execution_count": 20,
   "metadata": {},
   "outputs": [
    {
     "data": {
      "text/html": [
       "<span style=\"white-space:pre; font-family: monospace\">5\n",
       "</span>"
      ]
     },
     "execution_count": 20,
     "metadata": {},
     "output_type": "execute_result"
    }
   ],
   "source": [
    "⍸{⍵∧1⌽⍵}∘{⍵≠¯1⌽⍵}vect"
   ]
  },
  {
   "cell_type": "markdown",
   "metadata": {},
   "source": [
    "Another suggestion from the APLOrchard:"
   ]
  },
  {
   "cell_type": "code",
   "execution_count": 22,
   "metadata": {},
   "outputs": [
    {
     "data": {
      "text/html": [
       "<span style=\"white-space:pre; font-family: monospace\">5\n",
       "</span>"
      ]
     },
     "execution_count": 22,
     "metadata": {},
     "output_type": "execute_result"
    }
   ],
   "source": [
    "(1⍳⍨1⊥∘.=⍨)vect"
   ]
  },
  {
   "cell_type": "code",
   "execution_count": 24,
   "metadata": {},
   "outputs": [],
   "source": [
    "assert←{⍺←'assertion failure' ⋄ 0∊⍵:⍺ ⎕signal 8 ⋄ shy←0}"
   ]
  },
  {
   "cell_type": "markdown",
   "metadata": {},
   "source": [
    "Index of smallest element"
   ]
  },
  {
   "cell_type": "code",
   "execution_count": 3,
   "metadata": {},
   "outputs": [
    {
     "data": {
      "text/html": [
       "<span style=\"white-space:pre; font-family: monospace\">6\n",
       "</span>"
      ]
     },
     "execution_count": 3,
     "metadata": {},
     "output_type": "execute_result"
    },
    {
     "data": {
      "text/html": [
       "<span style=\"white-space:pre; font-family: monospace\">6\n",
       "</span>"
      ]
     },
     "execution_count": 3,
     "metadata": {},
     "output_type": "execute_result"
    }
   ],
   "source": [
    "elems⍳⌊/elems←6 2 8 9 3 1 10 15\n",
    "⊃⍋elems"
   ]
  },
  {
   "cell_type": "markdown",
   "metadata": {},
   "source": [
    "### Partition a matrix into non-overlapping sub-matrices -- and re-merge"
   ]
  },
  {
   "cell_type": "code",
   "execution_count": 18,
   "metadata": {},
   "outputs": [
    {
     "data": {
      "text/html": [
       "<span style=\"white-space:pre; font-family: monospace\">┌───┬───┬─────┬─────┐\n",
       "│0 1│2 3│ 8  9│10 11│\n",
       "│4 5│6 7│12 13│14 15│\n",
       "└───┴───┴─────┴─────┘\n",
       "</span>"
      ]
     },
     "execution_count": 18,
     "metadata": {},
     "output_type": "execute_result"
    }
   ],
   "source": [
    "⊢∘⊂⌺(2 2⍴2 2)⊢4 4⍴⍳16"
   ]
  },
  {
   "cell_type": "code",
   "execution_count": 20,
   "metadata": {},
   "outputs": [
    {
     "data": {
      "text/html": [
       "<span style=\"white-space:pre; font-family: monospace\">┌───────────┬───────────┬───────────┬───────────┐\n",
       "│ 1  2  3   │ 4  5  6   │ 7  8  9   │10 11 12   │\n",
       "│13 14 15   │16 17 18   │19 20 21   │22 23 24   │\n",
       "│25 26 27   │28 29 30   │31 32 33   │34 35 36   │\n",
       "├───────────┼───────────┼───────────┼───────────┤\n",
       "│37 38 39   │40 41 42   │43 44 45   │46 47 48   │\n",
       "│49 50 51   │52 53 54   │55 56 57   │58 59 60   │\n",
       "│61 62 63   │64 65 66   │67 68 69   │70 71 72   │\n",
       "├───────────┼───────────┼───────────┼───────────┤\n",
       "│73 74 75   │ 76  77  78│ 79  80  81│ 82  83  84│\n",
       "│85 86 87   │ 88  89  90│ 91  92  93│ 94  95  96│\n",
       "│97 98 99   │100 101 102│103 104 105│106 107 108│\n",
       "├───────────┼───────────┼───────────┼───────────┤\n",
       "│109 110 111│112 113 114│115 116 117│118 119 120│\n",
       "│121 122 123│124 125 126│127 128 129│130 131 132│\n",
       "│133 134 135│136 137 138│139 140 141│142 143 144│\n",
       "└───────────┴───────────┴───────────┴───────────┘\n",
       "</span>"
      ]
     },
     "execution_count": 20,
     "metadata": {},
     "output_type": "execute_result"
    }
   ],
   "source": [
    "1 1↓⊢∘⊂⌺(2 2⍴3 3)⊢0⍪0⍪0,0,12 12⍴⍳144"
   ]
  },
  {
   "cell_type": "code",
   "execution_count": 11,
   "metadata": {},
   "outputs": [
    {
     "data": {
      "text/html": [
       "<span style=\"white-space:pre; font-family: monospace\">┌─────┬─────┐\n",
       "│1 2  │3 4  │\n",
       "│5 6  │7 8  │\n",
       "├─────┼─────┤\n",
       "│ 9 10│11 12│\n",
       "│13 14│15 16│\n",
       "└─────┴─────┘\n",
       "</span>"
      ]
     },
     "execution_count": 11,
     "metadata": {},
     "output_type": "execute_result"
    }
   ],
   "source": [
    "⎕IO←1 ⋄ 2 2 {⊂[2×⍳≢⍴⍵]⍵⍴⍨∊⍺,¨⍨⍺÷⍨⍴⍵} 4 4 ⍴ ⍳16"
   ]
  },
  {
   "cell_type": "code",
   "execution_count": 9,
   "metadata": {},
   "outputs": [
    {
     "data": {
      "text/html": [
       "<span style=\"white-space:pre; font-family: monospace\">┌────────┬────────┐\n",
       "│ 1  2  3│ 4  5  6│\n",
       "│ 7  8  9│10 11 12│\n",
       "│13 14 15│16 17 18│\n",
       "├────────┼────────┤\n",
       "│19 20 21│22 23 24│\n",
       "│25 26 27│28 29 30│\n",
       "│31 32 33│34 35 36│\n",
       "└────────┴────────┘\n",
       "</span>"
      ]
     },
     "execution_count": 9,
     "metadata": {},
     "output_type": "execute_result"
    }
   ],
   "source": [
    "⊂⍤2⊢1 3 2 4⍉2 3 2 3⍴6 6⍴⍳36"
   ]
  },
  {
   "cell_type": "markdown",
   "metadata": {},
   "source": [
    "To merge sub-matrices back to the original state:"
   ]
  },
  {
   "cell_type": "code",
   "execution_count": 25,
   "metadata": {},
   "outputs": [
    {
     "data": {
      "text/html": [
       "<span style=\"white-space:pre; font-family: monospace\">  1   2   3   4   5   6   7   8   9  10  11  12\n",
       " 13  14  15  16  17  18  19  20  21  22  23  24\n",
       " 25  26  27  28  29  30  31  32  33  34  35  36\n",
       " 37  38  39  40  41  42  43  44  45  46  47  48\n",
       " 49  50  51  52  53  54  55  56  57  58  59  60\n",
       " 61  62  63  64  65  66  67  68  69  70  71  72\n",
       " 73  74  75  76  77  78  79  80  81  82  83  84\n",
       " 85  86  87  88  89  90  91  92  93  94  95  96\n",
       " 97  98  99 100 101 102 103 104 105 106 107 108\n",
       "109 110 111 112 113 114 115 116 117 118 119 120\n",
       "121 122 123 124 125 126 127 128 129 130 131 132\n",
       "133 134 135 136 137 138 139 140 141 142 143 144\n",
       "</span>"
      ]
     },
     "execution_count": 25,
     "metadata": {},
     "output_type": "execute_result"
    }
   ],
   "source": [
    "m←1 1↓⊢∘⊂⌺(2 2⍴3 3)⊢0⍪0⍪0,0,12 12⍴⍳144\n",
    "Merge←{((⍴×⍴∘⊃)⍴1 3 2 4⍉↑)⍵}\n",
    "Merge m"
   ]
  },
  {
   "cell_type": "code",
   "execution_count": 1,
   "metadata": {},
   "outputs": [
    {
     "data": {
      "text/html": [
       "<pre class=\"language-APL\">┌──────────────┬───────────────┐\n",
       "│ 1  2  3  4  5│ 6  7  8  9 10 │\n",
       "│11 12 13 14 15│16 17 18 19 20 │\n",
       "│21 22 23 24 25│26 27 28 29 30 │\n",
       "│31 32 33 34 35│36 37 38 39 40 │\n",
       "│41 42 43 44 45│46 47 48 49 50 │\n",
       "├──────────────┼───────────────┤\n",
       "│51 52 53 54 55│56 57 58 59  60│\n",
       "│61 62 63 64 65│66 67 68 69  70│\n",
       "│71 72 73 74 75│76 77 78 79  80│\n",
       "│81 82 83 84 85│86 87 88 89  90│\n",
       "│91 92 93 94 95│96 97 98 99 100│\n",
       "└──────────────┴───────────────┘\n",
       "</pre>"
      ]
     },
     "execution_count": 1,
     "metadata": {},
     "output_type": "execute_result"
    }
   ],
   "source": [
    "m←10⍴5↑1 ⋄ ↑m∘⊂¨m⊂[1]10 10⍴⍳100"
   ]
  },
  {
   "cell_type": "markdown",
   "metadata": {},
   "source": [
    "### Neighbourhoods"
   ]
  },
  {
   "cell_type": "code",
   "execution_count": 21,
   "metadata": {},
   "outputs": [],
   "source": [
    "v←⍸×3 3 ⍴ 5 0 4 0 0 3 0 2 0 ⍝ All non-zero coord pairs\n",
    "n4←{⍺∩⍵(+,-)(0 1)(1 0)} ⍝ or possibly better: {(⍸⍺)∩⍵(+,-)(0 1)(1 0)} \n",
    "n8←{⍺∩⍵(+,-)(0 1)(1 0)(¯1 1)(1 1)}\n",
    "Move←{('NESW'⍳⍵)⊃(¯1 0)(0 1)(1 0)(0 ¯1)}"
   ]
  },
  {
   "cell_type": "code",
   "execution_count": 23,
   "metadata": {},
   "outputs": [
    {
     "data": {
      "text/html": [
       "<span style=\"white-space:pre; font-family: monospace\">┌───┐\n",
       "│1 3│\n",
       "└───┘\n",
       "</span>"
      ]
     },
     "execution_count": 23,
     "metadata": {},
     "output_type": "execute_result"
    }
   ],
   "source": [
    "v n4 ⊂2 3"
   ]
  },
  {
   "cell_type": "markdown",
   "metadata": {},
   "source": [
    "## 4-connected neighbours via shifting"
   ]
  },
  {
   "cell_type": "code",
   "execution_count": 10,
   "metadata": {},
   "outputs": [],
   "source": [
    "shifts←{(⍺,2⊣/⍵)(2⊢/⍵,⍺)(2⊢⌿⍵⍪⍺)(⍺⍪2⊣⌿⍵)}  ⍝ 4-connected neighbours via shifting"
   ]
  },
  {
   "cell_type": "code",
   "execution_count": 3,
   "metadata": {},
   "outputs": [
    {
     "data": {
      "text/html": [
       "<span style=\"white-space:pre; font-family: monospace\">┌→─────────────┐\n",
       "↓ 4  1 22 20 16│\n",
       "│10 25  7 18 11│\n",
       "│15  2 12 23  9│\n",
       "│17  6 14 21 19│\n",
       "│ 3  8  5 13 24│\n",
       "└~─────────────┘\n",
       "</span>"
      ]
     },
     "execution_count": 3,
     "metadata": {},
     "output_type": "execute_result"
    },
    {
     "data": {
      "text/html": [
       "<span style=\"white-space:pre; font-family: monospace\">┌→────────────────────────────────────────────────────────────────────┐\n",
       "│ ┌→─────────────┐ ┌→─────────────┐ ┌→─────────────┐ ┌→─────────────┐ │\n",
       "│ ↓¯1  4  1 22 20│ ↓ 1 22 20 16 ¯1│ ↓10 25  7 18 11│ ↓¯1 ¯1 ¯1 ¯1 ¯1│ │\n",
       "│ │¯1 10 25  7 18│ │25  7 18 11 ¯1│ │15  2 12 23  9│ │ 4  1 22 20 16│ │\n",
       "│ │¯1 15  2 12 23│ │ 2 12 23  9 ¯1│ │17  6 14 21 19│ │10 25  7 18 11│ │\n",
       "│ │¯1 17  6 14 21│ │ 6 14 21 19 ¯1│ │ 3  8  5 13 24│ │15  2 12 23  9│ │\n",
       "│ │¯1  3  8  5 13│ │ 8  5 13 24 ¯1│ │¯1 ¯1 ¯1 ¯1 ¯1│ │17  6 14 21 19│ │\n",
       "│ └~─────────────┘ └~─────────────┘ └~─────────────┘ └~─────────────┘ │\n",
       "└∊────────────────────────────────────────────────────────────────────┘\n",
       "</span>"
      ]
     },
     "execution_count": 3,
     "metadata": {},
     "output_type": "execute_result"
    }
   ],
   "source": [
    "⊢m←5 5⍴25?25\n",
    "⊢s←¯1 shifts m"
   ]
  },
  {
   "cell_type": "markdown",
   "metadata": {},
   "source": [
    "Now we can say that the 4-connected neighbours of m[1;1] are:"
   ]
  },
  {
   "cell_type": "code",
   "execution_count": 4,
   "metadata": {},
   "outputs": [
    {
     "data": {
      "text/html": [
       "<span style=\"white-space:pre; font-family: monospace\">┌→─────────┐\n",
       "│¯1 1 10 ¯1│\n",
       "└~─────────┘\n",
       "</span>"
      ]
     },
     "execution_count": 4,
     "metadata": {},
     "output_type": "execute_result"
    }
   ],
   "source": [
    "(↑s)[;1;1]"
   ]
  },
  {
   "cell_type": "markdown",
   "metadata": {},
   "source": [
    "## Grid to flat vector of neighbours"
   ]
  },
  {
   "cell_type": "code",
   "execution_count": 14,
   "metadata": {},
   "outputs": [],
   "source": [
    "nvec←{{⍵~¯1}¨,↓2 0 1⍉↑¯1shifts(⍴⍵)⍴(⍳×/⍴⍵)} ⍝ using shifts function above"
   ]
  },
  {
   "cell_type": "code",
   "execution_count": 15,
   "metadata": {},
   "outputs": [
    {
     "data": {
      "text/html": [
       "<span style=\"white-space:pre; font-family: monospace\">┌───┬─────┬───┬─────┬───────┬─────┬───┬─────┬───┐\n",
       "│1 3│0 2 4│1 5│4 6 0│3 5 7 1│4 8 2│7 3│6 8 4│7 5│\n",
       "└───┴─────┴───┴─────┴───────┴─────┴───┴─────┴───┘\n",
       "</span>"
      ]
     },
     "execution_count": 15,
     "metadata": {},
     "output_type": "execute_result"
    }
   ],
   "source": [
    "nvec 3 3⍴1"
   ]
  },
  {
   "cell_type": "markdown",
   "metadata": {},
   "source": [
    "## Alpush/Alset"
   ]
  },
  {
   "cell_type": "code",
   "execution_count": 1,
   "metadata": {},
   "outputs": [
    {
     "data": {
      "text/html": [
       "<span style=\"white-space:pre; font-family: monospace\">done\n",
       "\n",
       "Rebuilding user command cache... done\n",
       "</span>"
      ]
     },
     "execution_count": 1,
     "metadata": {},
     "output_type": "execute_result"
    }
   ],
   "source": [
    "alupsert←{(k v)←⍵⋄3::⍺ alpush k v⋄⍺ alset k v} ⍝ Modify if present\n",
    "algetd←{3::¯1↑⍵⋄⍺ alget (⊃⍵)}                  ⍝ Get if present, else return given default"
   ]
  },
  {
   "cell_type": "markdown",
   "metadata": {},
   "source": [
    "Atop: One way to look at f∘g vs f⍤g is that when given a left argument, ∘ gives it to the left-hand function and ⍤ gives it to the right-hand function. Other than that, they are equivalent\n",
    "\n",
    "Another way to look at f∘g vs f⍤g is simply choosing order of the first two tokens: X f∘g Y computes X f g Y and X f⍤g Y computes f X g Y\n",
    " \n",
    "Over: So, remember how f∘g preprocesses the right argument of f using g?\n",
    "One way to look at Over is simply as preprocessing all arguments of f using g.\n",
    "\"All\" as in _both or the only_.\n",
    "\n",
    "So again f⍥g Y is the same as f⍤g Y and f∘g Y. The difference is again when we do a dyadic application.\n",
    "\n",
    "So while X f∘g Y is X f(g Y) we have X f⍥g Y be (g X)f(g Y).\n",
    "\n",
    "One of my favourites lately is ,⍥⊂ which I prefer over {⍺ ⍵}"
   ]
  },
  {
   "cell_type": "code",
   "execution_count": 4,
   "metadata": {},
   "outputs": [
    {
     "data": {
      "text/html": [
       "<span style=\"white-space:pre; font-family: monospace\">┌───────────────┐\n",
       "│2020 11 08 1132│\n",
       "└───────────────┘\n",
       "</span>"
      ]
     },
     "execution_count": 4,
     "metadata": {},
     "output_type": "execute_result"
    }
   ],
   "source": [
    "'YYYY DD MM hhmm'(1200⌶)1⎕DT⊂2020 08 11 11 32 ⍝ Dyalog 18 date time"
   ]
  },
  {
   "cell_type": "markdown",
   "metadata": {},
   "source": [
    "### Constrain a set of coordinates to a rectangle"
   ]
  },
  {
   "cell_type": "code",
   "execution_count": 6,
   "metadata": {},
   "outputs": [],
   "source": [
    "⎕io←0\n",
    "YMIN←0 ⋄ YMAX←50 ⋄ XMIN←0 ⋄ XMAX←50\n",
    "c←(23 43)(78 34)(¯45 34)"
   ]
  },
  {
   "cell_type": "code",
   "execution_count": 7,
   "metadata": {},
   "outputs": [
    {
     "data": {
      "text/html": [
       "<span style=\"white-space:pre; font-family: monospace\">1 0 0\n",
       "</span>"
      ]
     },
     "execution_count": 7,
     "metadata": {},
     "output_type": "execute_result"
    }
   ],
   "source": [
    "⊃∧/0=(YMIN YMAX) (XMIN XMAX)⍸¨↓⍉↑c"
   ]
  },
  {
   "cell_type": "code",
   "execution_count": 8,
   "metadata": {},
   "outputs": [
    {
     "data": {
      "text/html": [
       "<span style=\"white-space:pre; font-family: monospace\">1 0 0\n",
       "</span>"
      ]
     },
     "execution_count": 8,
     "metadata": {},
     "output_type": "execute_result"
    }
   ],
   "source": [
    "(⊢≡YMIN XMIN⌈YMAX XMAX⌊⊢)¨c          ⍝ Slower"
   ]
  },
  {
   "cell_type": "markdown",
   "metadata": {},
   "source": [
    "## Noddy hash table"
   ]
  },
  {
   "cell_type": "code",
   "execution_count": 12,
   "metadata": {},
   "outputs": [],
   "source": [
    "Hash←{keys←(1500⌶),⍺⋄vals←,⍵⋄{⍵⊣⍵.(Vals Keys Default)←vals keys ⍬}⎕NS''}\n",
    "In←{⍺∊⍵.Keys}"
   ]
  },
  {
   "cell_type": "code",
   "execution_count": 13,
   "metadata": {},
   "outputs": [],
   "source": [
    "]dinput\n",
    "Get←{\n",
    "    ~⍵ In ⍺:⍺.Default\n",
    "    ⍺.Vals[⍺.Keys⍳⍵]\n",
    "}"
   ]
  },
  {
   "cell_type": "code",
   "execution_count": 14,
   "metadata": {},
   "outputs": [],
   "source": [
    "]dinput\n",
    "Set←{ ⍝ Upsert ht ⍺ with kv pair ⍵. ⍝ Returns 1 if this is a new key; 0 otherwise.\n",
    "    ht←⍺\n",
    "    (k v)←⍵\n",
    "    i←ht.Keys⍳⊂k\n",
    "    i=≢ht.Keys:1⊣ht.Keys,←⊂k⊣ht.Vals,←v ⍝ New key\n",
    "    ht.Vals[i]←v                        ⍝ Replace existing\n",
    "    0\n",
    "}"
   ]
  },
  {
   "cell_type": "code",
   "execution_count": 15,
   "metadata": {},
   "outputs": [],
   "source": [
    "]dinput\n",
    "Append←{ ⍝ Append a value to those belonging to the key. If new key, insert kv pair\n",
    "    ht←⍺\n",
    "    (k v)←⍵\n",
    "    i←ht.Keys⍳⊂k\n",
    "    i=≢ht.Keys:1⊣ht.Keys,←⊂k⊣ht.Vals,←v ⍝ New key\n",
    "    ht.Vals[i],←v                       ⍝ Append to existing\n",
    "    0\n",
    "}"
   ]
  },
  {
   "cell_type": "markdown",
   "metadata": {},
   "source": [
    "### Space ship compares (<=>)"
   ]
  },
  {
   "cell_type": "code",
   "execution_count": 8,
   "metadata": {},
   "outputs": [],
   "source": [
    "ssc1←{⊃¯1 0 1[⍸⍺(<,=,>)⍵]}\n",
    "ssc2←>-<\n",
    "ssc3←×-"
   ]
  },
  {
   "cell_type": "markdown",
   "metadata": {},
   "source": [
    "### Tuples"
   ]
  },
  {
   "cell_type": "code",
   "execution_count": 9,
   "metadata": {},
   "outputs": [],
   "source": [
    "tuples←{↓(⍺÷⍨≢⍵) ⍺⍴⍵} ⍝ errors if not equally dividable\n",
    "tuples←{⍵⊂⍨(≢⍵)⍴⍺↑1}\n",
    "tuples←⊢⊂⍨≢⍤⊢⍴⊣↑≢"
   ]
  },
  {
   "cell_type": "markdown",
   "metadata": {},
   "source": [
    "### Indices of unique"
   ]
  },
  {
   "cell_type": "code",
   "execution_count": 10,
   "metadata": {},
   "outputs": [
    {
     "data": {
      "text/html": [
       "<span style=\"white-space:pre; font-family: monospace\">1 3 5 6 7\n",
       "</span>"
      ]
     },
     "execution_count": 10,
     "metadata": {},
     "output_type": "execute_result"
    }
   ],
   "source": [
    "⍸≠ 1 1 2 1 3 4 5 2 1"
   ]
  },
  {
   "cell_type": "markdown",
   "metadata": {},
   "source": [
    "### Namespace as dict"
   ]
  },
  {
   "cell_type": "code",
   "execution_count": 1,
   "metadata": {},
   "outputs": [
    {
     "data": {
      "text/html": [
       "<span style=\"white-space:pre; font-family: monospace\">done\n",
       "</span>"
      ]
     },
     "execution_count": 1,
     "metadata": {},
     "output_type": "execute_result"
    }
   ],
   "source": [
    "_Gets←{⍎'⍺⍺.',⍺,'←⍵'⊣⍺⍺}"
   ]
  },
  {
   "cell_type": "code",
   "execution_count": 3,
   "metadata": {},
   "outputs": [
    {
     "data": {
      "text/html": [
       "<span style=\"white-space:pre; font-family: monospace\">world\n",
       "</span>"
      ]
     },
     "execution_count": 3,
     "metadata": {},
     "output_type": "execute_result"
    },
    {
     "data": {
      "text/html": [
       "<span style=\"white-space:pre; font-family: monospace\">world\n",
       "</span>"
      ]
     },
     "execution_count": 3,
     "metadata": {},
     "output_type": "execute_result"
    }
   ],
   "source": [
    "ns←⎕ns''\n",
    "'hello'(ns _Gets)'world'\n",
    "ns.hello\n",
    "ns⍎'hello'"
   ]
  },
  {
   "cell_type": "markdown",
   "metadata": {},
   "source": [
    "### Mapping between 2D and 1D coordinates"
   ]
  },
  {
   "cell_type": "markdown",
   "metadata": {},
   "source": [
    "When you flatten (,⍵) a matrix m with shape ⍴m its set of coordinates changes from ⍳⍴m to ⍳×/⍴m. They become simply the indices of a vector. The mapping between the two can be done with k←(⍴m)⊥i j and its inverse i j←(⍴m)⊤k, where i j are a pair of indices in m, and k is an index in ,m"
   ]
  },
  {
   "cell_type": "code",
   "execution_count": 3,
   "metadata": {},
   "outputs": [
    {
     "data": {
      "text/html": [
       "<span style=\"white-space:pre; font-family: monospace\">1  7 14  9 13\n",
       "2 12  4  3 15\n",
       "5  8  6 10 11\n",
       "</span>"
      ]
     },
     "execution_count": 3,
     "metadata": {},
     "output_type": "execute_result"
    }
   ],
   "source": [
    "⊢m←3 5 ⍴15?15"
   ]
  },
  {
   "cell_type": "code",
   "execution_count": 4,
   "metadata": {},
   "outputs": [
    {
     "data": {
      "text/html": [
       "<span style=\"white-space:pre; font-family: monospace\">1 7 14 9 13 2 12 4 3 15 5 8 6 10 11\n",
       "</span>"
      ]
     },
     "execution_count": 4,
     "metadata": {},
     "output_type": "execute_result"
    }
   ],
   "source": [
    "⊢ravel←,m"
   ]
  },
  {
   "cell_type": "code",
   "execution_count": 6,
   "metadata": {},
   "outputs": [
    {
     "data": {
      "text/html": [
       "<span style=\"white-space:pre; font-family: monospace\">9\n",
       "</span>"
      ]
     },
     "execution_count": 6,
     "metadata": {},
     "output_type": "execute_result"
    }
   ],
   "source": [
    "⊢k←(⍴m)⊥1 4 ⍝ 2D to 1D"
   ]
  },
  {
   "cell_type": "code",
   "execution_count": 7,
   "metadata": {},
   "outputs": [
    {
     "data": {
      "text/html": [
       "<span style=\"white-space:pre; font-family: monospace\">3\n",
       "</span>"
      ]
     },
     "execution_count": 7,
     "metadata": {},
     "output_type": "execute_result"
    }
   ],
   "source": [
    "k⊃ravel"
   ]
  },
  {
   "cell_type": "code",
   "execution_count": 8,
   "metadata": {},
   "outputs": [
    {
     "data": {
      "text/html": [
       "<span style=\"white-space:pre; font-family: monospace\">1 4\n",
       "</span>"
      ]
     },
     "execution_count": 8,
     "metadata": {},
     "output_type": "execute_result"
    }
   ],
   "source": [
    "⊢i j←(⍴m)⊤k ⍝ 1D to 2D"
   ]
  },
  {
   "cell_type": "code",
   "execution_count": 10,
   "metadata": {},
   "outputs": [
    {
     "data": {
      "text/html": [
       "<span style=\"white-space:pre; font-family: monospace\">9\n",
       "</span>"
      ]
     },
     "execution_count": 10,
     "metadata": {},
     "output_type": "execute_result"
    }
   ],
   "source": [
    "m[⊂i j]"
   ]
  },
  {
   "cell_type": "markdown",
   "metadata": {},
   "source": [
    "### Generalised padding\n",
    "\n",
    "Center a matrix of rank n in a larger matrix of rank n+1."
   ]
  },
  {
   "cell_type": "code",
   "execution_count": 18,
   "metadata": {},
   "outputs": [
    {
     "data": {
      "text/html": [
       "<span style=\"white-space:pre; font-family: monospace\">0 1 0\n",
       "0 0 1\n",
       "1 1 1\n",
       "</span>"
      ]
     },
     "execution_count": 18,
     "metadata": {},
     "output_type": "execute_result"
    }
   ],
   "source": [
    "⊢d←3 3⍴0 1 0 0 0 1 1 1 1"
   ]
  },
  {
   "cell_type": "code",
   "execution_count": 2,
   "metadata": {},
   "outputs": [],
   "source": [
    "Pad←{(-⍵+⍵+⍴⍺)↑(⍵+⍴⍺)↑⍺}"
   ]
  },
  {
   "cell_type": "code",
   "execution_count": 7,
   "metadata": {},
   "outputs": [
    {
     "data": {
      "text/html": [
       "<span style=\"white-space:pre; font-family: monospace\">0 0 0 0 0 0 0 0 0 0 0 0 0\n",
       "0 0 0 0 0 0 0 0 0 0 0 0 0\n",
       "0 0 0 0 0 0 0 0 0 0 0 0 0\n",
       "0 0 0 0 0 0 0 0 0 0 0 0 0\n",
       "0 0 0 0 0 0 0 0 0 0 0 0 0\n",
       "0 0 0 0 0 0 1 0 0 0 0 0 0\n",
       "0 0 0 0 0 0 0 1 0 0 0 0 0\n",
       "0 0 0 0 0 1 1 1 0 0 0 0 0\n",
       "0 0 0 0 0 0 0 0 0 0 0 0 0\n",
       "0 0 0 0 0 0 0 0 0 0 0 0 0\n",
       "0 0 0 0 0 0 0 0 0 0 0 0 0\n",
       "0 0 0 0 0 0 0 0 0 0 0 0 0\n",
       "0 0 0 0 0 0 0 0 0 0 0 0 0\n",
       "</span>"
      ]
     },
     "execution_count": 7,
     "metadata": {},
     "output_type": "execute_result"
    }
   ],
   "source": [
    "d {(-(2×⍵)+⍴⍺)↑(⍵+⍴⍺)↑⍺} 5"
   ]
  },
  {
   "cell_type": "markdown",
   "metadata": {},
   "source": [
    "Here's a different approach:"
   ]
  },
  {
   "cell_type": "code",
   "execution_count": 18,
   "metadata": {},
   "outputs": [],
   "source": [
    "Pad2←{⍵@(1+⍳⍴⍵)⊢0⍴⍨2+⍴⍵} ⍝ https://aplcart.info/?q=surround%20array#"
   ]
  },
  {
   "cell_type": "code",
   "execution_count": 19,
   "metadata": {},
   "outputs": [
    {
     "data": {
      "text/html": [
       "<span style=\"white-space:pre; font-family: monospace\">0 1 2 3 0\n",
       "</span>"
      ]
     },
     "execution_count": 19,
     "metadata": {},
     "output_type": "execute_result"
    }
   ],
   "source": [
    "Pad2 1 2 3"
   ]
  },
  {
   "cell_type": "code",
   "execution_count": 20,
   "metadata": {},
   "outputs": [
    {
     "data": {
      "text/html": [
       "<span style=\"white-space:pre; font-family: monospace\">0 0 0 0 0\n",
       "0 0 1 0 0\n",
       "0 0 0 1 0\n",
       "0 1 1 1 0\n",
       "0 0 0 0 0\n",
       "</span>"
      ]
     },
     "execution_count": 20,
     "metadata": {},
     "output_type": "execute_result"
    }
   ],
   "source": [
    "Pad2 d"
   ]
  },
  {
   "cell_type": "code",
   "execution_count": 21,
   "metadata": {},
   "outputs": [
    {
     "data": {
      "text/html": [
       "<span style=\"white-space:pre; font-family: monospace\">0 0 0 0 0 0 0 0 0 0 0 0 0\n",
       "0 0 0 0 0 0 0 0 0 0 0 0 0\n",
       "0 0 0 0 0 0 0 0 0 0 0 0 0\n",
       "0 0 0 0 0 0 0 0 0 0 0 0 0\n",
       "0 0 0 0 0 0 0 0 0 0 0 0 0\n",
       "0 0 0 0 0 0 1 0 0 0 0 0 0\n",
       "0 0 0 0 0 0 0 1 0 0 0 0 0\n",
       "0 0 0 0 0 1 1 1 0 0 0 0 0\n",
       "0 0 0 0 0 0 0 0 0 0 0 0 0\n",
       "0 0 0 0 0 0 0 0 0 0 0 0 0\n",
       "0 0 0 0 0 0 0 0 0 0 0 0 0\n",
       "0 0 0 0 0 0 0 0 0 0 0 0 0\n",
       "0 0 0 0 0 0 0 0 0 0 0 0 0\n",
       "</span>"
      ]
     },
     "execution_count": 21,
     "metadata": {},
     "output_type": "execute_result"
    }
   ],
   "source": [
    "Pad2⍣5⊢d"
   ]
  },
  {
   "cell_type": "code",
   "execution_count": 22,
   "metadata": {},
   "outputs": [
    {
     "data": {
      "text/html": [
       "<span style=\"white-space:pre; font-family: monospace\">0 0 0 0 0\n",
       "0 0 0 0 0\n",
       "0 0 0 0 0\n",
       "0 0 0 0 0\n",
       "0 0 0 0 0\n",
       "         \n",
       "0 0 0 0 0\n",
       "0 0 1 0 0\n",
       "0 0 0 1 0\n",
       "0 1 1 1 0\n",
       "0 0 0 0 0\n",
       "         \n",
       "0 0 0 0 0\n",
       "0 0 0 0 0\n",
       "0 0 0 0 0\n",
       "0 0 0 0 0\n",
       "0 0 0 0 0\n",
       "</span>"
      ]
     },
     "execution_count": 22,
     "metadata": {},
     "output_type": "execute_result"
    }
   ],
   "source": [
    "Pad2 (↑,∘⊂)d ⍝ Increase rank first"
   ]
  },
  {
   "cell_type": "markdown",
   "metadata": {},
   "source": [
    "Better:"
   ]
  },
  {
   "cell_type": "code",
   "execution_count": 19,
   "metadata": {},
   "outputs": [
    {
     "data": {
      "text/html": [
       "<span style=\"white-space:pre; font-family: monospace\">0 0 0 0 0 0 0 0 0 0 0 0 0\n",
       "0 0 0 0 0 0 0 0 0 0 0 0 0\n",
       "0 0 0 0 0 0 0 0 0 0 0 0 0\n",
       "0 0 0 0 0 0 0 0 0 0 0 0 0\n",
       "0 0 0 0 0 0 0 0 0 0 0 0 0\n",
       "0 0 0 0 0 0 1 0 0 0 0 0 0\n",
       "0 0 0 0 0 0 0 1 0 0 0 0 0\n",
       "0 0 0 0 0 1 1 1 0 0 0 0 0\n",
       "0 0 0 0 0 0 0 0 0 0 0 0 0\n",
       "0 0 0 0 0 0 0 0 0 0 0 0 0\n",
       "0 0 0 0 0 0 0 0 0 0 0 0 0\n",
       "0 0 0 0 0 0 0 0 0 0 0 0 0\n",
       "0 0 0 0 0 0 0 0 0 0 0 0 0\n",
       "</span>"
      ]
     },
     "execution_count": 19,
     "metadata": {},
     "output_type": "execute_result"
    }
   ],
   "source": [
    "Pad3←{0,0,⍨0⍪0⍪⍨⍵}\n",
    "Pad3⍣5⊢d"
   ]
  },
  {
   "cell_type": "code",
   "execution_count": 21,
   "metadata": {},
   "outputs": [],
   "source": [
    "Pad4←{(⍺+⍺+⍴⍵)↑(-⍺+⍴⍵)↑⍵} ⍝ ⍺ is the pad amount"
   ]
  },
  {
   "cell_type": "code",
   "execution_count": null,
   "metadata": {},
   "outputs": [],
   "source": []
  },
  {
   "cell_type": "markdown",
   "metadata": {},
   "source": [
    "### TODO\n",
    "@voidhawk on AoC Day16"
   ]
  },
  {
   "cell_type": "code",
   "execution_count": null,
   "metadata": {},
   "outputs": [],
   "source": [
    "⎕IO←1 ⍝ voidhawk\n",
    "p←(⊢⊆⍨0≠≢¨)⊃⎕NGET'data/2020/day16.txt'1\n",
    "ds←{⍎¨⍵(∊⊆⊣)⎕D}\n",
    "rs←ds¨⊃p ⋄ yt ot←{↑ds¨1↓⍵⊃p}¨2 3\n",
    "ir←{a b c d←⍵ ⋄ ((d≥⍺)∧c≤⍺)∨(b≥⍺)∧a≤⍺}\n",
    "+/ot[⍸~e←∨/ot∘.ir rs] ⍝ part 1\n",
    "m←∧⌿rs∘.ir⍨yt⍪ot⌿⍨∧/e\n",
    "×/6↑(,yt)⌷⍨⊂⍋(⊂⍋⍋+/m)⌷∊~⍨\\⍸¨↓m[⍋+/m;] ⍝ part 2"
   ]
  },
  {
   "cell_type": "markdown",
   "metadata": {},
   "source": [
    "### Corners of 2D Array"
   ]
  },
  {
   "cell_type": "code",
   "execution_count": 3,
   "metadata": {},
   "outputs": [
    {
     "data": {
      "text/html": [
       "<span style=\"white-space:pre; font-family: monospace\">4 3 1\n",
       "9 7 5\n",
       "8 2 6\n",
       "</span>"
      ]
     },
     "execution_count": 3,
     "metadata": {},
     "output_type": "execute_result"
    },
    {
     "data": {
      "text/html": [
       "<span style=\"white-space:pre; font-family: monospace\">4 1\n",
       "8 6\n",
       "</span>"
      ]
     },
     "execution_count": 3,
     "metadata": {},
     "output_type": "execute_result"
    }
   ],
   "source": [
    "⊢m←3 3⍴9?9\n",
    "{↑(⊣/⍵)(⊢/⍵)}⍣2⊢m"
   ]
  },
  {
   "cell_type": "code",
   "execution_count": 4,
   "metadata": {},
   "outputs": [
    {
     "data": {
      "text/html": [
       "<span style=\"white-space:pre; font-family: monospace\">      ⍤    \n",
       "     ┌┴┐   \n",
       "     ⍨ 0 99\n",
       "   ┌─┘     \n",
       "   ∘       \n",
       "  ┌┴┐      \n",
       "  ⍨ ⊃      \n",
       "┌─┘        \n",
       "⌷          \n",
       "</span>"
      ]
     },
     "execution_count": 4,
     "metadata": {},
     "output_type": "execute_result"
    }
   ],
   "source": [
    "⌷⍨∘⊃⍨⍤0 99 ⍝ Sane indexing"
   ]
  },
  {
   "cell_type": "code",
   "execution_count": 5,
   "metadata": {},
   "outputs": [
    {
     "data": {
      "text/html": [
       "<span style=\"white-space:pre; font-family: monospace\">┌─┼───┐      \n",
       "⊢ ⍨ ┌─┼───┐  \n",
       "┌─┘ 1 , ┌─┼─┐\n",
       "⊂       2 / ⊢\n",
       "        ┌─┘  \n",
       "        ≠    \n",
       "</span>"
      ]
     },
     "execution_count": 5,
     "metadata": {},
     "output_type": "execute_result"
    }
   ],
   "source": [
    "(⊢⊂⍨1,2≠/⊢) ⍝ map of changes"
   ]
  },
  {
   "cell_type": "code",
   "execution_count": 6,
   "metadata": {},
   "outputs": [
    {
     "data": {
      "text/html": [
       "<span style=\"white-space:pre; font-family: monospace\">       ⍣  \n",
       "     ┌─┴─┐\n",
       "   ┌─┼─┐ ≡\n",
       "   ⍨ ∨ ⊢  \n",
       " ┌─┘      \n",
       " .        \n",
       "┌┴┐       \n",
       "∨ ∧       \n",
       "</span>"
      ]
     },
     "execution_count": 6,
     "metadata": {},
     "output_type": "execute_result"
    }
   ],
   "source": [
    "(∨.∧⍨∨⊢)⍣≡ ⍝ Transitive closure on APL Cart?\n",
    "⍝ if G is the adjacency matrix of a graph, ∨.∧⍨⍣≡G is its transitive closure; \n",
    "⍝ for a weighted graph, ⌊.⌈⍨⍣≡G is shortest paths"
   ]
  },
  {
   "cell_type": "code",
   "execution_count": 7,
   "metadata": {},
   "outputs": [
    {
     "data": {
      "text/html": [
       "<span style=\"white-space:pre; font-family: monospace\">6 1\n",
       "</span>"
      ]
     },
     "execution_count": 7,
     "metadata": {},
     "output_type": "execute_result"
    }
   ],
   "source": [
    "3{0 ⍺⊤⍵}19 ⍝ divmod"
   ]
  },
  {
   "cell_type": "markdown",
   "metadata": {},
   "source": [
    "Rotate a matrix by 1 step, rather than by 90 degrees:"
   ]
  },
  {
   "cell_type": "code",
   "execution_count": 1,
   "metadata": {},
   "outputs": [],
   "source": [
    "]dinput\n",
    "mat←Rot mat;size;ranges;order;n;mask;rings;cutoffs;flat;grade\n",
    "size←≢mat\n",
    "rings←,(⌽⌊⊖)⌊/¨⍳2⍴size\n",
    "order←,{⌽⍉,⌸⍵+≢⍵}⍣2⍣size⍪⍬\n",
    ":For n :In ∪,rings\n",
    "   mask←n=,rings\n",
    "   grade←⍋mask/order\n",
    "   (mask/,mat)←(1⌽(mask/,mat)[grade])[⍋grade]\n",
    ":EndFor"
   ]
  },
  {
   "cell_type": "code",
   "execution_count": null,
   "metadata": {},
   "outputs": [],
   "source": [
    "⍝ Crypto library\n",
    "]cd /Users/stefan/work/dyalog/DCLmacP\n",
    ")load dyacrypt.dws\n",
    "./dyacrypt.dws saved Tue Mar  6 14:19:40 2018\n",
    "      RUN\n",
    "      \n",
    "#.Crypt.Init\n",
    "#.Win.HexTxt #.Crypt.HASH_MD5 #.Crypt.Hash 'Hello, world'"
   ]
  },
  {
   "cell_type": "code",
   "execution_count": 2,
   "metadata": {},
   "outputs": [],
   "source": [
    "⍝ Faster? pmat from dzaima\n",
    "dpmat←{1=⍵:,⊂,0 ⋄ (⊃,/)¨(⍳⍵)⌽¨⊂(⊂(!⍵-1)⍴⍵-1),⍨∇⍵-1} ⍝ random order - v fast\n",
    "sdpmat←{{(⊂⍋⍵)⌷⍵}⍉↑{1=⍵:,⊂,0 ⋄ (⊃,/)¨(⍳⍵)⌽¨⊂(⊂(!⍵-1)⍴⍵-1),⍨∇⍵-1}⍵} ⍝ same order as dfns.pmat"
   ]
  },
  {
   "cell_type": "code",
   "execution_count": 8,
   "metadata": {},
   "outputs": [
    {
     "data": {
      "text/html": [
       "<span style=\"white-space:pre; font-family: monospace\">3 3⍴4 1 6 5 2 9 7 8 3\n",
       "</span>"
      ]
     },
     "execution_count": 8,
     "metadata": {},
     "output_type": "execute_result"
    }
   ],
   "source": [
    "m←3 3⍴9?9\n",
    "⎕SE.Dyalog.Utils.repObj m"
   ]
  },
  {
   "cell_type": "code",
   "execution_count": null,
   "metadata": {},
   "outputs": [],
   "source": []
  },
  {
   "cell_type": "markdown",
   "metadata": {},
   "source": [
    "## Solve maze"
   ]
  },
  {
   "cell_type": "code",
   "execution_count": 13,
   "metadata": {},
   "outputs": [],
   "source": [
    "'span' 'stpath'⎕CY'dfns'\n",
    "⎕io←0"
   ]
  },
  {
   "cell_type": "code",
   "execution_count": 14,
   "metadata": {},
   "outputs": [],
   "source": [
    ":Namespace graph\n",
    "    ⎕io←0\n",
    "    ⍝ https://www.dcode.fr/maze-generator\n",
    "    N←{(⍸⍺)∩(⊂⍵)(+,-)(0 1)(1 0)}\n",
    "\n",
    "    _solve←{\n",
    "        (n g)←{f({{f⍳⊂⍵}¨⍵}¨m∘N¨f←⍸m←~'#'=⍵)}⍺⍺\n",
    "        n[(g ##.span ⍺) ##.stpath ⍵]\n",
    "    }\n",
    "\n",
    "    showpath←{\n",
    "        '⎕'@⍺⊢⍵\n",
    "    }\n",
    "\n",
    ":EndNamespace"
   ]
  },
  {
   "cell_type": "code",
   "execution_count": 15,
   "metadata": {},
   "outputs": [],
   "source": [
    "maze←↑⊃⎕NGET'/Users/stefan/work/dyalog/learnapl/maze-big.txt'1"
   ]
  },
  {
   "cell_type": "code",
   "execution_count": 17,
   "metadata": {},
   "outputs": [],
   "source": [
    "p ← 0 (maze graph._solve) 5004"
   ]
  },
  {
   "cell_type": "code",
   "execution_count": 18,
   "metadata": {},
   "outputs": [
    {
     "data": {
      "text/html": [
       "<span style=\"white-space:pre; font-family: monospace\">⎕.###################################################################################################\n",
       "⎕⎕#⎕⎕⎕⎕⎕⎕⎕⎕⎕#..⎕⎕⎕#..⎕⎕⎕#.....#...........#...#.....#.......#.#...#.....#.....#.#.#.....#.#.#.......#\n",
       "#⎕#⎕###.###⎕###⎕#⎕###⎕#⎕#####.###.#.###.###.#.#.#.###.###.###.###.#.###.#.#####.#.#.###.#.#.#.#######\n",
       "#⎕⎕⎕#.....#⎕#..⎕#⎕⎕⎕⎕⎕#⎕⎕⎕#⎕⎕⎕⎕⎕⎕⎕#...#.#.#.#...#...#.#.....#...#.....#.#.#.....#.#.#.........#.....#\n",
       "#####.#.###⎕###⎕#.#######⎕#⎕#####⎕#######.###.#.#####.#.#.#.#.#######.###.#.#.#.#.###.#########.###.#\n",
       "#.#.#.#.#..⎕⎕⎕⎕⎕#.#...#.#⎕#⎕#.#.#⎕........#...#.....#.#.#.#.....#.#...#...#.#.#.................#.#.#\n",
       "#.#.#####.#.#########.#.#⎕#⎕#.#.#⎕#########.#####.#.#.#.#########.#.#####.#.#####.#.#####.#####.#.###\n",
       "#...#.....#.....#.......#⎕⎕⎕#...#⎕#⎕⎕⎕#.#.#.#.#...#.#.#.#...#.......#.#.....#.#.#.#.....#...#.......#\n",
       "#.#############.#.#.#########.###⎕#⎕#⎕#.#.###.###.#.#.###.#########.#.#######.#.#.#.#####.#.###.#.#.#\n",
       "#.#...#.....#.#...#.#.#.......#..⎕⎕⎕#⎕......#.#...#.#.................#...#.#.....#.....#.#.#.#.#.#.#\n",
       "#.###.#.###.#.#######.#.###.#####.###⎕###.###.#.#.#.###.###.###.#.#######.#.#.#.#.#.###.###.#.#.#.#.#\n",
       "#.....#...#.#...#.#.......#...#...#..⎕..#...#.#.#.#.#.#.#.....#.#.#.#...#.....#.#.#.#.#...#...#.#.#.#\n",
       "###.#.#.#######.#.###.#####.#.###.###⎕#######.###.#.#.#.#######.###.#.#######.###.###.#.#######.#####\n",
       "#...#...#.........#...#...#.#.....#.#⎕⎕⎕⎕⎕#.#.#...#.#.#.#.....#.......#.....#.#.....#.#.#...........#\n",
       "#.###.#.#.#.#####.#######.#.#######.#.###⎕#.#.#.#.###.#.#.#############.#.###.#######.#.###.#.#.#.#.#\n",
       "#.#...#.#.#.#...#.#...#...#.#...........#⎕#.#...#.......#...........#.#.#.........#.....#.#.#.#.#.#.#\n",
       "#######.###.#.#######.#.#.#.#######.###.#⎕#.###########.#.#####.#####.###.#######.#####.#.###.#######\n",
       "#.#.....#.#...#.#.......#.#.#.#.#.#...#.#⎕⎕⎕⎕⎕#.....#...#...#.#.....#.#.......#.#...#.....#.....#...#\n",
       "#.#.#####.#.###.###.#######.#.#.#.#.#######.#⎕#.#.###.###.###.###.###.###.#####.###########.#######.#\n",
       "#.....#.#.#.#...............#...#.#...#...#.#⎕#.#...#...#...#...............#.#.....#.....#.#...#...#\n",
       "###.#.#.#.#.#.###.#####.###.#.#.#.#####.#####⎕###.#####.#########.###.#####.#.###.#.###.#######.#.###\n",
       "#...#.#...#...#.#...#.....#...#...#.#.....#..⎕#.#...........#...#.#...#...........#...#.....#...#.#.#\n",
       "#.#####.#####.#.#.#.#######.###.###.#####.###⎕#.#.###.#######.#.###.#######.#.#.#.#.###.###.#.###.#.#\n",
       "#.....#.......#.#.#...#...#.#...#.#.#...#.#.#⎕⎕⎕....#.#...#...#.#...#.......#.#.#.#...#...#.#.......#\n",
       "#.###.#####.#.#.###.#####.#.###.#.#.###.#.#.###⎕###.###.#####.#.###########.#########.#.#####.#####.#\n",
       "#.#.......#.#.#.........#...#.#.#.......#....⎕⎕⎕#.....#.....#.#...#...........#.#.#.....#.......#.#.#\n",
       "###.#.#####.#.#.###.#.###.###.#####.###.#####⎕#############.###.###.#.#.#.#####.#.###.#.###.#####.#.#\n",
       "#...#.......#.#...#.#.#.........#.....#......⎕⎕⎕#.......#⎕⎕⎕⎕⎕⎕⎕⎕⎕⎕⎕#.#.#.#...#.#.....#.......#.....#\n",
       "#.#####.###########.#.#########.#############.#⎕#.###.###⎕###.#.###⎕###.#.#.#.#.###.#####.#######.###\n",
       "#.#.#.#.#...#.#.....#.#.......#.#...........#.#⎕#...#.#⎕⎕⎕#...#.#.#⎕..#.#...#...#...#.......#...#.#.#\n",
       "#.#.#.###.#.#.#####.###.###.###.###.#####.#.###⎕#.#####⎕#######.#.#⎕#.#.#########.#.###.###.#.#.#.#.#\n",
       "#.......#.#.........#...#...#.....#.#.....#.#..⎕⎕⎕⎕⎕⎕⎕⎕⎕..#...#.#.#⎕#.#.#.....#.#.#...#.#...#.#.#...#\n",
       "###.#.###.###.###.###.###.#####.#.#####.#########.#####.###.#####.#⎕#######.###.#####.#########.#.###\n",
       "#.#.#.#...#.....#.....#.....#...#...#.....#.#.#.....#...#...#⎕⎕⎕⎕⎕⎕⎕#.#.#.#...#.#...#.#.#.#.#.....#.#\n",
       "#.###.#.#######.#.#.#.#.#####.#.###.#.#####.#.###.#.###.#.###⎕#######.#.#.#.###.###.#.#.#.#.#.###.#.#\n",
       "#...#.#.#...#...#.#.#.#...#...#.#.#.#.....#.#.#.#.#.#...#..⎕⎕⎕#...#.#.....#.....#.#...#.....#.#...#.#\n",
       "###.###.#.#.###.#######.###.#.#.#.#.#.###.#.#.#.###.#######⎕#.#.###.#.#.#####.#.#.#####.#.#.#######.#\n",
       "#.........#.#.....#.#.....#.#.#...#.#.#.....#.#.#...#...#⎕⎕⎕#.....#.#.#.#...#.#.#.......#.#.#...#...#\n",
       "#.#.#####.###.#####.#.###.###########.###.#.#.#.#####.#.#⎕#.#######.###.#.#.#.#####.#.#.###.###.#.#.#\n",
       "#.#.#.#...#.#.....#...#.......#.#.....#...#.#.....#...#.#⎕#...#.#.#...#...#...#.#...#.#.#.......#.#.#\n",
       "#.###.#.###.#########.#######.#.#.###.###.#######.#####.#⎕#.###.#.###.#####.#.#.###.###.#####.#####.#\n",
       "#.#.......#.....#.....#...#.#.#...#...#.#...#...#.....#⎕⎕⎕#.....#.#.#.......#.#.....#.#.....#.....#.#\n",
       "#######.#######.#####.#.#.#.#.#######.#.###.###.#.#####⎕#######.#.#.#.#######.#.#.#.#.#.###.#.###.#.#\n",
       "#.#...#...#.#...#.#.#...#.#.........#.#.....#...#...#.#⎕..#...#.#...#...#.......#.#...#...#.#...#...#\n",
       "#.###.#.###.###.#.#.###########.#########.#.#.#.###.#.#⎕#####.#####.###.#######.#####.#########.#.###\n",
       "#.........#...#.#.....#.....#.....#.#.#.#.#.#.#.#......⎕........#.#.....#.#.....#...#...#.....#.#.#.#\n",
       "#.###.#.#####.#.#.#.#.#.###.#.###.#.#.#.#.#####.#.#####⎕#######.#.###.###.#######.#####.#.#.#.###.#.#\n",
       "#.#.#.#.#.......#.#.#.#.#.#.....#.#...#.......#.#...#..⎕......#.....#.....#.......#.....#.#.#.......#\n",
       "###.#.#######.###.###.#.#.###.###.###.#.#####.#.#######⎕#.#######.#.#.###.###.###.#######.#####.#.###\n",
       "#.......#.....#...#...#.#.#...#.......#...#.......#.#.#⎕#.#.....#.#.#.#.#.#.#.#.......#...#...#.#...#\n",
       "#.#########.#.###.#####.#.###.###.#.###.###########.#.#⎕#####.#####.#.#.###.#.#######.#.#.#.###.#####\n",
       "#.#.....#...#.#.......#.#.....#...#.........#..⎕⎕⎕⎕⎕⎕⎕#⎕......#.....#.......#.....#.....#.#.#.#.#...#\n",
       "#.#####.#.#####.#.###.#######.#######.#########⎕###.#⎕#⎕#.#####.#.#.#########.#######.#.###.#.###.###\n",
       "#.......#...#.#.#.#.#.#.#.#...#...#.#...#.#....⎕..#.#⎕⎕⎕#...#...#.#.#.#...#...#.......#.....#.....#.#\n",
       "#.#.#.#.#.###.#.###.###.#.###.###.#.###.#.#####⎕#######.#.###########.#.#####.###.###.#.###.#.###.#.#\n",
       "#.#.#.#...#...#.......#.#.....#.#.....#.#.....#⎕⎕⎕⎕⎕⎕⎕#.#.#.#...#...#.....#...#.....#.#.#...#...#.#.#\n",
       "#.###.#####.#########.#.#.#.#.#.#####.#######.#######⎕#####.#.#.###.###.#########.###.#.###.#.#####.#\n",
       "#...#.#.......#...#.....#.#.#.#.#...........#.....#..⎕⎕⎕#.....#.....#.#.......#.#...#.#.#.#...#...#.#\n",
       "#.###########.#.#.#####.###.###.#.#########.#.#.#.###.#⎕#######.###.#.###.#####.###.#####.###.#.#.#.#\n",
       "#.#.....#.#.....#.#.#.#.....#.......#...#.#...#.#.#...#⎕..#.......#.#.....#.....#.......#...#.#.#...#\n",
       "###.###.#.#.#######.#.#.#####.###.###.###.#.#######.#.#⎕#########.###.#######.#.#.#.#####.###.#.#####\n",
       "#...#.....#.......#.#...#...#...#...#.#...#...#...#.#.#⎕#.#.#...........#...#.#.#.#.#.......#...#.#.#\n",
       "#######.#####.#####.#.#.#.###.#.#.###.###.###.#.#######⎕#.#.#####.#.#.###.###.#####.#.#.###.#####.#.#\n",
       "#.......#.#.#.........#.....#.#.#...#.#...#.#...#.....#⎕⎕⎕⎕⎕⎕⎕⎕⎕#.#.#.........#.#.#...#.#.........#.#\n",
       "###.###.#.#.#.#.#########.#####.#####.###.#.#.#####.#.#.#######⎕#####.#####.#.#.#.###.###.#####.###.#\n",
       "#.....#.#.....#...#.....#.#...#...#...#.....#.#.....#.#.....#..⎕#.#⎕⎕⎕#.#...#.#.#.#.#.#.#.....#.....#\n",
       "#.###.#####.###.#.###.#.#.###.#.###.#######.#.#.#####.#.#.#.#.#⎕#.#⎕#⎕#.#######.#.#.#.#.#######.#####\n",
       "#.#...........#.#.....#.#.#.#.#.#.#.......#.......#.....#.#.#.#⎕⎕⎕⎕⎕#⎕......#.....#.#.#.#.....#.....#\n",
       "#.#########.#.#.#######.###.#.#.#.#####.#####.#.#####.###.###.#.#####⎕#####.#.#.###.#.#.###.#####.###\n",
       "#...#...#.#.#.#...#...#.#...#...........#...#.#.....#.#.....#.#.#....⎕#...#.#.#.#.......#...#...#...#\n",
       "#.#####.#.#.#.###.#.#####.###.###########.###.#.#.###########.#.#####⎕###.###.###.#.#####.#####.#.#.#\n",
       "#.#.....#...#.#.....#.........#.#.#.....#.#...#.#.#.#...#...#.#.#....⎕..#...#.....#.....#.....#...#.#\n",
       "#####.#########.#.#####.#.#.###.#.###.#.#.#######.#.###.###.#.###.###⎕#####.#.###.###.#######.###.###\n",
       "#...........#...#.#.....#.#.#...#.#.#.#.#.....#.#...#.#.....#.#.....#⎕#.#.#.#...#.#...#.#.......#...#\n",
       "###.#.#####.#.#.###.###########.#.#.###.###.#.#.#.#.#.#.#.###########⎕#.#.#.#.###.#####.#.#####.#####\n",
       "#.#.#.#...#...#.#.....#.......#.............#.#...#...#.#...#.#.....#⎕⎕⎕#.....#.......#...#...#.....#\n",
       "#.###.#.#######.###.#####.#.#.###.###.###.###########.#.#####.#.#.###.#⎕#.#####.#.#.#.#.#.#.#####.#.#\n",
       "#...........#.#...#.#.....#.#.#...#.#.#.....#.#.......#.#.....#.#.#.#.#⎕..#...#.#.#.#.#.#...#.#...#.#\n",
       "###########.#.#.###.#.###.#.#.###.#.#####.#.#.#######.#.#####.#.###.###⎕#.#.#####.###.###.#.#.#.###.#\n",
       "#.#.....#.#.#...#.....#...#.#.#.#.#.......#...#.#...#.........#....⎕⎕⎕⎕⎕#.....#...#.....#.#...#.#...#\n",
       "#.#####.#.#######.#############.#######.#######.#.#######.#####.###⎕###.#.#######.#.#.#.#.#####.#.###\n",
       "#.........#...#.#.#.......#.#.#.....#.#...#.#.#...#...#...#.....#.#⎕⎕⎕#.#.#.....#.#.#.#...#...#.#...#\n",
       "#####.#####.#.#.#.#.#.#####.#.###.###.###.#.#.###.###.#####.#####.#.#⎕#####.#.###.#########.#.#.#####\n",
       "#...#.#...#.#.#.#.#.#.#.....#...#.....#.....#.......#.......#.#.....#⎕⎕⎕..#.#.#.#.......#...#.......#\n",
       "###.#.###.#.###.#.#.###.#####.###.###.#.#####.###.#########.#.#.#.#####⎕###.#.#.#####.#############.#\n",
       "#.......#...............#.......#...#.#...#...#.#.#.#.#.....#.#.#.#....⎕#...#...#.#.#.#.........#...#\n",
       "#######.###.#########.###.###.#.#.#######.#.#.#.###.#.#######.#########⎕###.###.#.#.###.#########.###\n",
       "#.............#.#.#.#.....#...#...#.#.#...#.#.#.#.......#.#.........#..⎕#...#.......#...#...#...#...#\n",
       "###.###.#.#####.#.#.#####.#####.#.#.#.###.#.###.#######.#.#.#######.###⎕#.#.#########.###.#####.#####\n",
       "#.....#.#.#.#.......#...#...#...#.....#.....#.#.#.........#.......#.#..⎕⎕⎕#.#.......#..⎕⎕⎕⎕⎕⎕⎕⎕⎕#.#.#\n",
       "###.#####.#.#####.#.#.#.#.#.###.#####.#.#####.#.#####.###.###.#.###.#.###⎕#.#######.###⎕#######⎕#.#.#\n",
       "#.......#.#.#...#.#.#.#...#.#.....#...#...........#.....#...#.#.#.#.#.#..⎕#...#..⎕⎕⎕⎕⎕⎕⎕..#....⎕..#.#\n",
       "###.#####.#.###.###.#.#########.#.#.###.###.#########.###.###.###.#.#.###⎕#######⎕###.#########⎕#.#.#\n",
       "#...#.......#...............#.#.#.#.....#.......#...#.#.#...#.#.#...#.#.#⎕#...#..⎕..#.#...#⎕⎕⎕⎕⎕#.#.#\n",
       "#.#.#.#########.#####.#.#####.#.#######.###.#######.#.#.#####.#.#######.#⎕#.#####⎕#.#####.#⎕#.#.###.#\n",
       "#.#.#...#...#.....#...#.....#...#.#.....#.#.....#.#...#...#.......#......⎕#..⎕⎕⎕⎕⎕#.#....⎕⎕⎕#.#.#⎕⎕⎕#\n",
       "#.#########.#.#.#.#########.#.#.#.#.#.#.#.#.#####.#.###.#######.#######.#⎕###⎕#######.###⎕#######⎕#⎕#\n",
       "#.......#...#.#.#...#.....#.#.#.#...#.#.#.....#.#...#.#.#.......#.....#.#⎕⎕⎕⎕⎕#.#...#.#.#⎕⎕⎕⎕⎕⎕⎕⎕⎕#⎕#\n",
       "#.###.#.#.#.###.#.#.###.#.#.#.###.#.#.#######.#.#.###.#.#.#.#.###.###.#.#####.#.#.###.#.#####.#.###⎕#\n",
       "#.#...#...#.#...#.#.....#.#.#.#...#.#...#.............#...#.#.....#.....#.......#.....#.......#...#⎕.\n",
       "###################################################################################################⎕⎕\n",
       "</span>"
      ]
     },
     "execution_count": 18,
     "metadata": {},
     "output_type": "execute_result"
    }
   ],
   "source": [
    "p graph.showpath maze"
   ]
  },
  {
   "cell_type": "markdown",
   "metadata": {},
   "source": [
    "## Bar charts from https://www.jsoftware.com/papers/APL_exercises/"
   ]
  },
  {
   "cell_type": "code",
   "execution_count": 20,
   "metadata": {},
   "outputs": [
    {
     "data": {
      "text/html": [
       "<span style=\"white-space:pre; font-family: monospace\">⎕⎕⎕......\n",
       ".........\n",
       "⎕⎕⎕⎕⎕⎕⎕⎕⎕\n",
       "⎕⎕⎕⎕⎕⎕...\n",
       "⎕⎕.......\n",
       "⎕⎕⎕⎕⎕⎕⎕..\n",
       "⎕⎕⎕⎕⎕⎕...\n",
       "</span>"
      ]
     },
     "execution_count": 20,
     "metadata": {},
     "output_type": "execute_result"
    }
   ],
   "source": [
    "{↑(⌈/⍵){(⍵/'⎕'),(⍺-⍵)/'.'}¨⍵} 3 0 9 6 2 7 6 ⍝ Bar chart"
   ]
  },
  {
   "cell_type": "code",
   "execution_count": 22,
   "metadata": {},
   "outputs": [
    {
     "data": {
      "text/html": [
       "<span style=\"white-space:pre; font-family: monospace\">⎕⎕⎕......\n",
       ".........\n",
       "⎕⎕⎕⎕⎕⎕⎕⎕⎕\n",
       "⎕⎕⎕⎕⎕⎕...\n",
       "⎕⎕.......\n",
       "⎕⎕⎕⎕⎕⎕⎕..\n",
       "⎕⎕⎕⎕⎕⎕...\n",
       "</span>"
      ]
     },
     "execution_count": 22,
     "metadata": {},
     "output_type": "execute_result"
    }
   ],
   "source": [
    "{m←⌈/⍵⋄⍵{⍵/⍨⍺,m-⍺}⍤0 1⊢'⎕.'} 3 0 9 6 2 7 6"
   ]
  },
  {
   "cell_type": "code",
   "execution_count": 31,
   "metadata": {},
   "outputs": [
    {
     "data": {
      "text/html": [
       "<span style=\"white-space:pre; font-family: monospace\">⎕⎕⎕      \n",
       "         \n",
       "⎕⎕⎕⎕⎕⎕⎕⎕⎕\n",
       "⎕⎕⎕⎕⎕⎕   \n",
       "⎕⎕       \n",
       "⎕⎕⎕⎕⎕⎕⎕  \n",
       "⎕⎕⎕⎕⎕⎕   \n",
       "</span>"
      ]
     },
     "execution_count": 31,
     "metadata": {},
     "output_type": "execute_result"
    }
   ],
   "source": [
    "(↑⍴¨∘'⎕')3 0 9 6 2 7 6"
   ]
  },
  {
   "cell_type": "markdown",
   "metadata": {},
   "source": [
    "which is the same as"
   ]
  },
  {
   "cell_type": "code",
   "execution_count": 32,
   "metadata": {},
   "outputs": [
    {
     "data": {
      "text/html": [
       "<span style=\"white-space:pre; font-family: monospace\">⎕⎕⎕      \n",
       "         \n",
       "⎕⎕⎕⎕⎕⎕⎕⎕⎕\n",
       "⎕⎕⎕⎕⎕⎕   \n",
       "⎕⎕       \n",
       "⎕⎕⎕⎕⎕⎕⎕  \n",
       "⎕⎕⎕⎕⎕⎕   \n",
       "</span>"
      ]
     },
     "execution_count": 32,
     "metadata": {},
     "output_type": "execute_result"
    }
   ],
   "source": [
    "↑{⍵⍴'⎕'}¨3 0 9 6 2 7 6"
   ]
  },
  {
   "cell_type": "code",
   "execution_count": 1,
   "metadata": {},
   "outputs": [],
   "source": [
    "]dinput\n",
    ":Class Dict\n",
    "    ⍝ )ed ○ Dict\n",
    "    :Field Public _keys←(1500⌶)⍬\n",
    "    :Field Public _values←⍬\n",
    "\n",
    "    :Property Keyed Default Item\n",
    "        :Access Public Instance\n",
    "\n",
    "        ∇ r←get arg\n",
    "            r←_values[_keys⍳⊃arg.Indexers] ⍝ Read components\n",
    "        ∇\n",
    "\n",
    "        ∇ set arg;dedupe;unique;kk;vv;seen\n",
    "            ⍝ Find the unique indexes and corresponding vals\n",
    "            unique ← ≠⊃arg.Indexers\n",
    "            kk ← unique/⊃arg.Indexers\n",
    "            vv ← unique/arg.NewValue\n",
    "    \n",
    "            ⍝ Separate out keys we already hold from new ones\n",
    "            seen ← kk∊_keys\n",
    "            (seen/_values)←seen/vv\n",
    "\n",
    "            ⍝ Append new keys and corresponding values\n",
    "            _keys,←(~seen)/kk\n",
    "            _values,←(~seen)/vv\n",
    "        ∇\n",
    "\n",
    "    :EndProperty\n",
    "\n",
    "    ∇ Make(keys values)\n",
    "        :Access Public\n",
    "        :Implements Constructor\n",
    "\n",
    "        (_keys _values)←keys values\n",
    "    ∇\n",
    ":EndClass"
   ]
  },
  {
   "cell_type": "code",
   "execution_count": 4,
   "metadata": {},
   "outputs": [
    {
     "data": {
      "text/html": [
       "<span style=\"white-space:pre; font-family: monospace\">┌───┬──┬──┐\n",
       "│Bob│42│42│\n",
       "└───┴──┴──┘\n",
       "</span>"
      ]
     },
     "execution_count": 4,
     "metadata": {},
     "output_type": "execute_result"
    }
   ],
   "source": [
    "z←⎕NEW Dict (('APL' 'Rocks!')(42 'Bob'))\n",
    "z['Rocks!' 'APL' 'APL'] "
   ]
  },
  {
   "cell_type": "markdown",
   "metadata": {},
   "source": [
    "## Using .NET\n",
    "\n",
    "From https://docs.microsoft.com/en-us/dotnet/api/system.collections.hashtable?view=net-5.0\n",
    "\n",
    "This should work, but doesn't seem to on a mac afaik."
   ]
  },
  {
   "cell_type": "code",
   "execution_count": null,
   "metadata": {},
   "outputs": [],
   "source": [
    "⎕USING←'System.Collections'\n",
    "openWith←⎕NEW Hashtable\n",
    "⍝ Add some elements to the hash table. There are no\n",
    "⍝ duplicate keys, but some of the values are duplicates.\n",
    "openWith.Add'txt' 'notepad.exe'\n",
    "openWith.Add'bmp' 'paint.exe'\n",
    "openWith.Add'dib' 'paint.exe'\n",
    "openWith.Add'rtf' 'wordpad.exe'\n",
    "openWith\n",
    "(⌷openWith).(Key Value)\n",
    "(openWith).(Keys Values)\n",
    "System.Collections.Hashtable+KeyCollection  System.Collections.Hashtable+ValueCollection \n",
    "⌷¨(openWith).(Keys Values)"
   ]
  },
  {
   "cell_type": "markdown",
   "metadata": {},
   "source": [
    "## Testing notes"
   ]
  },
  {
   "cell_type": "markdown",
   "metadata": {},
   "source": [
    "* https://github.com/Dyalog/link/blob/master/StartupSession/Link/Test.dyalog\n",
    "* https://github.com/abrudz/Get/blob/master/abrudz.dyalog#L248\n",
    "* https://dfns.dyalog.com/n_test.htm\n",
    "* Try e.g. ]uload calendar then )ed JSUtils.Test"
   ]
  },
  {
   "cell_type": "markdown",
   "metadata": {},
   "source": [
    "## Read .clou file into namespace"
   ]
  },
  {
   "cell_type": "code",
   "execution_count": 3,
   "metadata": {},
   "outputs": [],
   "source": [
    "∇ r←pc file;clou;_set;sect;sectns\n",
    "clou←⊃⎕NGET file 1\n",
    "_set←{⍎'⍺⍺.',⍺,'←⍵'⊣⍺⍺}\n",
    "r←⎕NS⍬\n",
    ":for sect :in clou⊂⍨~'='∊⍤0 1⊢↑clou\n",
    "   :if ''≡⊃sect ⋄ :continue ⋄ :endif\n",
    "   sectns←⎕NS⍬\n",
    "   (sectns _set)/↑'([^= ]+)\\s*=\\s*(.+)'⎕s{⍵.(1↓Lengths↑¨Offsets↓¨⊂Block)}1↓sect\n",
    "   (1↓¯1↓⊃sect)(r _set)sectns\n",
    ":endfor\n",
    "∇"
   ]
  },
  {
   "cell_type": "code",
   "execution_count": 10,
   "metadata": {},
   "outputs": [],
   "source": [
    "clou2←{⎕JSON⍠'Dialect' 'JSON5'⊢2⌽ '}}{\"\":{' , ∊'^;.*' '^\\[(.*)]' '^(.*?)\\s*=\\s*(.*)'⎕R'' '},\"\\1\":{' '\"\\1\":\"\\2\",' ⊢ ⊃⎕NGET ⍵}"
   ]
  },
  {
   "cell_type": "markdown",
   "metadata": {},
   "source": [
    "## More grouping: left join\n",
    "\n",
    "\n",
    "Can anyone suggest a clever way of achieving the follwing \"left join\":\n",
    "\n",
    "Given two vectors, the first a vector of char vecs, the second a vector of two-element vectors, group the second based on the first component, returning the second components per group, inserting the empty vectors for groups not present.\n",
    "e.g\n",
    "\n",
    "```apl\n",
    "X←'one' 'two' 'three' 'four'\n",
    "Y←('one' 1)('one' 2)('three' 1)('four' 2)('four' 3)\n",
    "R←⎕←X f Y\n",
    "┌───┬┬─┬───┐\n",
    "│1 2││1│2 3│\n",
    "└───┴┴─┴───┘\n",
    "R≡(1 2)(,⍬)(,1)(2 3)\n",
    "1\n",
    "```"
   ]
  },
  {
   "cell_type": "code",
   "execution_count": 7,
   "metadata": {},
   "outputs": [
    {
     "data": {
      "text/html": [
       "<span style=\"white-space:pre; font-family: monospace\">┌───┬┬─┬───┐\n",
       "│1 2││1│2 3│\n",
       "└───┴┴─┴───┘\n",
       "</span>"
      ]
     },
     "execution_count": 7,
     "metadata": {},
     "output_type": "execute_result"
    }
   ],
   "source": [
    "X←'one' 'two' 'three' 'four'\n",
    "Y←('one' 1)('one' 2)('three' 1)('four' 2)('four' 3)\n",
    "(⊃¨{⊂1↓⊢/¨⍵}⌸⊢)(X,⍥⊂¨0),Y ⍝ Suggested by Adam"
   ]
  },
  {
   "cell_type": "markdown",
   "metadata": {},
   "source": [
    "One from @ngn"
   ]
  },
  {
   "cell_type": "code",
   "execution_count": 8,
   "metadata": {},
   "outputs": [
    {
     "data": {
      "text/html": [
       "<span style=\"white-space:pre; font-family: monospace\">┌───┬┬─┬───┐\n",
       "│1 2││1│2 3│\n",
       "└───┴┴─┴───┘\n",
       "</span>"
      ]
     },
     "execution_count": 8,
     "metadata": {},
     "output_type": "execute_result"
    }
   ],
   "source": [
    "K V←↓⍉↑Y ⋄ R←⍬⍨¨X ⋄ R[X⍳K],←V\n",
    "R"
   ]
  },
  {
   "cell_type": "markdown",
   "metadata": {},
   "source": [
    "## Times and dates\n",
    "\n",
    "See https://chat.stackexchange.com/rooms/52405/conversation/lesson-48-c-dt-1200\n",
    "\n",
    "File last modification time, epoch seconds:"
   ]
  },
  {
   "cell_type": "code",
   "execution_count": 11,
   "metadata": {},
   "outputs": [
    {
     "data": {
      "text/html": [
       "<span style=\"white-space:pre; font-family: monospace\">1593593640\n",
       "</span>"
      ]
     },
     "execution_count": 11,
     "metadata": {},
     "output_type": "execute_result"
    }
   ],
   "source": [
    "20 ⎕DT 3⎕NINFO '/Users/stefan/user.json'"
   ]
  },
  {
   "cell_type": "markdown",
   "metadata": {},
   "source": [
    "Current time, epoch seconds"
   ]
  },
  {
   "cell_type": "code",
   "execution_count": 12,
   "metadata": {},
   "outputs": [
    {
     "data": {
      "text/html": [
       "<span style=\"white-space:pre; font-family: monospace\">1615549666\n",
       "</span>"
      ]
     },
     "execution_count": 12,
     "metadata": {},
     "output_type": "execute_result"
    }
   ],
   "source": [
    "20 ⎕DT ⊂⎕TS"
   ]
  },
  {
   "cell_type": "code",
   "execution_count": null,
   "metadata": {},
   "outputs": [],
   "source": [
    "md5←{\n",
    "     ⍝ By LdBeth (https://math.stackexchange.com/users/899178/ldbeth)\n",
    "     ⍝ index origin zero\n",
    "     ⎕IO←0\n",
    "     ⍝ decoding UTF-8 & padding\n",
    "     M←(⊢,(0⍴⍨512|448-512|≢))1,⍨l←,⍉(8⍴2)⊤'UTF-8'⎕UCS ⍵\n",
    "     ⍝ add length\n",
    "     M,←,⍉(8⍴2)⊤⌽(8⍴256)⊤≢l\n",
    "     ⍝ init registers (@ngn suggests A B C D←16⊥⍉(⌽⍪⊖)⍪⌽2 4 2⍴⍳16)\n",
    "     A←16⊥6 7 4 5 2 3 0 1\n",
    "     B←16⊥14 15 12 13 10 11 8 9\n",
    "     C←16⊥9 8 11 10 13 12 15 14\n",
    "     D←16⊥1 0 3 2 5 4 7 6\n",
    "     ⍝ \n",
    "     ⍝ T table\n",
    "     T←⌊(2*32)×|1○1+⍳64\n",
    "     ⍝ index table\n",
    "     K←16|i,(1+5×i),(5+3×i),7×i←⍳16\n",
    "     ⍝ rot table\n",
    "     S←,1 0 2⍉4 4 4⍴7 12 17 22 5 9 14 20 4 11 16 23 6 10 15 21\n",
    "     ⍝ truncate ⍵ to 32 bit & rot left ⍺\n",
    "     rot←{2⊥⍺⌽(32⍴2)⊤⍵}\n",
    "     proc←{\n",
    "         ⍝ pack 512 bits into 32 bit words &\n",
    "         ⍝ precompute X[k] + T[i]\n",
    "         l←T+(⊂K)⌷256⊥⍉⌽16 4⍴2⊥⍉64 8⍴⍺\n",
    "         fn←{\n",
    "         ⍝ a b c d to binary\n",
    "             a b c d←↓⍉(32⍴2)⊤⍵\n",
    "         ⍝ a + F(b,c,d)\n",
    "             ⍺<16:S[⍺]rot l[⍺]+2⊥a+d≠b∧c≠d\n",
    "             ⍺<32:S[⍺]rot l[⍺]+2⊥a+(b∧d)∨(c∧~d)\n",
    "             ⍺<48:S[⍺]rot l[⍺]+2⊥a+b≠c≠d\n",
    "             S[⍺]rot l[⍺]+2⊥a+c≠b∨~d\n",
    "         }\n",
    "         (2*32)|⍵+⊃{¯1⌽((⍵[1]+⍺ fn ⍵)@0)⍵}/(⌽⍳64),⊂⍵\n",
    "     }\n",
    "     ⍝ process each 512 bits\n",
    "     loop←{⍬≡⍺:⍵ ⋄ (512↓⍺)∇(512↑⍺)proc ⍵}\n",
    "     ⍝ output registers\n",
    "     (⎕D,⎕A)[,⍉(2⍴16)⊤,⍉⊖(4⍴256)⊤M loop A B C D]\n",
    " }"
   ]
  },
  {
   "cell_type": "code",
   "execution_count": null,
   "metadata": {},
   "outputs": [],
   "source": [
    "]dinput\n",
    "Merge←{\n",
    "    templ←⎕JSON (⊃⎕NGET ⍺)\n",
    "    keys←templ.⎕NL¯2\n",
    "    vals←templ.(⍎¨#.keys)\n",
    "    \n",
    "    (({'@',(⍕⍵),'@'}¨keys),(⊂'@@'),⊂'@[^@]+@')⎕R((⍕¨vals),(⊂,'@'),⊂'???')⊢⊃⎕NGET ⍵\n",
    "}"
   ]
  },
  {
   "cell_type": "markdown",
   "metadata": {},
   "source": [
    "## Commandline args"
   ]
  },
  {
   "cell_type": "code",
   "execution_count": 3,
   "metadata": {},
   "outputs": [
    {
     "data": {
      "text/html": [
       "<span style=\"white-space:pre; font-family: monospace\">┌──────────────────────────────────────────────────────────────┬──┬──┬─────────────────────────────────────────────────────────────┐\n",
       "│/Applications/Dyalog-18.1.app/Contents/Resources/Dyalog/dyalog│+s│-q│/opt/anaconda3/envs/py39/lib/python3.9/dyalog_kernel/init.dws│\n",
       "└──────────────────────────────────────────────────────────────┴──┴──┴─────────────────────────────────────────────────────────────┘\n",
       "</span>"
      ]
     },
     "execution_count": 3,
     "metadata": {},
     "output_type": "execute_result"
    }
   ],
   "source": [
    "⊢2⎕NQ#'GetCommandLineArgs'"
   ]
  },
  {
   "cell_type": "markdown",
   "metadata": {},
   "source": [
    "## Partition Problem of Equal Sums\n",
    "\n",
    "https://en.wikipedia.org/wiki/Partition_problem"
   ]
  },
  {
   "cell_type": "code",
   "execution_count": null,
   "metadata": {},
   "outputs": [],
   "source": [
    "]dinput\n",
    "HorowitzSahni ← {\n",
    "    sum←1⊥⍵\n",
    "    2|sum: ⍬   ⍝ Lists with an odd sum cannot be split into equal parts.\n",
    "    halfsum←sum÷2\n",
    "    s←⍵(↑{⍺⍵}↓)⍨⌊2÷⍨≢⍵                          ⍝ Split the input.\n",
    "    a b←⊃¨(⊢,+)/¨s,¨0                           ⍝ Generate the subset sums.\n",
    "    indexes←a {(⊢,⍵⍳⍺⌷⍨(≢⍺)⌊⊢)1⍳⍨⍺∊⍵} halfsum-b ⍝ Search for solution indexes.\n",
    "    indexes[2]>≢b: ⍬\n",
    "    ⍵ {(⍺/⍨~⍵)(⍵/⍺)} ∊(2⍴¨⍨≢¨s)⊤¨indexes-1      ⍝ Get the solution from the indexes.\n",
    "}"
   ]
  },
  {
   "cell_type": "markdown",
   "metadata": {},
   "source": [
    "## eXplanation operator for products\n",
    "\n",
    "https://chat.stackexchange.com/transcript/52405?m=43945029#43945029\n"
   ]
  },
  {
   "cell_type": "code",
   "execution_count": 3,
   "metadata": {},
   "outputs": [
    {
     "data": {
      "text/html": [
       "<span style=\"white-space:pre; font-family: monospace\">37 40\n",
       "85 92\n",
       "</span>"
      ]
     },
     "execution_count": 3,
     "metadata": {},
     "output_type": "execute_result"
    },
    {
     "data": {
      "text/html": [
       "<span style=\"white-space:pre; font-family: monospace\">┌───────────────────────┬───────────────────────┐\n",
       "│(( 1 × 11 )+( 2 × 13 ))│(( 1 × 12 )+( 2 × 14 ))│\n",
       "├───────────────────────┼───────────────────────┤\n",
       "│(( 3 × 11 )+( 4 × 13 ))│(( 3 × 12 )+( 4 × 14 ))│\n",
       "└───────────────────────┴───────────────────────┘\n",
       "</span>"
      ]
     },
     "execution_count": 3,
     "metadata": {},
     "output_type": "execute_result"
    },
    {
     "data": {
      "text/html": [
       "<span style=\"white-space:pre; font-family: monospace\">┌─────────────────────┐\n",
       "│((a×D)+((b×E)+(c×F)))│\n",
       "└─────────────────────┘\n",
       "</span>"
      ]
     },
     "execution_count": 3,
     "metadata": {},
     "output_type": "execute_result"
    }
   ],
   "source": [
    "X←{f←⍺⍺ ⋄ ⍺←⊢ ⋄ '(',⍺,(⎕CR'f'),⍵,')'}\n",
    "(2 2⍴⍳4) +.× 2 2⍴10+⍳4\n",
    "(2 2⍴⍳4) +X.(×X) 2 2⍴10+⍳4\n",
    "'abc'(+X).(×X)'DEF'"
   ]
  },
  {
   "cell_type": "markdown",
   "metadata": {},
   "source": [
    "## Complex numbers as points/grids"
   ]
  },
  {
   "cell_type": "code",
   "execution_count": null,
   "metadata": {},
   "outputs": [],
   "source": [
    "0j1⊥¨    0j1⊥   ⍝ pair(s) of reals -> complex\n",
    "11 9∘○¨  11 9○  ⍝ complex -> pair(s) of reals\n",
    "|z0-z1          ⍝ distance between two points\n",
    "0j1×z   0j¯1×z  ⍝ rotate by ±90° around (0,0)\n",
    "0j1*⍳4          ⍝ the four cardinal directions\n",
    "+z       -+z    ⍝ reflect across x or y axis\n",
    "+\\0,z           ⍝ sequence of steps -> path\n",
    "¯2-/z           ⍝ path -> sequence of steps\n",
    "0j1⊥¨n-⍳2⍴1+2×n ⍝ lattice centred on (0,0)"
   ]
  },
  {
   "cell_type": "markdown",
   "metadata": {},
   "source": [
    "## Longest stretch of 1s"
   ]
  },
  {
   "cell_type": "code",
   "execution_count": 2,
   "metadata": {},
   "outputs": [],
   "source": [
    "ones←{≢⍉↑⊆⍨⍵} ⍝ Slower, but cool (@ngn)\n",
    "onesf←⌈/(0~⍨¯1-2-/∘⍸1,1,⍨~) ⍝ Faster (@adam)"
   ]
  },
  {
   "cell_type": "code",
   "execution_count": 4,
   "metadata": {},
   "outputs": [
    {
     "data": {
      "text/html": [
       "<span style=\"white-space:pre; font-family: monospace\">6\n",
       "</span>"
      ]
     },
     "execution_count": 4,
     "metadata": {},
     "output_type": "execute_result"
    },
    {
     "data": {
      "text/html": [
       "<span style=\"white-space:pre; font-family: monospace\">6\n",
       "</span>"
      ]
     },
     "execution_count": 4,
     "metadata": {},
     "output_type": "execute_result"
    }
   ],
   "source": [
    "ones 1 1 0 1 1 1 0 1 1 1 1 1 1 0 1 0 1 0\n",
    "onesf 1 1 0 1 1 1 0 1 1 1 1 1 1 0 1 0 1 0"
   ]
  },
  {
   "cell_type": "markdown",
   "metadata": {},
   "source": [
    "## RepObj\n",
    "\n",
    "Display any object as an executable constructor"
   ]
  },
  {
   "cell_type": "code",
   "execution_count": 5,
   "metadata": {},
   "outputs": [
    {
     "data": {
      "text/html": [
       "<span style=\"white-space:pre; font-family: monospace\">2 3⍴4 1 6 5 2 3\n",
       "</span>"
      ]
     },
     "execution_count": 5,
     "metadata": {},
     "output_type": "execute_result"
    }
   ],
   "source": [
    "⎕SE.Dyalog.Utils.repObj 2 3⍴6?6"
   ]
  },
  {
   "cell_type": "markdown",
   "metadata": {},
   "source": [
    "In v18.1, this is available as `]repr`"
   ]
  },
  {
   "cell_type": "code",
   "execution_count": 2,
   "metadata": {},
   "outputs": [
    {
     "data": {
      "text/html": [
       "<span style=\"white-space:pre; font-family: monospace\">2 3⍴4 1 6 5 2 3\n",
       "</span>"
      ]
     },
     "execution_count": 2,
     "metadata": {},
     "output_type": "execute_result"
    }
   ],
   "source": [
    "]repr 2 3⍴6?6"
   ]
  },
  {
   "cell_type": "markdown",
   "metadata": {},
   "source": [
    "## Longest Increasing Subsequence (nlogn)\n",
    "Direct re-implementation of wikpedia pseudocode. ⎕IO←0"
   ]
  },
  {
   "cell_type": "code",
   "execution_count": 1,
   "metadata": {},
   "outputs": [],
   "source": [
    "∇ S←lis X;N;P;M;L;i;lo;hi;mid;newL;k\n",
    "⍝ https://en.wikipedia.org/wiki/Longest_increasing_subsequence\n",
    "N←≢X\n",
    "P←N↑¯1\n",
    "M←(N+1)↑¯1\n",
    "L←0\n",
    ":for i :in ⍳N\n",
    "    (lo hi)←1 L\n",
    "    :while lo≤hi\n",
    "        mid←⌈(lo+hi)÷2\n",
    "        :if X[M[mid]]<X[i]\n",
    "            lo←mid+1\n",
    "        :else\n",
    "            hi←mid-1\n",
    "        :endif\n",
    "    :endwhile\n",
    "    newL←lo\n",
    "    P[i]←M[newL-1]\n",
    "    M[newL]←i\n",
    "    :if newL>L\n",
    "        L←newL\n",
    "    :endif\n",
    ":endfor\n",
    "S←L↑0\n",
    "k←M[L]\n",
    ":for i :in ⊖⍳L\n",
    "    S[i]←X[k]\n",
    "    k←P[k]\n",
    ":endfor\n",
    "∇"
   ]
  },
  {
   "cell_type": "code",
   "execution_count": 1,
   "metadata": {},
   "outputs": [],
   "source": [
    "glue2←{m←⍸(⌽¨,\\⌽⍺)≡¨(,\\⍵) ⋄ m≡⍬:⍬ ⋄ ⍺,m↓⍵}\n",
    "glue3←{⍺,⍵↓⍨⌈/0,⍸(↑∘⍵≡-↑⍺⍨)¨⍳⍺⌊⍥≢⍵}\n",
    "glue4←'(.*);\\1'⎕R'\\1'⊣,';',⊢"
   ]
  },
  {
   "cell_type": "markdown",
   "metadata": {},
   "source": [
    "## Longest common sub-sequence\n",
    "\n",
    "https://raw.githubusercontent.com/Masterquiz/APL-Problem-Solving-Competition/main/2021/Phase2/Problem7/lcsq.aplf"
   ]
  },
  {
   "cell_type": "code",
   "execution_count": 1,
   "metadata": {},
   "outputs": [],
   "source": [
    "]dinput\n",
    "lcsq ← {\n",
    "    M←↑⊃{⍵,⊂⌈\\last⌈(⍺+0,¯1↓last←⊃⌽⍵)⌈0,¯1↓⍺}/(⊂⊂{0}¨⍵),⍨⌽↓⍺∘.=⍵\n",
    "    mat←2<⌿2</0,M\n",
    "    pos←(⍸mat){⍵[⍋⍵]⊆⍺[⍋⍵]}mat/⍥,1↓M\n",
    "    ind←1↓¨{⍵,¯1↑⍺/⍨∧/¨⍺<¯1↑⍵}/pos,⊂⊂⍴M\n",
    "    ⌽⍺⌷⍨⊃¨¨ind\n",
    "}"
   ]
  },
  {
   "cell_type": "code",
   "execution_count": 2,
   "metadata": {},
   "outputs": [],
   "source": [
    "assert←{⍺←'assertion failure' ⋄ 0∊⍵:⍺ ⎕signal 8 ⋄ shy←0}\n",
    "assert 'AACTTG' ≡ 'AACCTTGG' lcsq 'ACACTGTGA'\n",
    "assert '' ≡ 'ACGTACGTGACG' lcsq ''\n",
    "assert '' ≡ 'ACGTACGTGACG' lcsq 'XYZZYX'"
   ]
  },
  {
   "cell_type": "markdown",
   "metadata": {},
   "source": [
    "## Boolean alternating selection\n",
    "\n",
    "Given two arrays A, B and a boolean filter C, select items from A if C is false and from B if C is true"
   ]
  },
  {
   "cell_type": "code",
   "execution_count": 4,
   "metadata": {},
   "outputs": [
    {
     "data": {
      "text/html": [
       "<span style=\"white-space:pre; font-family: monospace\">1 2 33 44\n",
       "</span>"
      ]
     },
     "execution_count": 4,
     "metadata": {},
     "output_type": "execute_result"
    }
   ],
   "source": [
    "A←1 2 3 4\n",
    "B←11 22 33 44\n",
    "C←0 0 1 1\n",
    "(C/⍥,B)@{C}A"
   ]
  },
  {
   "cell_type": "markdown",
   "metadata": {},
   "source": [
    "If we're dealing with vectors, that's just"
   ]
  },
  {
   "cell_type": "code",
   "execution_count": 3,
   "metadata": {},
   "outputs": [
    {
     "data": {
      "text/html": [
       "<span style=\"white-space:pre; font-family: monospace\">1 2 33 44\n",
       "</span>"
      ]
     },
     "execution_count": 3,
     "metadata": {},
     "output_type": "execute_result"
    }
   ],
   "source": [
    "(C/B)@{C}A"
   ]
  },
  {
   "cell_type": "markdown",
   "metadata": {},
   "source": [
    "All that says is: replace the true spots (as defined by C) in A with the true spots (as defined by C) from B. If we can mutate A, we could also have written that as"
   ]
  },
  {
   "cell_type": "code",
   "execution_count": 5,
   "metadata": {},
   "outputs": [
    {
     "data": {
      "text/html": [
       "<span style=\"white-space:pre; font-family: monospace\">1 2 33 44\n",
       "</span>"
      ]
     },
     "execution_count": 5,
     "metadata": {},
     "output_type": "execute_result"
    }
   ],
   "source": [
    "(C/A)←C/B\n",
    "A"
   ]
  },
  {
   "cell_type": "markdown",
   "metadata": {},
   "source": [
    "## Hashmap from dzaima"
   ]
  },
  {
   "cell_type": "code",
   "execution_count": 1,
   "metadata": {},
   "outputs": [],
   "source": [
    "]dinput\n",
    "map←{\n",
    "  r←⎕NS ⍬\n",
    "  r.k←1500⌶⍬\n",
    "  r.v←⍬\n",
    "  r.set←{\n",
    "    i←k⍳⊂⍺\n",
    "    i≡1+≢k: v,←⊂⍵⊣k,←⊂⍺\n",
    "    v[i]←⊂⍵\n",
    "  }\n",
    "  r.get←{\n",
    "    (k⍳⊂⍵)⊃v\n",
    "  }\n",
    "  r\n",
    "}"
   ]
  },
  {
   "cell_type": "markdown",
   "metadata": {},
   "source": [
    "## Performance gotchas"
   ]
  },
  {
   "cell_type": "code",
   "execution_count": 1,
   "metadata": {},
   "outputs": [
    {
     "data": {
      "text/html": [
       "<span style=\"white-space:pre; font-family: monospace\">                                                                  \n",
       "  ⊃⍤⍋a → 8.7E¯6 |     0% ⎕⎕                                       \n",
       "  ⊃⍋a  → 1.5E¯4 | +1647% ⎕⎕⎕⎕⎕⎕⎕⎕⎕⎕⎕⎕⎕⎕⎕⎕⎕⎕⎕⎕⎕⎕⎕⎕⎕⎕⎕⎕⎕⎕⎕⎕⎕⎕⎕⎕⎕⎕⎕⎕ \n",
       "</span>"
      ]
     },
     "execution_count": 1,
     "metadata": {},
     "output_type": "execute_result"
    }
   ],
   "source": [
    "a ← ?⍨ 100000\n",
    "]runtime -c '⊃⍤⍋a' '⊃⍋a'"
   ]
  },
  {
   "cell_type": "markdown",
   "metadata": {},
   "source": [
    "## Regex primes"
   ]
  },
  {
   "cell_type": "code",
   "execution_count": 10,
   "metadata": {},
   "outputs": [],
   "source": [
    "IsPrime←{⍬≡'^.?$|^(..+?)\\1+$'⎕S 3⊢'1'/⍨⍵}"
   ]
  },
  {
   "cell_type": "code",
   "execution_count": 11,
   "metadata": {},
   "outputs": [
    {
     "data": {
      "text/html": [
       "<span style=\"white-space:pre; font-family: monospace\">2 5 7 11\n",
       "</span>"
      ]
     },
     "execution_count": 11,
     "metadata": {},
     "output_type": "execute_result"
    }
   ],
   "source": [
    "nums/⍨IsPrime¨nums←2 5 6 7 8 9 10 11"
   ]
  },
  {
   "cell_type": "markdown",
   "metadata": {},
   "source": [
    "## Binary search"
   ]
  },
  {
   "cell_type": "code",
   "execution_count": 1,
   "metadata": {},
   "outputs": [],
   "source": [
    "]dinput\n",
    "bsearch←{⎕IO←0\n",
    "   0 ((,⍺) {\n",
    "       ⍵<⍺:⍬\n",
    "       m←⌊2÷⍨⍺+⍵\n",
    "       ⍺⍺[m]>⍵⍵:⍺∇m-1\n",
    "       ⍺⍺[m]<⍵⍵:⍵∇⍨m+1\n",
    "       m\n",
    "   } ⍵)¯1+≢,⍺                \n",
    "}"
   ]
  },
  {
   "cell_type": "code",
   "execution_count": 3,
   "metadata": {},
   "outputs": [
    {
     "data": {
      "text/html": [
       "<span style=\"white-space:pre; font-family: monospace\">┌⊖┐\n",
       "│0│\n",
       "└~┘\n",
       "</span>"
      ]
     },
     "execution_count": 3,
     "metadata": {},
     "output_type": "execute_result"
    },
    {
     "data": {
      "text/html": [
       "<span style=\"white-space:pre; font-family: monospace\">3\n",
       "</span>"
      ]
     },
     "execution_count": 3,
     "metadata": {},
     "output_type": "execute_result"
    },
    {
     "data": {
      "text/html": [
       "<span style=\"white-space:pre; font-family: monospace\">0\n",
       "</span>"
      ]
     },
     "execution_count": 3,
     "metadata": {},
     "output_type": "execute_result"
    }
   ],
   "source": [
    "]display 1 2 3 5 7 8 9 12 bsearch 11\n",
    "1 2 3 5 7 8 9 12 bsearch 5\n",
    "1 bsearch 1"
   ]
  },
  {
   "cell_type": "markdown",
   "metadata": {},
   "source": [
    "## Fibobnacci sequence\n",
    "\n",
    "See https://www.jsoftware.com/papers/50/50_36.htm"
   ]
  },
  {
   "cell_type": "code",
   "execution_count": 5,
   "metadata": {},
   "outputs": [],
   "source": [
    "fib←{r←⍬⋄_←{{p←+\\⌽⍵⋄r,←⊃p⋄p}⍣⍵⊢0 1}⍵⋄r}"
   ]
  },
  {
   "cell_type": "code",
   "execution_count": 6,
   "metadata": {},
   "outputs": [
    {
     "data": {
      "text/html": [
       "<span style=\"white-space:pre; font-family: monospace\">1 1 2 3 5 8 13 21 34 55\n",
       "</span>"
      ]
     },
     "execution_count": 6,
     "metadata": {},
     "output_type": "execute_result"
    }
   ],
   "source": [
    "fib 10"
   ]
  },
  {
   "cell_type": "code",
   "execution_count": 1,
   "metadata": {},
   "outputs": [],
   "source": [
    "fib2←{s÷⍨(p*⍵)-⍵*⍨1-p←2÷¯1+s←5*÷2}⍳ ⍝ Via Binet's formula. Likely the fastest Fib"
   ]
  },
  {
   "cell_type": "code",
   "execution_count": 2,
   "metadata": {},
   "outputs": [
    {
     "data": {
      "text/html": [
       "<span style=\"white-space:pre; font-family: monospace\">1 1 2 3 5 8 13 21 34 55\n",
       "</span>"
      ]
     },
     "execution_count": 2,
     "metadata": {},
     "output_type": "execute_result"
    }
   ],
   "source": [
    "fib2 10"
   ]
  },
  {
   "cell_type": "markdown",
   "metadata": {},
   "source": [
    "## Farey sequence\n",
    "\n",
    "https://en.wikipedia.org/wiki/Farey_sequence"
   ]
  },
  {
   "cell_type": "code",
   "execution_count": 11,
   "metadata": {},
   "outputs": [],
   "source": [
    "]dinput\n",
    "farey ← {⎕IO←0\n",
    "    r ← ⊂0 1\n",
    "    0=⍵: ,r\n",
    "    n ← ⍵\n",
    "    _ ← {\n",
    "        (a b c d) ← ⍵\n",
    "        k ← ⌊d÷⍨n+b\n",
    "        r ,← ⊂c d\n",
    "        c d,(k×c d)-a b\n",
    "    }⍣{n<2⊃⍺} 0 1 1 n\n",
    "    r\n",
    "}"
   ]
  },
  {
   "cell_type": "code",
   "execution_count": 12,
   "metadata": {},
   "outputs": [
    {
     "data": {
      "text/html": [
       "<span style=\"white-space:pre; font-family: monospace\">┌───┬───┬───┬───┬───┬───┬───┬───┬───┬───┬───┐\n",
       "│0 1│1 5│1 4│1 3│2 5│1 2│3 5│2 3│3 4│4 5│1 1│\n",
       "└───┴───┴───┴───┴───┴───┴───┴───┴───┴───┴───┘\n",
       "</span>"
      ]
     },
     "execution_count": 12,
     "metadata": {},
     "output_type": "execute_result"
    }
   ],
   "source": [
    "farey 5"
   ]
  },
  {
   "cell_type": "markdown",
   "metadata": {},
   "source": [
    "## Progressive Dyadic Iota\n",
    "\n",
    "https://dyalog.tv/Webinar/?v=6SAsgEvUmkU"
   ]
  },
  {
   "cell_type": "code",
   "execution_count": 7,
   "metadata": {},
   "outputs": [],
   "source": [
    "pdi ← {((⍴⍺)⍴⍋⍋⍺,⍵)⍳(⍴⍵)⍴⍋⍋⍵,⍺}"
   ]
  },
  {
   "cell_type": "code",
   "execution_count": 8,
   "metadata": {},
   "outputs": [
    {
     "data": {
      "text/html": [
       "<span style=\"white-space:pre; font-family: monospace\">3 8 11 4 10 11 11\n",
       "</span>"
      ]
     },
     "execution_count": 8,
     "metadata": {},
     "output_type": "execute_result"
    }
   ],
   "source": [
    "'DYALOG APL' pdi 'AAALLLB'"
   ]
  },
  {
   "cell_type": "markdown",
   "metadata": {},
   "source": [
    "## Keep non-duplicated major cells\n"
   ]
  },
  {
   "cell_type": "code",
   "execution_count": 15,
   "metadata": {},
   "outputs": [
    {
     "data": {
      "text/html": [
       "<span style=\"white-space:pre; font-family: monospace\">ghi\n",
       "</span>"
      ]
     },
     "execution_count": 15,
     "metadata": {},
     "output_type": "execute_result"
    }
   ],
   "source": [
    "(∪(⌿⍨)1=⊢∘≢⌸)'abcdghidcba'"
   ]
  },
  {
   "cell_type": "markdown",
   "metadata": {},
   "source": [
    "## Show all glyphs the interpreter recognises"
   ]
  },
  {
   "cell_type": "code",
   "execution_count": 16,
   "metadata": {},
   "outputs": [
    {
     "data": {
      "text/html": [
       "<span style=\"white-space:pre; font-family: monospace\">!&amp;*+,-./&lt;=&gt;?@\\^|~¨×÷←↑→↓∊∘∣∧∨∩∪≠≡≢≤≥⊂⊃⊆⊖⊢⊣⊤⊥⌈⌊⌶⌷⌸⌹⌺⌽⌿⍀⍉⍋⍎⍒⍕⍟⍠⍣⍤⍥⍨⍪⍬⍱⍲⍳⍴⍷⍸○\n",
       "</span>"
      ]
     },
     "execution_count": 16,
     "metadata": {},
     "output_type": "execute_result"
    }
   ],
   "source": [
    "a/⍨{'.'=⍵:1⋄0::0⋄⊃⌽19=4↑∊200⌶⎕NR ⎕FX'f'⍵}¨a←⎕ucs⍳1e4"
   ]
  },
  {
   "cell_type": "markdown",
   "metadata": {},
   "source": [
    "Better:"
   ]
  },
  {
   "cell_type": "code",
   "execution_count": 1,
   "metadata": {},
   "outputs": [
    {
     "data": {
      "text/html": [
       "<pre class=\"language-APL\">+-×÷⌈⌊*⍟|!○~∨∧⍱⍲&lt;≤=≥&gt;≠.@≡≢⍴,⍪⍳↑↓?⍒⍋⍉⌽⊖∊⊥⊤⍎⍕⌹⊂⊃∪∩⍷⌷∘→←⎕⍞/⌿\\⍀¨⍣&amp;⍨⌶#⊆⍥⊣⊢⍠⍤⌸⌺⍸()[];\n",
       "      ⍝⋄:⍬{}∇\n",
       "</pre>"
      ]
     },
     "execution_count": 1,
     "metadata": {},
     "output_type": "execute_result"
    }
   ],
   "source": [
    "⎕ucs 2031⌶6 "
   ]
  },
  {
   "cell_type": "markdown",
   "metadata": {},
   "source": [
    "Missing only `⍺⍵`."
   ]
  },
  {
   "cell_type": "markdown",
   "metadata": {},
   "source": [
    "## More on zip\n",
    "\n",
    "This is clever use of grade [APLCart](https://aplcart.info/?q=Merge%20X%20and%20Y%20alternately#)"
   ]
  },
  {
   "cell_type": "code",
   "execution_count": 17,
   "metadata": {},
   "outputs": [
    {
     "data": {
      "text/html": [
       "<span style=\"white-space:pre; font-family: monospace\">smhuocrht longer\n",
       "</span>"
      ]
     },
     "execution_count": 17,
     "metadata": {},
     "output_type": "execute_result"
    }
   ],
   "source": [
    "'short' {(⊂⍋∊⍳∘≢¨⍺ ⍵)⌷⍺⍪⍵} 'much longer' ⍝ Merge X and Y alternately"
   ]
  },
  {
   "cell_type": "markdown",
   "metadata": {},
   "source": [
    "## (Too) Simple APL grammar\n",
    "\n",
    "    atom ::= id | integer-literal | '(' expr ')'\n",
    "    obj  ::= atom | atom obj\n",
    "    fn   ::= atom | '{' expr '}' | obj mop | fn dop obj | obj dop obj\n",
    "    expr ::= obj | atom fn expr | fn expr"
   ]
  },
  {
   "cell_type": "markdown",
   "metadata": {},
   "source": [
    "## Identity matrix generator"
   ]
  },
  {
   "cell_type": "code",
   "execution_count": 1,
   "metadata": {},
   "outputs": [
    {
     "data": {
      "text/html": [
       "<span style=\"white-space:pre; font-family: monospace\">1 0 0 0\n",
       "0 1 0 0\n",
       "0 0 1 0\n",
       "0 0 0 1\n",
       "</span>"
      ]
     },
     "execution_count": 1,
     "metadata": {},
     "output_type": "execute_result"
    }
   ],
   "source": [
    "{⍵ ⍵⍴(1+⍵)↑1}4"
   ]
  },
  {
   "cell_type": "code",
   "execution_count": 2,
   "metadata": {},
   "outputs": [
    {
     "data": {
      "text/html": [
       "<span style=\"white-space:pre; font-family: monospace\">1 0 0 0\n",
       "0 1 0 0\n",
       "0 0 1 0\n",
       "0 0 0 1\n",
       "</span>"
      ]
     },
     "execution_count": 2,
     "metadata": {},
     "output_type": "execute_result"
    }
   ],
   "source": [
    "(,⍨⍴1↑⍨1∘+)4"
   ]
  },
  {
   "cell_type": "markdown",
   "metadata": {},
   "source": [
    "## Flood fill with stencil"
   ]
  },
  {
   "cell_type": "code",
   "execution_count": 1,
   "metadata": {},
   "outputs": [],
   "source": [
    "(××{1⊃⌈/⍵,⍉⍵}⌺3 3)⍣≡ ⍝ max-of-neighbours flood fill of non-zero cells"
   ]
  },
  {
   "cell_type": "markdown",
   "metadata": {},
   "source": [
    "## Dijkstra by @dzaima\n",
    "\n",
    "https://adventofcode.com/2021/day/15\n",
    "\n",
    "This is an implementation of Dijkstra's algorithm for a square grid of weights. Every node is connected to four of its neighbors. \n",
    "\n",
    "ll - flat vector of the costs; dirs - lists representing all neighbors for each item in ll; w - width (also height); sc - current \"score\" of a cell; c - the list of indices that need to be updated in the next step.\n",
    "\n",
    "(sc has a ≢llth element that's always the maximum value, and dirs references that for the things that'd otherwise go out-of-bounds)\n",
    "\n",
    "A similar solution in Python: https://github.com/hyper-neutrino/advent-of-code/blob/main/2021/day15p2.py"
   ]
  },
  {
   "cell_type": "code",
   "execution_count": 3,
   "metadata": {},
   "outputs": [],
   "source": [
    "⎕IO←0\n",
    "l←↑48-⍨⎕ucs¨⊃⎕NGET'../d/15'1\n",
    "ll w sc c dirs ← ⍬⍬⍬⍬⍬ "
   ]
  },
  {
   "cell_type": "code",
   "execution_count": 4,
   "metadata": {},
   "outputs": [],
   "source": [
    "]dinput\n",
    "init ← {\n",
    "    w⊢← ≢⍵                       ⍝ dimensions (maze is square)\n",
    "    ll⊢← ,⍵                      ⍝ flat vector of the costs\n",
    "    tl ← ≢ll\n",
    "    sc⊢← 0@0⊢ (1+tl) ⍴ 10×+/ll   ⍝ current \"score\" of a cell\n",
    "    c⊢← 1 w                      ⍝ list of indices that need to be updated in the next step. 1 and w\n",
    "                                 ⍝ are the two 4-connected neighbours of node 0.\n",
    "                                 \n",
    "    dirs⊢← ,¨ {(tl⍪⍨1↓⍵)(tl⍪¯1↓⍵)(tl,0 ¯1↓⍵)(tl,⍨0 1↓⍵)} w w⍴⍳tl ⍝ Build the neighbours map\n",
    "}"
   ]
  },
  {
   "cell_type": "code",
   "execution_count": 5,
   "metadata": {},
   "outputs": [],
   "source": [
    "]dinput\n",
    "step ← {                             ⍝ Dijkstra cheapest path\n",
    "    p ← sc[c]                        ⍝ previous score for each current cell\n",
    "    nd ← {⍵[c]}¨ dirs                ⍝ neighbor indexes\n",
    "    n ← ll[c] + ⊃⌊/ {sc[⍵]}¨ nd      ⍝ new best score for the cell: my current total plus the cheapest neighbor\n",
    "    m ← n<p                          ⍝ mask of improved scores\n",
    "    sc[m/c] ← m/n                    ⍝ update cell scores of improvers\n",
    "    c⊢← ∪ ⊃,/ {(m ∧ (≢ll)≠⍵)/⍵}¨ nd  ⍝ indices that need to be updated in the next step, removing dupes\n",
    "    c\n",
    "}"
   ]
  },
  {
   "cell_type": "code",
   "execution_count": 6,
   "metadata": {},
   "outputs": [
    {
     "data": {
      "text/html": [
       "<span style=\"white-space:pre; font-family: monospace\">537\n",
       "</span>"
      ]
     },
     "execution_count": 6,
     "metadata": {},
     "output_type": "execute_result"
    },
    {
     "data": {
      "text/html": [
       "<span style=\"white-space:pre; font-family: monospace\">2881\n",
       "</span>"
      ]
     },
     "execution_count": 6,
     "metadata": {},
     "output_type": "execute_result"
    }
   ],
   "source": [
    "init l\n",
    "_←step⍣{0=≢⍺} c\n",
    "1⊃⌽sc\n",
    "\n",
    "init 1+9|¯1+ ⊃⍪/,/(⊂l) + ⊃¨ +/¨⍳5 5\n",
    "_←step⍣{0=≢⍺} c\n",
    "1⊃⌽sc"
   ]
  },
  {
   "cell_type": "markdown",
   "metadata": {},
   "source": [
    "## Maze to connectivity vector (graph)"
   ]
  },
  {
   "cell_type": "code",
   "execution_count": 11,
   "metadata": {},
   "outputs": [
    {
     "data": {
      "text/html": [
       "<span style=\"white-space:pre; font-family: monospace\">0 0 0 0 0 0 0 0 0 0 0 0 0\n",
       "0 1 1 1 1 1 1 1 1 1 1 1 0\n",
       "0 0 0 1 0 1 0 1 0 1 0 0 0\n",
       "0 0 0 1 0 1 0 1 0 1 0 0 0\n",
       "0 0 0 0 0 0 0 0 0 0 0 0 0\n",
       "</span>"
      ]
     },
     "execution_count": 11,
     "metadata": {},
     "output_type": "execute_result"
    }
   ],
   "source": [
    "⎕IO←0\n",
    "'path'⎕CY'dfns'\n",
    "⊢m←(5 13⍴(14/0),(11/1),(4/0),1 0 1 0 1 0 1,(6/0),1 0 1 0 1 0 1,16/0)\n",
    "shifts←{(⍺,2⊣/⍵)(2⊢/⍵,⍺)(2⊢⌿⍵⍪⍺)(⍺⍪2⊣⌿⍵)} ⍝ LEFT RIGHT DOWN UP\n",
    "abspos←{⍺/(⊂⍵)+(0 ¯1)(0 1)(1 0)(¯1 0)}\n",
    "n4←2 0 1⍉↑0 shifts m"
   ]
  },
  {
   "cell_type": "code",
   "execution_count": 12,
   "metadata": {},
   "outputs": [
    {
     "data": {
      "text/html": [
       "<span style=\"white-space:pre; font-family: monospace\">┌─┬───┬──────┬───┬──────┬───┬──────┬───┬──────┬────┬─┬────┬────┬────┬────┬──┬──┬──┬──┐\n",
       "│1│0 2│1 3 11│2 4│3 5 12│4 6│5 7 13│6 8│7 9 14│8 10│9│15 2│16 4│17 6│18 8│11│12│13│14│\n",
       "└─┴───┴──────┴───┴──────┴───┴──────┴───┴──────┴────┴─┴────┴────┴────┴────┴──┴──┴──┴──┘\n",
       "</span>"
      ]
     },
     "execution_count": 12,
     "metadata": {},
     "output_type": "execute_result"
    }
   ],
   "source": [
    "nodes←⍸m\n",
    "vec←{(⍵⌷n4)abspos ⍵}¨nodes\n",
    "⊢graph←nodes∘⍳¨vec"
   ]
  },
  {
   "cell_type": "code",
   "execution_count": 14,
   "metadata": {},
   "outputs": [
    {
     "data": {
      "text/html": [
       "<span style=\"white-space:pre; font-family: monospace\">┌───┬───┬───┬───┬───┬───┬───┬───┬───┬───┬───┐\n",
       "│1 1│1 2│1 3│1 4│1 5│1 6│1 7│1 8│1 9│2 9│3 9│\n",
       "└───┴───┴───┴───┴───┴───┴───┴───┴───┴───┴───┘\n",
       "</span>"
      ]
     },
     "execution_count": 14,
     "metadata": {},
     "output_type": "execute_result"
    }
   ],
   "source": [
    "nodes[graph path 0 18]"
   ]
  },
  {
   "cell_type": "markdown",
   "metadata": {},
   "source": [
    "## Leap year\n",
    "\n",
    "Genius: https://codegolf.stackexchange.com/a/50805/94243"
   ]
  },
  {
   "cell_type": "code",
   "execution_count": 5,
   "metadata": {},
   "outputs": [
    {
     "data": {
      "text/html": [
       "<span style=\"white-space:pre; font-family: monospace\">1\n",
       "</span>"
      ]
     },
     "execution_count": 5,
     "metadata": {},
     "output_type": "execute_result"
    }
   ],
   "source": [
    "{~≥/⌽×4 25 4⊤⍵} 2000"
   ]
  },
  {
   "cell_type": "markdown",
   "metadata": {},
   "source": [
    "APL Cart offers the following:"
   ]
  },
  {
   "cell_type": "code",
   "execution_count": 6,
   "metadata": {},
   "outputs": [
    {
     "data": {
      "text/html": [
       "<span style=\"white-space:pre; font-family: monospace\">1\n",
       "</span>"
      ]
     },
     "execution_count": 6,
     "metadata": {},
     "output_type": "execute_result"
    }
   ],
   "source": [
    "(0≠.=400 100 4∘.|⊢)2000"
   ]
  },
  {
   "cell_type": "markdown",
   "metadata": {},
   "source": [
    "## Convert Boolean vector to string, without spaces"
   ]
  },
  {
   "cell_type": "code",
   "execution_count": 9,
   "metadata": {},
   "outputs": [
    {
     "data": {
      "text/html": [
       "<span style=\"white-space:pre; font-family: monospace\">01100101001101\n",
       "</span>"
      ]
     },
     "execution_count": 9,
     "metadata": {},
     "output_type": "execute_result"
    },
    {
     "data": {
      "text/html": [
       "<span style=\"white-space:pre; font-family: monospace\">01100101001101\n",
       "</span>"
      ]
     },
     "execution_count": 9,
     "metadata": {},
     "output_type": "execute_result"
    },
    {
     "data": {
      "text/html": [
       "<span style=\"white-space:pre; font-family: monospace\">1.1001E12\n",
       "</span>"
      ]
     },
     "execution_count": 9,
     "metadata": {},
     "output_type": "execute_result"
    }
   ],
   "source": [
    "⎕UCS 48+0 1 1 0 0 1 0 1 0 0 1 1 0 1  ⍝ Fastest\n",
    "∊⍕¨0 1 1 0 0 1 0 1 0 0 1 1 0 1       ⍝ Shortest\n",
    "⍕10⊥0 1 1 0 0 1 0 1 0 0 1 1 0 1      ⍝ Tempting, but will fail for longer strings due to numeric precision"
   ]
  },
  {
   "cell_type": "markdown",
   "metadata": {},
   "source": [
    "## Substring replace\n",
    "\n",
    "Here's a dyadic operator deriving a monadic function that replaces each occurrence of a substring with a replacement string, returning all intermediate states:"
   ]
  },
  {
   "cell_type": "code",
   "execution_count": 12,
   "metadata": {},
   "outputs": [],
   "source": [
    "⎕IO←0\n",
    "_ss_←{⍵⍵∘(⍺⍺{(⍵↑⍵⍵),⍺,(⍵⍵↓⍨⍵+≢⍺⍺)}⍵)¨⍸⍺⍺⍷⍵}"
   ]
  },
  {
   "cell_type": "code",
   "execution_count": 14,
   "metadata": {},
   "outputs": [
    {
     "data": {
      "text/html": [
       "<span style=\"white-space:pre; font-family: monospace\">┌─────────┬─────────┬─────────┐\n",
       "│ABC ab ab│ab ABC ab│ab ab ABC│\n",
       "└─────────┴─────────┴─────────┘\n",
       "</span>"
      ]
     },
     "execution_count": 14,
     "metadata": {},
     "output_type": "execute_result"
    }
   ],
   "source": [
    "('ab' _ss_ 'ABC')'ab ab ab'"
   ]
  },
  {
   "cell_type": "markdown",
   "metadata": {},
   "source": [
    "## Power scan\n",
    "\n",
    "In k you can do\n",
    "\n",
    "```\n",
    " {_x%2}\\32\n",
    "\n",
    "32 16 8 4 2 1 0\n",
    "```\n",
    "but in APL we have to resort to"
   ]
  },
  {
   "cell_type": "code",
   "execution_count": 15,
   "metadata": {},
   "outputs": [
    {
     "data": {
      "text/html": [
       "<span style=\"white-space:pre; font-family: monospace\">32 16 8 4 2 1 0\n",
       "</span>"
      ]
     },
     "execution_count": 15,
     "metadata": {},
     "output_type": "execute_result"
    }
   ],
   "source": [
    "{⌊⍵÷2}{⍺←⊢ ⋄ r⊣⍺ ⍺⍺{⍺←⊢ ⋄ r,∘⊂←⍺ ⍺⍺ ⍵}⍣⍵⍵⊃r←⊂⍵}{⍺=0}32"
   ]
  },
  {
   "cell_type": "markdown",
   "metadata": {},
   "source": [
    "## Longest palindromic substring\n",
    "\n",
    "This is Mannacher's algorithm, at O(n). Very clever, and fast."
   ]
  },
  {
   "cell_type": "code",
   "execution_count": 18,
   "metadata": {},
   "outputs": [],
   "source": [
    "∇ res←manacher str;S;c;r;radii;i;ir\n",
    "c r radii←0 0 (0↑⍨≢S←'|',∊'|',⍨⍪str)\n",
    "\n",
    ":for i :in ⍳≢S\n",
    "    radii[i]←{r>i:radii[(2×c)-i]⌊r-i⋄0}⍬\n",
    "    :trap 3 ⍝ Catch index errors if the below goes out of bounds\n",
    "        :while =/S[i(+,-)1+i⊃radii]\n",
    "            radii[i]+←1\n",
    "        :endwhile\n",
    "    :endtrap\n",
    "    :if r<ir←i+i⊃radii\n",
    "        c r←i ir\n",
    "    :endif\n",
    ":endfor\n",
    "\n",
    "c←radii⍳r←⌈/radii\n",
    "res←S[c(+(⊢+∘⍳1+-)-)r]~'|'\n",
    "∇"
   ]
  },
  {
   "cell_type": "markdown",
   "metadata": {},
   "source": [
    "## Median"
   ]
  },
  {
   "cell_type": "code",
   "execution_count": 19,
   "metadata": {},
   "outputs": [
    {
     "data": {
      "text/html": [
       "<span style=\"white-space:pre; font-family: monospace\">6.5\n",
       "</span>"
      ]
     },
     "execution_count": 19,
     "metadata": {},
     "output_type": "execute_result"
    }
   ],
   "source": [
    "{2÷⍨+⌿⍵[(⍋⍵)[⌈2÷⍨0 1+≢⍵]]} 1 8 5 2 3 9"
   ]
  },
  {
   "cell_type": "markdown",
   "metadata": {},
   "source": [
    "## Set first and last element of a boolean vector to 1"
   ]
  },
  {
   "cell_type": "code",
   "execution_count": 2,
   "metadata": {},
   "outputs": [
    {
     "data": {
      "text/html": [
       "<span style=\"white-space:pre; font-family: monospace\">1 1 0 1 1 0 1 0 1\n",
       "</span>"
      ]
     },
     "execution_count": 2,
     "metadata": {},
     "output_type": "execute_result"
    },
    {
     "data": {
      "text/html": [
       "<span style=\"white-space:pre; font-family: monospace\">1 1 0 1 1 0 1 0 1\n",
       "</span>"
      ]
     },
     "execution_count": 2,
     "metadata": {},
     "output_type": "execute_result"
    },
    {
     "data": {
      "text/html": [
       "<span style=\"white-space:pre; font-family: monospace\">1 1 0 1 1 0 1 0 1\n",
       "</span>"
      ]
     },
     "execution_count": 2,
     "metadata": {},
     "output_type": "execute_result"
    },
    {
     "data": {
      "text/html": [
       "<span style=\"white-space:pre; font-family: monospace\">\n",
       "</span>"
      ]
     },
     "execution_count": 2,
     "metadata": {},
     "output_type": "execute_result"
    },
    {
     "data": {
      "text/html": [
       "<span style=\"white-space:pre; font-family: monospace\">1 1 0 1 1 0 1 0 1\n",
       "</span>"
      ]
     },
     "execution_count": 2,
     "metadata": {},
     "output_type": "execute_result"
    },
    {
     "data": {
      "text/html": [
       "<span style=\"white-space:pre; font-family: monospace\">1 1 0 1 1 0 1 0 1\n",
       "</span>"
      ]
     },
     "execution_count": 2,
     "metadata": {},
     "output_type": "execute_result"
    },
    {
     "data": {
      "text/html": [
       "<span style=\"white-space:pre; font-family: monospace\">1 1 0 1 1 0 1 0 1\n",
       "</span>"
      ]
     },
     "execution_count": 2,
     "metadata": {},
     "output_type": "execute_result"
    },
    {
     "data": {
      "text/html": [
       "<span style=\"white-space:pre; font-family: monospace\">0 1 0 1 1 0 1 0 1\n",
       "</span>"
      ]
     },
     "execution_count": 2,
     "metadata": {},
     "output_type": "execute_result"
    }
   ],
   "source": [
    "⎕IO←0\n",
    "v←0 1 0 1 1 0 1 0 1\n",
    "1@0⍤⌽⍣2⊢v\n",
    "\n",
    "v←0 1 0 1 1 0 1 0 1\n",
    "(2↑¯1⌽v)←1              ⍝ Mutating\n",
    "v\n",
    "\n",
    "v←1 1 0 1 1 0 1 0 0\n",
    "(⍷⍨∨⌽)⍣2⊢v              \n",
    "(⍷⍨∨⌽)⍣2⊢⍬     ⍝ Note: this also works for empty array\n",
    "\n",
    "(⊢∨∨∘⌽⍨⍤⍷⍨)v\n",
    "\n",
    "(⍷∨⊢∨⌽⍤⍷)⍨v\n",
    "\n",
    "(⍷⍨∨⊢∨⌽⍤⍷⍨)v\n",
    "\n",
    "\n",
    "⍝ Set last only\n",
    "v←0 1 0 1 1 0 1 0 0\n",
    "⌽1@0⊢⌽v"
   ]
  },
  {
   "cell_type": "markdown",
   "metadata": {},
   "source": [
    "## Turn off first 1 in Boolean vector"
   ]
  },
  {
   "cell_type": "code",
   "execution_count": 3,
   "metadata": {},
   "outputs": [
    {
     "data": {
      "text/html": [
       "<span style=\"white-space:pre; font-family: monospace\">0 0 0 0 0 0 1 0 1\n",
       "</span>"
      ]
     },
     "execution_count": 3,
     "metadata": {},
     "output_type": "execute_result"
    }
   ],
   "source": [
    "(⊢><\\)0 0 0 1 0 0 1 0 1"
   ]
  },
  {
   "cell_type": "markdown",
   "metadata": {},
   "source": [
    "## Split number into integer and fractional parts"
   ]
  },
  {
   "cell_type": "code",
   "execution_count": 1,
   "metadata": {},
   "outputs": [
    {
     "data": {
      "text/html": [
       "<span style=\"white-space:pre; font-family: monospace\">\n",
       "Rebuilding user command cache... \n",
       "done\n",
       "</span>"
      ]
     },
     "execution_count": 1,
     "metadata": {},
     "output_type": "execute_result"
    },
    {
     "data": {
      "text/html": [
       "<span style=\"white-space:pre; font-family: monospace\">1 0.234\n",
       "</span>"
      ]
     },
     "execution_count": 1,
     "metadata": {},
     "output_type": "execute_result"
    }
   ],
   "source": [
    "0 1⊤1.234"
   ]
  },
  {
   "cell_type": "markdown",
   "metadata": {},
   "source": [
    "## Partition on inverse where\n",
    "This is pretty awesome:"
   ]
  },
  {
   "cell_type": "code",
   "execution_count": 7,
   "metadata": {},
   "outputs": [
    {
     "data": {
      "text/html": [
       "<span style=\"white-space:pre; font-family: monospace\">┌───┬─┬───────┐\n",
       "│Ken│E│Iverson│\n",
       "└───┴─┴───────┘\n",
       "</span>"
      ]
     },
     "execution_count": 7,
     "metadata": {},
     "output_type": "execute_result"
    }
   ],
   "source": [
    "⎕IO←0\n",
    "(⍸⍣¯1⊢0 3 4)⊂'KenEIverson'"
   ]
  },
  {
   "cell_type": "markdown",
   "metadata": {},
   "source": [
    "## Longest unbroken sequence of 1s in a boolean vector\n",
    "\n",
    "https://aplcart.info/?q=lengths%20runs%201s#"
   ]
  },
  {
   "cell_type": "code",
   "execution_count": 3,
   "metadata": {},
   "outputs": [
    {
     "data": {
      "text/html": [
       "<span style=\"white-space:pre; font-family: monospace\">4\n",
       "</span>"
      ]
     },
     "execution_count": 3,
     "metadata": {},
     "output_type": "execute_result"
    },
    {
     "data": {
      "text/html": [
       "<span style=\"white-space:pre; font-family: monospace\">4\n",
       "</span>"
      ]
     },
     "execution_count": 3,
     "metadata": {},
     "output_type": "execute_result"
    },
    {
     "data": {
      "text/html": [
       "<span style=\"white-space:pre; font-family: monospace\">4\n",
       "</span>"
      ]
     },
     "execution_count": 3,
     "metadata": {},
     "output_type": "execute_result"
    }
   ],
   "source": [
    "(⌈/¯1-2-/∘⍸1,1,⍨~) 1 1 1 0 0 1 1 1 1 0 0 1 1 0 1 1           ⍝ Flat, fast, but complex\n",
    "(⌈/≢¨⍤⊆⍨) 1 1 1 0 0 1 1 1 1 0 0 1 1 0 1 1                    ⍝ Nested, VERY slow, but clear\n",
    "{¯1-(⊃i)⌊⌊/2-/i←(⍸~⍵),1+≢⍵} 1 1 1 0 0 1 1 1 1 0 0 1 1 0 1 1  ⍝ Flat, fastest"
   ]
  },
  {
   "cell_type": "markdown",
   "metadata": {},
   "source": [
    "## Modulo exponentiation\n",
    "\n",
    "Via APLCart:"
   ]
  },
  {
   "cell_type": "code",
   "execution_count": 4,
   "metadata": {},
   "outputs": [
    {
     "data": {
      "text/html": [
       "<span style=\"white-space:pre; font-family: monospace\">290176\n",
       "</span>"
      ]
     },
     "execution_count": 4,
     "metadata": {},
     "output_type": "execute_result"
    }
   ],
   "source": [
    "2 (1000000{⍺⍺{⍺⍺|⍺×⍺⍺|×⍨⍵}⌿⍺*⍤1⊖0⍪2⊥⍣¯1⊢⍵}) 480 ⍝ 1E6|2*480"
   ]
  },
  {
   "cell_type": "markdown",
   "metadata": {},
   "source": [
    "## CSV hacks\n",
    "\n",
    "Convert a string to an APL vector, converting any numbers. The data description column given as 'S' for Simple. Default is 'N' for Nested."
   ]
  },
  {
   "cell_type": "code",
   "execution_count": 23,
   "metadata": {},
   "outputs": [
    {
     "data": {
      "text/html": [
       "<span style=\"white-space:pre; font-family: monospace\">┌──┬─────┬──┬─────┬──┬───┐\n",
       "│23│¯76.2│87│hello│¯1│0.6│\n",
       "└──┴─────┴──┴─────┴──┴───┘\n",
       "</span>"
      ]
     },
     "execution_count": 23,
     "metadata": {},
     "output_type": "execute_result"
    }
   ],
   "source": [
    "{(,⎕CSV⍠'Separator' ' ') ⍵ 'S' 4} '23 -76.2 87 \"hello\" -1 0.6'"
   ]
  },
  {
   "cell_type": "markdown",
   "metadata": {},
   "source": [
    "Read a file containing one number per line into an APL vector:"
   ]
  },
  {
   "cell_type": "code",
   "execution_count": 1,
   "metadata": {},
   "outputs": [
    {
     "data": {
      "text/html": [
       "<pre class=\"language-APL\">123 ¯34 3.1415 54 76\n",
       "</pre>"
      ]
     },
     "execution_count": 1,
     "metadata": {},
     "output_type": "execute_result"
    }
   ],
   "source": [
    "{,⎕CSV ⍵ ⍬ 2} 'data/nums.txt'"
   ]
  },
  {
   "cell_type": "markdown",
   "metadata": {},
   "source": [
    "Read a spread-sheety CSV-file, converting numbers:"
   ]
  },
  {
   "cell_type": "code",
   "execution_count": 24,
   "metadata": {},
   "outputs": [
    {
     "data": {
      "text/html": [
       "<span style=\"white-space:pre; font-family: monospace\">┌───┬───────────────────────────────────────────────────────────────────────────────────────────────┬──────────────────┬─────┬────────┬───────┬─────┬─────────────────────┬──────────────────────────────┬────┐\n",
       "│1  │Eldon Base for stackable storage shelf, platinum                                               │Muhammed MacIntyre│3    │¯213.25 │38.94  │35   │Nunavut              │Storage &amp; Organization        │0.8 │\n",
       "├───┼───────────────────────────────────────────────────────────────────────────────────────────────┼──────────────────┼─────┼────────┼───────┼─────┼─────────────────────┼──────────────────────────────┼────┤\n",
       "│2  │1.7 Cubic Foot Compact \"Cube\" Office Refrigerators                                             │Barry French      │293  │457.81  │208.16 │68.02│Nunavut              │Appliances                    │0.58│\n",
       "├───┼───────────────────────────────────────────────────────────────────────────────────────────────┼──────────────────┼─────┼────────┼───────┼─────┼─────────────────────┼──────────────────────────────┼────┤\n",
       "│3  │Cardinal Slant-D® Ring Binder, Heavy Gauge Vinyl                                               │Barry French      │293  │46.71   │8.69   │2.99 │Nunavut              │Binders and Binder Accessories│0.39│\n",
       "├───┼───────────────────────────────────────────────────────────────────────────────────────────────┼──────────────────┼─────┼────────┼───────┼─────┼─────────────────────┼──────────────────────────────┼────┤\n",
       "│4  │R380                                                                                           │Clay Rozendal     │483  │1198.97 │195.99 │3.99 │Nunavut              │Telephones and Communication  │0.58│\n",
       "├───┼───────────────────────────────────────────────────────────────────────────────────────────────┼──────────────────┼─────┼────────┼───────┼─────┼─────────────────────┼──────────────────────────────┼────┤\n",
       "│5  │Holmes HEPA Air Purifier                                                                       │Carlos Soltero    │515  │30.94   │21.78  │5.94 │Nunavut              │Appliances                    │0.5 │\n",
       "├───┼───────────────────────────────────────────────────────────────────────────────────────────────┼──────────────────┼─────┼────────┼───────┼─────┼─────────────────────┼──────────────────────────────┼────┤\n",
       "│6  │G.E. Longer-Life Indoor Recessed Floodlight Bulbs                                              │Carlos Soltero    │515  │4.43    │6.64   │4.95 │Nunavut              │Office Furnishings            │0.37│\n",
       "├───┼───────────────────────────────────────────────────────────────────────────────────────────────┼──────────────────┼─────┼────────┼───────┼─────┼─────────────────────┼──────────────────────────────┼────┤\n",
       "│7  │Angle-D Binders with Locking Rings, Label Holders                                              │Carl Jackson      │613  │¯54.04  │7.3    │7.72 │Nunavut              │Binders and Binder Accessories│0.38│\n",
       "├───┼───────────────────────────────────────────────────────────────────────────────────────────────┼──────────────────┼─────┼────────┼───────┼─────┼─────────────────────┼──────────────────────────────┼────┤\n",
       "│8  │SAFCO Mobile Desk Side File, Wire Frame                                                        │Carl Jackson      │613  │127.7   │42.76  │6.22 │Nunavut              │Storage &amp; Organization        │    │\n",
       "├───┼───────────────────────────────────────────────────────────────────────────────────────────────┼──────────────────┼─────┼────────┼───────┼─────┼─────────────────────┼──────────────────────────────┼────┤\n",
       "│9  │SAFCO Commercial Wire Shelving, Black                                                          │Monica Federle    │643  │¯695.26 │138.14 │35   │Nunavut              │Storage &amp; Organization        │    │\n",
       "├───┼───────────────────────────────────────────────────────────────────────────────────────────────┼──────────────────┼─────┼────────┼───────┼─────┼─────────────────────┼──────────────────────────────┼────┤\n",
       "│10 │Xerox 198                                                                                      │Dorothy Badders   │678  │¯226.36 │4.98   │8.33 │Nunavut              │Paper                         │0.38│\n",
       "├───┼───────────────────────────────────────────────────────────────────────────────────────────────┼──────────────────┼─────┼────────┼───────┼─────┼─────────────────────┼──────────────────────────────┼────┤\n",
       "│11 │Xerox 1980                                                                                     │Neola Schneider   │807  │¯166.85 │4.28   │6.18 │Nunavut              │Paper                         │0.4 │\n",
       "├───┼───────────────────────────────────────────────────────────────────────────────────────────────┼──────────────────┼─────┼────────┼───────┼─────┼─────────────────────┼──────────────────────────────┼────┤\n",
       "│12 │Advantus Map Pennant Flags and Round Head Tacks                                                │Neola Schneider   │807  │¯14.33  │3.95   │2    │Nunavut              │Rubber Bands                  │0.53│\n",
       "├───┼───────────────────────────────────────────────────────────────────────────────────────────────┼──────────────────┼─────┼────────┼───────┼─────┼─────────────────────┼──────────────────────────────┼────┤\n",
       "│13 │Holmes HEPA Air Purifier                                                                       │Carlos Daly       │868  │134.72  │21.78  │5.94 │Nunavut              │Appliances                    │0.5 │\n",
       "├───┼───────────────────────────────────────────────────────────────────────────────────────────────┼──────────────────┼─────┼────────┼───────┼─────┼─────────────────────┼──────────────────────────────┼────┤\n",
       "│14 │DS/HD IBM Formatted Diskettes, 200/Pack - Staples                                              │Carlos Daly       │868  │114.46  │47.98  │3.61 │Nunavut              │Computer Peripherals          │0.71│\n",
       "├───┼───────────────────────────────────────────────────────────────────────────────────────────────┼──────────────────┼─────┼────────┼───────┼─────┼─────────────────────┼──────────────────────────────┼────┤\n",
       "│15 │Wilson Jones 1\" Hanging DublLock® Ring Binders                                                 │Claudia Miner     │933  │¯4.72   │5.28   │2.99 │Nunavut              │Binders and Binder Accessories│0.37│\n",
       "├───┼───────────────────────────────────────────────────────────────────────────────────────────────┼──────────────────┼─────┼────────┼───────┼─────┼─────────────────────┼──────────────────────────────┼────┤\n",
       "│16 │Ultra Commercial Grade Dual Valve Door Closer                                                  │Neola Schneider   │995  │782.91  │39.89  │3.04 │Nunavut              │Office Furnishings            │0.53│\n",
       "├───┼───────────────────────────────────────────────────────────────────────────────────────────────┼──────────────────┼─────┼────────┼───────┼─────┼─────────────────────┼──────────────────────────────┼────┤\n",
       "│17 │#10-4 1/8\" x 9 1/2\" Premium Diagonal Seam Envelopes                                            │Allen Rosenblatt  │998  │93.8    │15.74  │1.39 │Nunavut              │Envelopes                     │0.4 │\n",
       "├───┼───────────────────────────────────────────────────────────────────────────────────────────────┼──────────────────┼─────┼────────┼───────┼─────┼─────────────────────┼──────────────────────────────┼────┤\n",
       "│18 │Hon 4-Shelf Metal Bookcases                                                                    │Sylvia Foulston   │1154 │440.72  │100.98 │26.22│Nunavut              │Bookcases                     │0.6 │\n",
       "├───┼───────────────────────────────────────────────────────────────────────────────────────────────┼──────────────────┼─────┼────────┼───────┼─────┼─────────────────────┼──────────────────────────────┼────┤\n",
       "│19 │Lesro Sheffield Collection Coffee Table, End Table, Center Table, Corner Table                 │Sylvia Foulston   │1154 │¯481.04 │71.37  │69   │Nunavut              │Tables                        │0.68│\n",
       "├───┼───────────────────────────────────────────────────────────────────────────────────────────────┼──────────────────┼─────┼────────┼───────┼─────┼─────────────────────┼──────────────────────────────┼────┤\n",
       "│20 │g520                                                                                           │Jim Radford       │1344 │¯11.68  │65.99  │5.26 │Nunavut              │Telephones and Communication  │0.59│\n",
       "├───┼───────────────────────────────────────────────────────────────────────────────────────────────┼──────────────────┼─────┼────────┼───────┼─────┼─────────────────────┼──────────────────────────────┼────┤\n",
       "│21 │LX 788                                                                                         │Jim Radford       │1344 │313.58  │155.99 │8.99 │Nunavut              │Telephones and Communication  │0.58│\n",
       "├───┼───────────────────────────────────────────────────────────────────────────────────────────────┼──────────────────┼─────┼────────┼───────┼─────┼─────────────────────┼──────────────────────────────┼────┤\n",
       "│22 │Avery 52                                                                                       │Carlos Soltero    │1412 │26.92   │3.69   │0.5  │Nunavut              │Labels                        │0.38│\n",
       "├───┼───────────────────────────────────────────────────────────────────────────────────────────────┼──────────────────┼─────┼────────┼───────┼─────┼─────────────────────┼──────────────────────────────┼────┤\n",
       "│23 │Plymouth Boxed Rubber Bands by Plymouth                                                        │Carlos Soltero    │1412 │¯5.77   │4.71   │0.7  │Nunavut              │Rubber Bands                  │0.8 │\n",
       "├───┼───────────────────────────────────────────────────────────────────────────────────────────────┼──────────────────┼─────┼────────┼───────┼─────┼─────────────────────┼──────────────────────────────┼────┤\n",
       "│24 │GBC Pre-Punched Binding Paper, Plastic, White, 8-1/2\" x 11\"                                    │Carl Ludwig       │1539 │¯172.88 │15.99  │13.18│Nunavut              │Binders and Binder Accessories│0.37│\n",
       "├───┼───────────────────────────────────────────────────────────────────────────────────────────────┼──────────────────┼─────┼────────┼───────┼─────┼─────────────────────┼──────────────────────────────┼────┤\n",
       "│25 │Maxell 3.5\" DS/HD IBM-Formatted Diskettes, 10/Pack                                             │Carl Ludwig       │1539 │¯144.55 │4.89   │4.93 │Nunavut              │Computer Peripherals          │0.66│\n",
       "├───┼───────────────────────────────────────────────────────────────────────────────────────────────┼──────────────────┼─────┼────────┼───────┼─────┼─────────────────────┼──────────────────────────────┼────┤\n",
       "│26 │Newell 335                                                                                     │Don Miller        │1540 │5.76    │2.88   │0.7  │Nunavut              │Pens &amp; Art Supplies           │0.56│\n",
       "├───┼───────────────────────────────────────────────────────────────────────────────────────────────┼──────────────────┼─────┼────────┼───────┼─────┼─────────────────────┼──────────────────────────────┼────┤\n",
       "│27 │SANFORD Liquid Accent™ Tank-Style Highlighters                                                 │Annie Cyprus      │1702 │4.9     │2.84   │0.93 │Nunavut              │Pens &amp; Art Supplies           │0.54│\n",
       "├───┼───────────────────────────────────────────────────────────────────────────────────────────────┼──────────────────┼─────┼────────┼───────┼─────┼─────────────────────┼──────────────────────────────┼────┤\n",
       "│28 │Canon PC940 Copier                                                                             │Carl Ludwig       │1761 │¯547.61 │449.99 │49   │Nunavut              │Copiers and Fax               │0.38│\n",
       "├───┼───────────────────────────────────────────────────────────────────────────────────────────────┼──────────────────┼─────┼────────┼───────┼─────┼─────────────────────┼──────────────────────────────┼────┤\n",
       "│29 │Tenex Personal Project File with Scoop Front Design, Black                                     │Carlos Soltero    │1792 │¯5.45   │13.48  │4.51 │Nunavut              │Storage &amp; Organization        │0.59│\n",
       "├───┼───────────────────────────────────────────────────────────────────────────────────────────────┼──────────────────┼─────┼────────┼───────┼─────┼─────────────────────┼──────────────────────────────┼────┤\n",
       "│30 │Col-Erase® Pencils with Erasers                                                                │Grant Carroll     │2275 │41.67   │6.08   │1.17 │Nunavut              │Pens &amp; Art Supplies           │0.56│\n",
       "├───┼───────────────────────────────────────────────────────────────────────────────────────────────┼──────────────────┼─────┼────────┼───────┼─────┼─────────────────────┼──────────────────────────────┼────┤\n",
       "│31 │Imation 3.5\" DS/HD IBM Formatted Diskettes, 10/Pack                                            │Don Miller        │2277 │¯46.03  │5.98   │4.38 │Nunavut              │Computer Peripherals          │0.75│\n",
       "├───┼───────────────────────────────────────────────────────────────────────────────────────────────┼──────────────────┼─────┼────────┼───────┼─────┼─────────────────────┼──────────────────────────────┼────┤\n",
       "│32 │White Dual Perf Computer Printout Paper, 2700 Sheets, 1 Part, Heavyweight, 20 lbs., 14 7/8 x 11│Don Miller        │2277 │33.67   │40.99  │19.99│Nunavut              │Paper                         │0.36│\n",
       "├───┼───────────────────────────────────────────────────────────────────────────────────────────────┼──────────────────┼─────┼────────┼───────┼─────┼─────────────────────┼──────────────────────────────┼────┤\n",
       "│33 │Self-Adhesive Address Labels for Typewriters by Universal                                      │Alan Barnes       │2532 │140.01  │7.31   │0.49 │Nunavut              │Labels                        │0.38│\n",
       "├───┼───────────────────────────────────────────────────────────────────────────────────────────────┼──────────────────┼─────┼────────┼───────┼─────┼─────────────────────┼──────────────────────────────┼────┤\n",
       "│34 │Accessory37                                                                                    │Alan Barnes       │2532 │¯78.96  │20.99  │2.5  │Nunavut              │Telephones and Communication  │0.81│\n",
       "├───┼───────────────────────────────────────────────────────────────────────────────────────────────┼──────────────────┼─────┼────────┼───────┼─────┼─────────────────────┼──────────────────────────────┼────┤\n",
       "│35 │Fuji 5.2GB DVD-RAM                                                                             │Jack Garza        │2631 │252.66  │40.96  │1.99 │Nunavut              │Computer Peripherals          │0.55│\n",
       "├───┼───────────────────────────────────────────────────────────────────────────────────────────────┼──────────────────┼─────┼────────┼───────┼─────┼─────────────────────┼──────────────────────────────┼────┤\n",
       "│36 │Bevis Steel Folding Chairs                                                                     │Julia West        │2757 │¯1766.01│95.95  │74.35│Nunavut              │Chairs &amp; Chairmats            │0.57│\n",
       "├───┼───────────────────────────────────────────────────────────────────────────────────────────────┼──────────────────┼─────┼────────┼───────┼─────┼─────────────────────┼──────────────────────────────┼────┤\n",
       "│37 │Avery Binder Labels                                                                            │Eugene Barchas    │2791 │¯236.27 │3.89   │7.01 │Nunavut              │Binders and Binder Accessories│0.37│\n",
       "├───┼───────────────────────────────────────────────────────────────────────────────────────────────┼──────────────────┼─────┼────────┼───────┼─────┼─────────────────────┼──────────────────────────────┼────┤\n",
       "│38 │Hon Every-Day® Chair Series Swivel Task Chairs                                                 │Eugene Barchas    │2791 │80.44   │120.98 │30   │Nunavut              │Chairs &amp; Chairmats            │0.64│\n",
       "├───┼───────────────────────────────────────────────────────────────────────────────────────────────┼──────────────────┼─────┼────────┼───────┼─────┼─────────────────────┼──────────────────────────────┼────┤\n",
       "│39 │IBM Multi-Purpose Copy Paper, 8 1/2 x 11\", Case                                                │Eugene Barchas    │2791 │118.94  │30.98  │5.76 │Nunavut              │Paper                         │0.4 │\n",
       "├───┼───────────────────────────────────────────────────────────────────────────────────────────────┼──────────────────┼─────┼────────┼───────┼─────┼─────────────────────┼──────────────────────────────┼────┤\n",
       "│40 │Global Troy™ Executive Leather Low-Back Tilter                                                 │Edward Hooks      │2976 │3424.22 │500.98 │26   │Nunavut              │Chairs &amp; Chairmats            │0.6 │\n",
       "├───┼───────────────────────────────────────────────────────────────────────────────────────────────┼──────────────────┼─────┼────────┼───────┼─────┼─────────────────────┼──────────────────────────────┼────┤\n",
       "│41 │XtraLife® ClearVue™ Slant-D® Ring Binders by Cardinal                                          │Brad Eason        │3232 │¯11.83  │7.84   │4.71 │Nunavut              │Binders and Binder Accessories│0.35│\n",
       "├───┼───────────────────────────────────────────────────────────────────────────────────────────────┼──────────────────┼─────┼────────┼───────┼─────┼─────────────────────┼──────────────────────────────┼────┤\n",
       "│42 │Computer Printout Paper with Letter-Trim Perforations                                          │Nicole Hansen     │3524 │52.35   │18.97  │9.03 │Nunavut              │Paper                         │0.37│\n",
       "├───┼───────────────────────────────────────────────────────────────────────────────────────────────┼──────────────────┼─────┼────────┼───────┼─────┼─────────────────────┼──────────────────────────────┼────┤\n",
       "│43 │6160                                                                                           │Dorothy Wardle    │3908 │¯180.2  │115.99 │2.5  │Nunavut              │Telephones and Communication  │0.57│\n",
       "├───┼───────────────────────────────────────────────────────────────────────────────────────────────┼──────────────────┼─────┼────────┼───────┼─────┼─────────────────────┼──────────────────────────────┼────┤\n",
       "│44 │Avery 49                                                                                       │Aaron Bergman     │4132 │1.32    │2.88   │0.5  │Nunavut              │Labels                        │0.36│\n",
       "├───┼───────────────────────────────────────────────────────────────────────────────────────────────┼──────────────────┼─────┼────────┼───────┼─────┼─────────────────────┼──────────────────────────────┼────┤\n",
       "│45 │Hoover Portapower™ Portable Vacuum                                                             │Jim Radford       │4612 │¯375.64 │4.48   │49   │Nunavut              │Appliances                    │0.6 │\n",
       "├───┼───────────────────────────────────────────────────────────────────────────────────────────────┼──────────────────┼─────┼────────┼───────┼─────┼─────────────────────┼──────────────────────────────┼────┤\n",
       "│46 │Timeport L7089                                                                                 │Annie Cyprus      │4676 │¯104.25 │125.99 │7.69 │Nunavut              │Telephones and Communication  │0.58│\n",
       "├───┼───────────────────────────────────────────────────────────────────────────────────────────────┼──────────────────┼─────┼────────┼───────┼─────┼─────────────────────┼──────────────────────────────┼────┤\n",
       "│47 │Avery 510                                                                                      │Annie Cyprus      │4676 │85.96   │3.75   │0.5  │Nunavut              │Labels                        │0.37│\n",
       "├───┼───────────────────────────────────────────────────────────────────────────────────────────────┼──────────────────┼─────┼────────┼───────┼─────┼─────────────────────┼──────────────────────────────┼────┤\n",
       "│48 │Xerox 1881                                                                                     │Annie Cyprus      │4676 │¯8.38   │12.28  │6.47 │Nunavut              │Paper                         │0.38│\n",
       "├───┼───────────────────────────────────────────────────────────────────────────────────────────────┼──────────────────┼─────┼────────┼───────┼─────┼─────────────────────┼──────────────────────────────┼────┤\n",
       "│49 │LX 788                                                                                         │Annie Cyprus      │4676 │1115.69 │155.99 │8.99 │Nunavut              │Telephones and Communication  │0.58│\n",
       "├───┼───────────────────────────────────────────────────────────────────────────────────────────────┼──────────────────┼─────┼────────┼───────┼─────┼─────────────────────┼──────────────────────────────┼────┤\n",
       "│50 │Cardinal Slant-D® Ring Binder, Heavy Gauge Vinyl                                               │Annie Cyprus      │5284 │¯3.05   │8.69   │2.99 │Nunavut              │Binders and Binder Accessories│0.39│\n",
       "├───┼───────────────────────────────────────────────────────────────────────────────────────────────┼──────────────────┼─────┼────────┼───────┼─────┼─────────────────────┼──────────────────────────────┼────┤\n",
       "│51 │Memorex 4.7GB DVD-RAM, 3/Pack                                                                  │Clay Rozendal     │5316 │514.07  │31.78  │1.99 │Nunavut              │Computer Peripherals          │0.42│\n",
       "├───┼───────────────────────────────────────────────────────────────────────────────────────────────┼──────────────────┼─────┼────────┼───────┼─────┼─────────────────────┼──────────────────────────────┼────┤\n",
       "│52 │Unpadded Memo Slips                                                                            │Don Jones         │5409 │¯7.04   │3.98   │2.97 │Nunavut              │Paper                         │0.35│\n",
       "├───┼───────────────────────────────────────────────────────────────────────────────────────────────┼──────────────────┼─────┼────────┼───────┼─────┼─────────────────────┼──────────────────────────────┼────┤\n",
       "│53 │Adams Telephone Message Book W/Dividers/Space For Phone Numbers, 5 1/4\"X8 1/2\", 300/Messages   │Beth Thompson     │5506 │4.41    │5.88   │3.04 │Nunavut              │Paper                         │0.36│\n",
       "├───┼───────────────────────────────────────────────────────────────────────────────────────────────┼──────────────────┼─────┼────────┼───────┼─────┼─────────────────────┼──────────────────────────────┼────┤\n",
       "│54 │Eldon Expressions™ Desk Accessory, Wood Pencil Holder, Oak                                     │Frank Price       │5569 │¯0.06   │9.65   │6.22 │Nunavut              │Office Furnishings            │0.55│\n",
       "├───┼───────────────────────────────────────────────────────────────────────────────────────────────┼──────────────────┼─────┼────────┼───────┼─────┼─────────────────────┼──────────────────────────────┼────┤\n",
       "│55 │Bell Sonecor JB700 Caller ID                                                                   │Michelle Lonsdale │5607 │¯50.33  │7.99   │5.03 │Nunavut              │Telephones and Communication  │0.6 │\n",
       "├───┼───────────────────────────────────────────────────────────────────────────────────────────────┼──────────────────┼─────┼────────┼───────┼─────┼─────────────────────┼──────────────────────────────┼────┤\n",
       "│56 │Avery Arch Ring Binders                                                                        │Ann Chong         │5894 │87.68   │58.1   │1.49 │Nunavut              │Binders and Binder Accessories│0.38│\n",
       "├───┼───────────────────────────────────────────────────────────────────────────────────────────────┼──────────────────┼─────┼────────┼───────┼─────┼─────────────────────┼──────────────────────────────┼────┤\n",
       "│57 │APC 7 Outlet Network SurgeArrest Surge Protector                                               │Ann Chong         │5894 │¯68.22  │80.48  │4.5  │Nunavut              │Appliances                    │0.55│\n",
       "├───┼───────────────────────────────────────────────────────────────────────────────────────────────┼──────────────────┼─────┼────────┼───────┼─────┼─────────────────────┼──────────────────────────────┼────┤\n",
       "│58 │Deflect-o RollaMat Studded, Beveled Mat for Medium Pile Carpeting                              │Joy Bell          │5925 │¯354.9  │92.23  │39.61│Nunavut              │Office Furnishings            │0.67│\n",
       "├───┼───────────────────────────────────────────────────────────────────────────────────────────────┼──────────────────┼─────┼────────┼───────┼─────┼─────────────────────┼──────────────────────────────┼────┤\n",
       "│59 │Accessory4                                                                                     │Joy Bell          │5925 │¯267.01 │85.99  │0.99 │Nunavut              │Telephones and Communication  │0.85│\n",
       "├───┼───────────────────────────────────────────────────────────────────────────────────────────────┼──────────────────┼─────┼────────┼───────┼─────┼─────────────────────┼──────────────────────────────┼────┤\n",
       "│60 │Personal Creations™ Ink Jet Cards and Labels                                                   │Skye Norling      │6016 │3.63    │11.48  │5.43 │Nunavut              │Paper                         │0.36│\n",
       "├───┼───────────────────────────────────────────────────────────────────────────────────────────────┼──────────────────┼─────┼────────┼───────┼─────┼─────────────────────┼──────────────────────────────┼────┤\n",
       "│61 │High Speed Automatic Electric Letter Opener                                                    │Barry Weirich     │6116 │¯1759.58│1637.53│24.49│Nunavut              │Scissors, Rulers and Trimmers │0.81│\n",
       "├───┼───────────────────────────────────────────────────────────────────────────────────────────────┼──────────────────┼─────┼────────┼───────┼─────┼─────────────────────┼──────────────────────────────┼────┤\n",
       "│62 │Xerox 1966                                                                                     │Grant Carroll     │6182 │¯116.79 │6.48   │6.65 │Nunavut              │Paper                         │0.36│\n",
       "├───┼───────────────────────────────────────────────────────────────────────────────────────────────┼──────────────────┼─────┼────────┼───────┼─────┼─────────────────────┼──────────────────────────────┼────┤\n",
       "│63 │Xerox 213                                                                                      │Grant Carroll     │6182 │¯67.28  │6.48   │7.86 │Nunavut              │Paper                         │0.37│\n",
       "├───┼───────────────────────────────────────────────────────────────────────────────────────────────┼──────────────────┼─────┼────────┼───────┼─────┼─────────────────────┼──────────────────────────────┼────┤\n",
       "│64 │Boston Electric Pencil Sharpener, Model 1818, Charcoal Black                                   │Adrian Hane       │6535 │¯19.33  │28.15  │8.99 │Nunavut              │Pens &amp; Art Supplies           │0.57│\n",
       "├───┼───────────────────────────────────────────────────────────────────────────────────────────────┼──────────────────┼─────┼────────┼───────┼─────┼─────────────────────┼──────────────────────────────┼────┤\n",
       "│65 │Hammermill CopyPlus Copy Paper (20Lb. and 84 Bright)                                           │Skye Norling      │6884 │¯61.21  │4.98   │4.75 │Nunavut              │Paper                         │0.36│\n",
       "├───┼───────────────────────────────────────────────────────────────────────────────────────────────┼──────────────────┼─────┼────────┼───────┼─────┼─────────────────────┼──────────────────────────────┼────┤\n",
       "│66 │Telephone Message Books with Fax/Mobile Section, 5 1/2\" x 3 3/16\"                              │Skye Norling      │6884 │119.09  │6.35   │1.02 │Nunavut              │Paper                         │0.39│\n",
       "├───┼───────────────────────────────────────────────────────────────────────────────────────────────┼──────────────────┼─────┼────────┼───────┼─────┼─────────────────────┼──────────────────────────────┼────┤\n",
       "│67 │Crate-A-Files™                                                                                 │Andrew Gjertsen   │6916 │¯141.27 │10.9   │7.46 │Nunavut              │Storage &amp; Organization        │0.59│\n",
       "├───┼───────────────────────────────────────────────────────────────────────────────────────────────┼──────────────────┼─────┼────────┼───────┼─────┼─────────────────────┼──────────────────────────────┼────┤\n",
       "│68 │Angle-D Binders with Locking Rings, Label Holders                                              │Ralph Knight      │6980 │¯77.28  │7.3    │7.72 │Nunavut              │Binders and Binder Accessories│0.38│\n",
       "├───┼───────────────────────────────────────────────────────────────────────────────────────────────┼──────────────────┼─────┼────────┼───────┼─────┼─────────────────────┼──────────────────────────────┼────┤\n",
       "│69 │80 Minute CD-R Spindle, 100/Pack - Staples                                                     │Dorothy Wardle    │6982 │407.44  │39.48  │1.99 │Nunavut              │Computer Peripherals          │0.54│\n",
       "├───┼───────────────────────────────────────────────────────────────────────────────────────────────┼──────────────────┼─────┼────────┼───────┼─────┼─────────────────────┼──────────────────────────────┼────┤\n",
       "│70 │Bush Westfield Collection Bookcases, Dark Cherry Finish, Fully Assembled                       │Dorothy Wardle    │6982 │¯338.27 │100.98 │57.38│Nunavut              │Bookcases                     │0.78│\n",
       "├───┼───────────────────────────────────────────────────────────────────────────────────────────────┼──────────────────┼─────┼────────┼───────┼─────┼─────────────────────┼──────────────────────────────┼────┤\n",
       "│71 │12-1/2 Diameter Round Wall Clock                                                               │Dorothy Wardle    │6982 │52.56   │19.98  │10.49│Nunavut              │Office Furnishings            │0.49│\n",
       "├───┼───────────────────────────────────────────────────────────────────────────────────────────────┼──────────────────┼─────┼────────┼───────┼─────┼─────────────────────┼──────────────────────────────┼────┤\n",
       "│72 │SAFCO Arco Folding Chair                                                                       │Grant Carroll     │7110 │1902.24 │276.2  │24.49│Nunavut              │Chairs &amp; Chairmats            │    │\n",
       "├───┼───────────────────────────────────────────────────────────────────────────────────────────────┼──────────────────┼─────┼────────┼───────┼─────┼─────────────────────┼──────────────────────────────┼────┤\n",
       "│73 │#10 White Business Envelopes,4 1/8 x 9 1/2                                                     │Barry Weirich     │7430 │353.2   │15.67  │1.39 │Nunavut              │Envelopes                     │0.38│\n",
       "├───┼───────────────────────────────────────────────────────────────────────────────────────────────┼──────────────────┼─────┼────────┼───────┼─────┼─────────────────────┼──────────────────────────────┼────┤\n",
       "│74 │3M Office Air Cleaner                                                                          │Beth Paige        │7906 │271.78  │25.98  │5.37 │Nunavut              │Appliances                    │0.5 │\n",
       "├───┼───────────────────────────────────────────────────────────────────────────────────────────────┼──────────────────┼─────┼────────┼───────┼─────┼─────────────────────┼──────────────────────────────┼────┤\n",
       "│75 │Global Leather and Oak Executive Chair, Black                                                  │Sylvia Foulston   │8391 │¯268.36 │300.98 │64.73│Nunavut              │Chairs &amp; Chairmats            │0.56│\n",
       "├───┼───────────────────────────────────────────────────────────────────────────────────────────────┼──────────────────┼─────┼────────┼───────┼─────┼─────────────────────┼──────────────────────────────┼────┤\n",
       "│76 │Xerox 1936                                                                                     │Nicole Hansen     │8419 │70.39   │19.98  │5.97 │Nunavut              │Paper                         │0.38│\n",
       "├───┼───────────────────────────────────────────────────────────────────────────────────────────────┼──────────────────┼─────┼────────┼───────┼─────┼─────────────────────┼──────────────────────────────┼────┤\n",
       "│77 │Xerox 214                                                                                      │Nicole Hansen     │8419 │¯86.62  │6.48   │7.03 │Nunavut              │Paper                         │0.37│\n",
       "├───┼───────────────────────────────────────────────────────────────────────────────────────────────┼──────────────────┼─────┼────────┼───────┼─────┼─────────────────────┼──────────────────────────────┼────┤\n",
       "│78 │Carina Double Wide Media Storage Towers in Natural &amp; Black                                     │Nicole Hansen     │8833 │¯846.73 │80.98  │35   │Nunavut              │Storage &amp; Organization        │0.81│\n",
       "├───┼───────────────────────────────────────────────────────────────────────────────────────────────┼──────────────────┼─────┼────────┼───────┼─────┼─────────────────────┼──────────────────────────────┼────┤\n",
       "│79 │Staples® General Use 3-Ring Binders                                                            │Beth Paige        │8995 │8.05    │1.88   │1.49 │Nunavut              │Binders and Binder Accessories│0.37│\n",
       "├───┼───────────────────────────────────────────────────────────────────────────────────────────────┼──────────────────┼─────┼────────┼───────┼─────┼─────────────────────┼──────────────────────────────┼────┤\n",
       "│80 │Xerox 1904                                                                                     │Beth Paige        │8995 │¯78.02  │6.48   │5.86 │Northwest Territories│Paper                         │0.36│\n",
       "├───┼───────────────────────────────────────────────────────────────────────────────────────────────┼──────────────────┼─────┼────────┼───────┼─────┼─────────────────────┼──────────────────────────────┼────┤\n",
       "│81 │Luxo Professional Combination Clamp-On Lamps                                                   │Beth Paige        │8995 │737.94  │102.3  │21.26│Northwest Territories│Office Furnishings            │0.59│\n",
       "├───┼───────────────────────────────────────────────────────────────────────────────────────────────┼──────────────────┼─────┼────────┼───────┼─────┼─────────────────────┼──────────────────────────────┼────┤\n",
       "│82 │Xerox 217                                                                                      │Beth Paige        │8995 │¯191.28 │6.48   │8.19 │Northwest Territories│Paper                         │0.37│\n",
       "├───┼───────────────────────────────────────────────────────────────────────────────────────────────┼──────────────────┼─────┼────────┼───────┼─────┼─────────────────────┼──────────────────────────────┼────┤\n",
       "│83 │Revere Boxed Rubber Bands by Revere                                                            │Beth Paige        │8995 │¯21.49  │1.89   │0.76 │Northwest Territories│Rubber Bands                  │0.83│\n",
       "├───┼───────────────────────────────────────────────────────────────────────────────────────────────┼──────────────────┼─────┼────────┼───────┼─────┼─────────────────────┼──────────────────────────────┼────┤\n",
       "│84 │Acco Smartsocket™ Table Surge Protector, 6 Color-Coded Adapter Outlets                         │Sylvia Foulston   │9126 │884.08  │62.05  │3.99 │Northwest Territories│Appliances                    │0.55│\n",
       "├───┼───────────────────────────────────────────────────────────────────────────────────────────────┼──────────────────┼─────┼────────┼───────┼─────┼─────────────────────┼──────────────────────────────┼────┤\n",
       "│85 │Tennsco Snap-Together Open Shelving Units, Starter Sets and Add-On Units                       │Bryan Davis       │9127 │¯329.49 │279.48 │35   │Northwest Territories│Storage &amp; Organization        │0.8 │\n",
       "├───┼───────────────────────────────────────────────────────────────────────────────────────────────┼──────────────────┼─────┼────────┼───────┼─────┼─────────────────────┼──────────────────────────────┼────┤\n",
       "│86 │Hon 4070 Series Pagoda™ Round Back Stacking Chairs                                             │Joy Bell          │9509 │2825.15 │320.98 │58.95│Northwest Territories│Chairs &amp; Chairmats            │0.57│\n",
       "├───┼───────────────────────────────────────────────────────────────────────────────────────────────┼──────────────────┼─────┼────────┼───────┼─────┼─────────────────────┼──────────────────────────────┼────┤\n",
       "│87 │Xerox 1887                                                                                     │Joy Bell          │9509 │2.13    │18.97  │5.21 │Northwest Territories│Paper                         │0.37│\n",
       "├───┼───────────────────────────────────────────────────────────────────────────────────────────────┼──────────────────┼─────┼────────┼───────┼─────┼─────────────────────┼──────────────────────────────┼────┤\n",
       "│88 │Xerox 1891                                                                                     │Joy Bell          │9509 │707.15  │48.91  │5.81 │Northwest Territories│Paper                         │0.38│\n",
       "├───┼───────────────────────────────────────────────────────────────────────────────────────────────┼──────────────────┼─────┼────────┼───────┼─────┼─────────────────────┼──────────────────────────────┼────┤\n",
       "│89 │Avery 506                                                                                      │Alan Barnes       │9763 │75.13   │4.13   │0.5  │Northwest Territories│Labels                        │0.39│\n",
       "├───┼───────────────────────────────────────────────────────────────────────────────────────────────┼──────────────────┼─────┼────────┼───────┼─────┼─────────────────────┼──────────────────────────────┼────┤\n",
       "│90 │Bush Heritage Pine Collection 5-Shelf Bookcase, Albany Pine Finish, *Special Order             │Grant Carroll     │9927 │¯270.63 │140.98 │53.48│Northwest Territories│Bookcases                     │0.65│\n",
       "├───┼───────────────────────────────────────────────────────────────────────────────────────────────┼──────────────────┼─────┼────────┼───────┼─────┼─────────────────────┼──────────────────────────────┼────┤\n",
       "│91 │Lifetime Advantage™ Folding Chairs, 4/Carton                                                   │Grant Carroll     │9927 │3387.35 │218.08 │18.06│Northwest Territories│Chairs &amp; Chairmats            │0.57│\n",
       "├───┼───────────────────────────────────────────────────────────────────────────────────────────────┼──────────────────┼─────┼────────┼───────┼─────┼─────────────────────┼──────────────────────────────┼────┤\n",
       "│92 │Microsoft Natural Multimedia Keyboard                                                          │Grant Carroll     │9927 │¯82.16  │50.98  │6.5  │Northwest Territories│Computer Peripherals          │0.73│\n",
       "├───┼───────────────────────────────────────────────────────────────────────────────────────────────┼──────────────────┼─────┼────────┼───────┼─────┼─────────────────────┼──────────────────────────────┼────┤\n",
       "│93 │Staples Wirebound Steno Books, 6\" x 9\", 12/Pack                                                │Delfina Latchford │10022│¯3.88   │10.14  │2.27 │Northwest Territories│Paper                         │0.36│\n",
       "├───┼───────────────────────────────────────────────────────────────────────────────────────────────┼──────────────────┼─────┼────────┼───────┼─────┼─────────────────────┼──────────────────────────────┼────┤\n",
       "│94 │GBC Pre-Punched Binding Paper, Plastic, White, 8-1/2\" x 11\"                                    │Don Jones         │10437│¯191.22 │15.99  │13.18│Northwest Territories│Binders and Binder Accessories│0.37│\n",
       "├───┼───────────────────────────────────────────────────────────────────────────────────────────────┼──────────────────┼─────┼────────┼───────┼─────┼─────────────────────┼──────────────────────────────┼────┤\n",
       "│95 │Bevis Boat-Shaped Conference Table                                                             │Doug Bickford     │10499│31.21   │262.11 │62.74│Northwest Territories│Tables                        │0.75│\n",
       "├───┼───────────────────────────────────────────────────────────────────────────────────────────────┼──────────────────┼─────┼────────┼───────┼─────┼─────────────────────┼──────────────────────────────┼────┤\n",
       "│96 │Linden® 12\" Wall Clock With Oak Frame                                                          │Doug Bickford     │10535│¯44.14  │33.98  │19.99│Northwest Territories│Office Furnishings            │0.55│\n",
       "├───┼───────────────────────────────────────────────────────────────────────────────────────────────┼──────────────────┼─────┼────────┼───────┼─────┼─────────────────────┼──────────────────────────────┼────┤\n",
       "│97 │Newell 326                                                                                     │Doug Bickford     │10535│¯0.79   │1.76   │0.7  │Northwest Territories│Pens &amp; Art Supplies           │0.56│\n",
       "├───┼───────────────────────────────────────────────────────────────────────────────────────────────┼──────────────────┼─────┼────────┼───────┼─────┼─────────────────────┼──────────────────────────────┼────┤\n",
       "│98 │Prismacolor Color Pencil Set                                                                   │Jamie Kunitz      │10789│76.42   │19.84  │4.1  │Northwest Territories│Pens &amp; Art Supplies           │0.44│\n",
       "├───┼───────────────────────────────────────────────────────────────────────────────────────────────┼──────────────────┼─────┼────────┼───────┼─────┼─────────────────────┼──────────────────────────────┼────┤\n",
       "│99 │Xerox Blank Computer Paper                                                                     │Anthony Johnson   │10791│93.36   │19.98  │5.77 │Northwest Territories│Paper                         │0.38│\n",
       "├───┼───────────────────────────────────────────────────────────────────────────────────────────────┼──────────────────┼─────┼────────┼───────┼─────┼─────────────────────┼──────────────────────────────┼────┤\n",
       "│100│600 Series Flip                                                                                │Ralph Knight      │10945│4.22    │95.99  │8.99 │Northwest Territories│Telephones and Communication  │0.57│\n",
       "└───┴───────────────────────────────────────────────────────────────────────────────────────────────┴──────────────────┴─────┴────────┴───────┴─────┴─────────────────────┴──────────────────────────────┴────┘\n",
       "</span>"
      ]
     },
     "execution_count": 24,
     "metadata": {},
     "output_type": "execute_result"
    }
   ],
   "source": [
    "{⎕CSV ⍵ ⍬ 4} 'data/Sample-Spreadsheet-100-rows.csv'"
   ]
  },
  {
   "cell_type": "markdown",
   "metadata": {},
   "source": [
    "## Huge k idioms list\n",
    "https://web.archive.org/web/20071230205056/http://kx.com/technical/contribs/eugene/kidioms.html"
   ]
  },
  {
   "cell_type": "markdown",
   "metadata": {},
   "source": [
    "## Odometer\n",
    "\n",
    "The obvious multivariate odometer is"
   ]
  },
  {
   "cell_type": "code",
   "execution_count": 7,
   "metadata": {},
   "outputs": [
    {
     "data": {
      "text/html": [
       "<span style=\"white-space:pre; font-family: monospace\">┌───┬───┬───┬───┬───┬───┬───┬───┬───┬───┬───┬───┬───┬───┬───┐\n",
       "│0 0│0 1│0 2│0 3│0 4│1 0│1 1│1 2│1 3│1 4│2 0│2 1│2 2│2 3│2 4│\n",
       "└───┴───┴───┴───┴───┴───┴───┴───┴───┴───┴───┴───┴───┴───┴───┘\n",
       "</span>"
      ]
     },
     "execution_count": 7,
     "metadata": {},
     "output_type": "execute_result"
    }
   ],
   "source": [
    "⎕IO←0\n",
    ",⍳3 5"
   ]
  },
  {
   "cell_type": "markdown",
   "metadata": {},
   "source": [
    "but it suffers from being both slow and topping out at 16 dimensions (unlikely to present a problem in run of the mill applications).\n",
    "\n",
    "A different way of approaching this is to use _encode_:"
   ]
  },
  {
   "cell_type": "code",
   "execution_count": 9,
   "metadata": {},
   "outputs": [
    {
     "data": {
      "text/html": [
       "<span style=\"white-space:pre; font-family: monospace\">┌───┬───┬───┬───┬───┬───┬───┬───┬───┬───┬───┬───┬───┬───┬───┐\n",
       "│0 0│0 1│0 2│0 3│0 4│1 0│1 1│1 2│1 3│1 4│2 0│2 1│2 2│2 3│2 4│\n",
       "└───┴───┴───┴───┴───┴───┴───┴───┴───┴───┴───┴───┴───┴───┴───┘\n",
       "</span>"
      ]
     },
     "execution_count": 9,
     "metadata": {},
     "output_type": "execute_result"
    }
   ],
   "source": [
    "⎕IO←0\n",
    "⊂[0]3 5⊤⍳3×5"
   ]
  },
  {
   "cell_type": "code",
   "execution_count": 10,
   "metadata": {},
   "outputs": [],
   "source": [
    "]dinput\n",
    "odo ← {\n",
    "    ⊂[0]⍵⊤⍳×/⍵\n",
    "}"
   ]
  },
  {
   "cell_type": "code",
   "execution_count": 11,
   "metadata": {},
   "outputs": [
    {
     "data": {
      "text/html": [
       "<span style=\"white-space:pre; font-family: monospace\">┌───┬───┬───┬───┬───┬───┬───┬───┬───┬───┬───┬───┬───┬───┬───┐\n",
       "│0 0│0 1│0 2│0 3│0 4│1 0│1 1│1 2│1 3│1 4│2 0│2 1│2 2│2 3│2 4│\n",
       "└───┴───┴───┴───┴───┴───┴───┴───┴───┴───┴───┴───┴───┴───┴───┘\n",
       "</span>"
      ]
     },
     "execution_count": 11,
     "metadata": {},
     "output_type": "execute_result"
    }
   ],
   "source": [
    "odo 3 5"
   ]
  },
  {
   "cell_type": "markdown",
   "metadata": {},
   "source": [
    "## Spiral\n",
    "\n",
    "Algorithm due to Graham, Knuth, and Patashnik.\n",
    "\n",
    "https://www.jsoftware.com/papers/play132.htm\n",
    "\n",
    "https://dl.acm.org/doi/pdf/10.1145/28315.28370#page=6"
   ]
  },
  {
   "cell_type": "code",
   "execution_count": 12,
   "metadata": {},
   "outputs": [
    {
     "data": {
      "text/html": [
       "<span style=\"white-space:pre; font-family: monospace\">21 22 23 24 25\n",
       "20  7  8  9 10\n",
       "19  6  1  2 11\n",
       "18  5  4  3 12\n",
       "17 16 15 14 13\n",
       "</span>"
      ]
     },
     "execution_count": 12,
     "metadata": {},
     "output_type": "execute_result"
    }
   ],
   "source": [
    "⎕IO←1\n",
    "{(2⍴⍵)∘⍴⍋+⍀∘∊(0,⊢×((≢⍴1 1 ¯1 ¯1⍨)×(≢⍴(1,⍵)⍨)))(⍸,)¨⍸3,⍨(⍵-2)⍴2}5"
   ]
  },
  {
   "cell_type": "markdown",
   "metadata": {},
   "source": [
    "Here's a different one, going the other way:"
   ]
  },
  {
   "cell_type": "code",
   "execution_count": 13,
   "metadata": {},
   "outputs": [
    {
     "data": {
      "text/html": [
       "<span style=\"white-space:pre; font-family: monospace\"> 1  2  3  4 5\n",
       "16 17 18 19 6\n",
       "15 24 25 20 7\n",
       "14 23 22 21 8\n",
       "13 12 11 10 9\n",
       "</span>"
      ]
     },
     "execution_count": 13,
     "metadata": {},
     "output_type": "execute_result"
    }
   ],
   "source": [
    "{⍵ ⍵⍴⍋(⍳⍵*2)[+\\a/(≢a←1↓⌽2/⍳⍵)⍴,∘-⍨1⍵]}5"
   ]
  },
  {
   "cell_type": "markdown",
   "metadata": {},
   "source": [
    "## Boolean vector twiddles\n",
    "\n",
    "Set all bits up to, and including, the first set bit, unset the rest:"
   ]
  },
  {
   "cell_type": "code",
   "execution_count": 1,
   "metadata": {},
   "outputs": [
    {
     "data": {
      "text/html": [
       "<pre class=\"language-APL\">0 1 0 1\n",
       "</pre>"
      ]
     },
     "execution_count": 1,
     "metadata": {},
     "output_type": "execute_result"
    },
    {
     "data": {
      "text/html": [
       "<pre class=\"language-APL\">1 1 0 0\n",
       "</pre>"
      ]
     },
     "execution_count": 1,
     "metadata": {},
     "output_type": "execute_result"
    }
   ],
   "source": [
    "⊢a←0 1 0 1\n",
    "(<\\∨∧\\⍤~)a"
   ]
  },
  {
   "cell_type": "markdown",
   "metadata": {},
   "source": [
    "An alterntive, shorter formulation:"
   ]
  },
  {
   "cell_type": "code",
   "execution_count": 2,
   "metadata": {},
   "outputs": [
    {
     "data": {
      "text/html": [
       "<pre class=\"language-APL\">1 1 0 0\n",
       "</pre>"
      ]
     },
     "execution_count": 2,
     "metadata": {},
     "output_type": "execute_result"
    }
   ],
   "source": [
    "(∨\\≤<\\)a"
   ]
  },
  {
   "cell_type": "markdown",
   "metadata": {},
   "source": [
    "## Efficient iota with vector argument\n",
    "\n",
    "Often you don't care about the shape of `⍳a b c ...` but only want the ravel data. Moreover, the iota is subject to Dyalog's max rank. Here's another way (note: only `⎕IO←0`, and note ordering not the same):"
   ]
  },
  {
   "cell_type": "code",
   "execution_count": 8,
   "metadata": {},
   "outputs": [
    {
     "data": {
      "text/html": [
       "<pre class=\"language-APL\">┌─────┬─────┬─────┬─────┬─────┬─────┬─────┬─────┬─────┬─────┬─────┬─────┬─────┬\n",
       "│0 0 1│0 0 2│0 1 0│0 1 1│0 1 2│0 2 0│0 2 1│0 2 2│1 0 0│1 0 1│1 0 2│1 1 0│1 1 1│\n",
       "└─────┴─────┴─────┴─────┴─────┴─────┴─────┴─────┴─────┴─────┴─────┴─────┴─────┴\n",
       "      ─────┬─────┬─────┬─────┬─────┬─────┬─────┬─────┬─────┬─────┬─────┬─────┬─\n",
       "      1 1 2│1 2 0│1 2 1│1 2 2│2 0 0│2 0 1│2 0 2│2 1 0│2 1 1│2 1 2│2 2 0│2 2 1│2\n",
       "      ─────┴─────┴─────┴─────┴─────┴─────┴─────┴─────┴─────┴─────┴─────┴─────┴─\n",
       "      ────┬─────┐\n",
       "       2 2│0 0 0│\n",
       "      ────┴─────┘\n",
       "</pre>"
      ]
     },
     "execution_count": 8,
     "metadata": {},
     "output_type": "execute_result"
    }
   ],
   "source": [
    "↓⍉(⊢⊤∘⍳×/) 3 3 3"
   ]
  },
  {
   "cell_type": "code",
   "execution_count": 9,
   "metadata": {},
   "outputs": [
    {
     "data": {
      "text/html": [
       "<pre class=\"language-APL\">┌─────┬─────┬─────┬─────┬─────┬─────┬─────┬─────┬─────┬─────┬─────┬─────┬─────┬\n",
       "│0 0 1│0 0 2│0 1 0│0 1 1│0 1 2│0 2 0│0 2 1│0 2 2│1 0 0│1 0 1│1 0 2│1 1 0│1 1 1│\n",
       "└─────┴─────┴─────┴─────┴─────┴─────┴─────┴─────┴─────┴─────┴─────┴─────┴─────┴\n",
       "      ─────┬─────┬─────┬─────┬─────┬─────┬─────┬─────┬─────┬─────┬─────┬─────┬─\n",
       "      1 1 2│1 2 0│1 2 1│1 2 2│2 0 0│2 0 1│2 0 2│2 1 0│2 1 1│2 1 2│2 2 0│2 2 1│2\n",
       "      ─────┴─────┴─────┴─────┴─────┴─────┴─────┴─────┴─────┴─────┴─────┴─────┴─\n",
       "      ────┬─────┐\n",
       "       2 2│0 0 0│\n",
       "      ────┴─────┘\n",
       "</pre>"
      ]
     },
     "execution_count": 9,
     "metadata": {},
     "output_type": "execute_result"
    }
   ],
   "source": [
    "↓⍉3 3 3⊤⍳×/3 3 3 ⍝ Explicit form"
   ]
  },
  {
   "cell_type": "markdown",
   "metadata": {},
   "source": [
    "## Arbitrarily merge two strings, given pattern"
   ]
  },
  {
   "cell_type": "code",
   "execution_count": 1,
   "metadata": {},
   "outputs": [
    {
     "data": {
      "text/html": [
       "<pre class=\"language-APL\">fooqwexyz\n",
       "</pre>"
      ]
     },
     "execution_count": 1,
     "metadata": {},
     "output_type": "execute_result"
    }
   ],
   "source": [
    "(⊂⍋⍋0 0 0 1 1 1 0 0 0)⌷'fooxyz','qwe'"
   ]
  },
  {
   "cell_type": "code",
   "execution_count": 2,
   "metadata": {},
   "outputs": [
    {
     "data": {
      "text/html": [
       "<pre class=\"language-APL\">fooqwexyz\n",
       "</pre>"
      ]
     },
     "execution_count": 2,
     "metadata": {},
     "output_type": "execute_result"
    }
   ],
   "source": [
    "3(↑,'qwe',↓)'fooxyz'"
   ]
  },
  {
   "cell_type": "code",
   "execution_count": 3,
   "metadata": {},
   "outputs": [
    {
     "data": {
      "text/html": [
       "<pre class=\"language-APL\">0\n",
       "</pre>"
      ]
     },
     "execution_count": 3,
     "metadata": {},
     "output_type": "execute_result"
    }
   ],
   "source": [
    "{0::0 ⋄ ≢⎕NEW⊂'HTMLRenderer'}⍬"
   ]
  },
  {
   "cell_type": "code",
   "execution_count": null,
   "metadata": {},
   "outputs": [],
   "source": []
  }
 ],
 "metadata": {
  "kernelspec": {
   "display_name": "Dyalog APL",
   "language": "apl",
   "name": "dyalog-kernel"
  },
  "language_info": {
   "file_extension": ".apl",
   "mimetype": "text/apl",
   "name": "APL"
  }
 },
 "nbformat": 4,
 "nbformat_minor": 2
}
